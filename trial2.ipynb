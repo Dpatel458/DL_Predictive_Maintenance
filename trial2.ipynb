{
 "cells": [
  {
   "cell_type": "code",
   "execution_count": 1,
   "id": "d03e2672",
   "metadata": {},
   "outputs": [
    {
     "data": {
      "text/plain": [
       "5"
      ]
     },
     "execution_count": 1,
     "metadata": {},
     "output_type": "execute_result"
    }
   ],
   "source": [
    "5"
   ]
  },
  {
   "cell_type": "code",
   "execution_count": 2,
   "id": "129ac8a5",
   "metadata": {},
   "outputs": [],
   "source": [
    "import numpy as np\n",
    "import pandas as pd\n",
    "import tensorflow as tf"
   ]
  },
  {
   "cell_type": "markdown",
   "id": "1fe8691d",
   "metadata": {},
   "source": [
    "# Data"
   ]
  },
  {
   "cell_type": "code",
   "execution_count": 33,
   "id": "0ed8ae5b",
   "metadata": {},
   "outputs": [],
   "source": [
    "df = pd.read_csv('Maintenance_Info2.csv')"
   ]
  },
  {
   "cell_type": "code",
   "execution_count": 34,
   "id": "0099f43a",
   "metadata": {},
   "outputs": [
    {
     "data": {
      "application/vnd.microsoft.datawrangler.viewer.v0+json": {
       "columns": [
        {
         "name": "index",
         "rawType": "int64",
         "type": "integer"
        },
        {
         "name": "UDI",
         "rawType": "int64",
         "type": "integer"
        },
        {
         "name": "Product ID",
         "rawType": "object",
         "type": "string"
        },
        {
         "name": "Type",
         "rawType": "object",
         "type": "string"
        },
        {
         "name": "Air temperature [K]",
         "rawType": "float64",
         "type": "float"
        },
        {
         "name": "Process temperature [K]",
         "rawType": "float64",
         "type": "float"
        },
        {
         "name": "Rotational speed [rpm]",
         "rawType": "int64",
         "type": "integer"
        },
        {
         "name": "Torque [Nm]",
         "rawType": "float64",
         "type": "float"
        },
        {
         "name": "Tool wear [min]",
         "rawType": "int64",
         "type": "integer"
        },
        {
         "name": "Target",
         "rawType": "int64",
         "type": "integer"
        },
        {
         "name": "Failure Type",
         "rawType": "object",
         "type": "string"
        }
       ],
       "ref": "f37f20e5-aaf2-469f-8567-710aa5f30eba",
       "rows": [
        [
         "0",
         "1",
         "M14860",
         "M",
         "298.1",
         "308.6",
         "1551",
         "42.8",
         "0",
         "0",
         "No Failure"
        ],
        [
         "1",
         "2",
         "L47181",
         "L",
         "298.2",
         "308.7",
         "1408",
         "46.3",
         "3",
         "0",
         "No Failure"
        ],
        [
         "2",
         "3",
         "L47182",
         "L",
         "298.1",
         "308.5",
         "1498",
         "49.4",
         "5",
         "0",
         "No Failure"
        ],
        [
         "3",
         "4",
         "L47183",
         "L",
         "298.2",
         "308.6",
         "1433",
         "39.5",
         "7",
         "0",
         "No Failure"
        ],
        [
         "4",
         "5",
         "L47184",
         "L",
         "298.2",
         "308.7",
         "1408",
         "40.0",
         "9",
         "0",
         "No Failure"
        ]
       ],
       "shape": {
        "columns": 10,
        "rows": 5
       }
      },
      "text/html": [
       "<div>\n",
       "<style scoped>\n",
       "    .dataframe tbody tr th:only-of-type {\n",
       "        vertical-align: middle;\n",
       "    }\n",
       "\n",
       "    .dataframe tbody tr th {\n",
       "        vertical-align: top;\n",
       "    }\n",
       "\n",
       "    .dataframe thead th {\n",
       "        text-align: right;\n",
       "    }\n",
       "</style>\n",
       "<table border=\"1\" class=\"dataframe\">\n",
       "  <thead>\n",
       "    <tr style=\"text-align: right;\">\n",
       "      <th></th>\n",
       "      <th>UDI</th>\n",
       "      <th>Product ID</th>\n",
       "      <th>Type</th>\n",
       "      <th>Air temperature [K]</th>\n",
       "      <th>Process temperature [K]</th>\n",
       "      <th>Rotational speed [rpm]</th>\n",
       "      <th>Torque [Nm]</th>\n",
       "      <th>Tool wear [min]</th>\n",
       "      <th>Target</th>\n",
       "      <th>Failure Type</th>\n",
       "    </tr>\n",
       "  </thead>\n",
       "  <tbody>\n",
       "    <tr>\n",
       "      <th>0</th>\n",
       "      <td>1</td>\n",
       "      <td>M14860</td>\n",
       "      <td>M</td>\n",
       "      <td>298.1</td>\n",
       "      <td>308.6</td>\n",
       "      <td>1551</td>\n",
       "      <td>42.8</td>\n",
       "      <td>0</td>\n",
       "      <td>0</td>\n",
       "      <td>No Failure</td>\n",
       "    </tr>\n",
       "    <tr>\n",
       "      <th>1</th>\n",
       "      <td>2</td>\n",
       "      <td>L47181</td>\n",
       "      <td>L</td>\n",
       "      <td>298.2</td>\n",
       "      <td>308.7</td>\n",
       "      <td>1408</td>\n",
       "      <td>46.3</td>\n",
       "      <td>3</td>\n",
       "      <td>0</td>\n",
       "      <td>No Failure</td>\n",
       "    </tr>\n",
       "    <tr>\n",
       "      <th>2</th>\n",
       "      <td>3</td>\n",
       "      <td>L47182</td>\n",
       "      <td>L</td>\n",
       "      <td>298.1</td>\n",
       "      <td>308.5</td>\n",
       "      <td>1498</td>\n",
       "      <td>49.4</td>\n",
       "      <td>5</td>\n",
       "      <td>0</td>\n",
       "      <td>No Failure</td>\n",
       "    </tr>\n",
       "    <tr>\n",
       "      <th>3</th>\n",
       "      <td>4</td>\n",
       "      <td>L47183</td>\n",
       "      <td>L</td>\n",
       "      <td>298.2</td>\n",
       "      <td>308.6</td>\n",
       "      <td>1433</td>\n",
       "      <td>39.5</td>\n",
       "      <td>7</td>\n",
       "      <td>0</td>\n",
       "      <td>No Failure</td>\n",
       "    </tr>\n",
       "    <tr>\n",
       "      <th>4</th>\n",
       "      <td>5</td>\n",
       "      <td>L47184</td>\n",
       "      <td>L</td>\n",
       "      <td>298.2</td>\n",
       "      <td>308.7</td>\n",
       "      <td>1408</td>\n",
       "      <td>40.0</td>\n",
       "      <td>9</td>\n",
       "      <td>0</td>\n",
       "      <td>No Failure</td>\n",
       "    </tr>\n",
       "  </tbody>\n",
       "</table>\n",
       "</div>"
      ],
      "text/plain": [
       "   UDI Product ID Type  Air temperature [K]  Process temperature [K]  \\\n",
       "0    1     M14860    M                298.1                    308.6   \n",
       "1    2     L47181    L                298.2                    308.7   \n",
       "2    3     L47182    L                298.1                    308.5   \n",
       "3    4     L47183    L                298.2                    308.6   \n",
       "4    5     L47184    L                298.2                    308.7   \n",
       "\n",
       "   Rotational speed [rpm]  Torque [Nm]  Tool wear [min]  Target Failure Type  \n",
       "0                    1551         42.8                0       0   No Failure  \n",
       "1                    1408         46.3                3       0   No Failure  \n",
       "2                    1498         49.4                5       0   No Failure  \n",
       "3                    1433         39.5                7       0   No Failure  \n",
       "4                    1408         40.0                9       0   No Failure  "
      ]
     },
     "execution_count": 34,
     "metadata": {},
     "output_type": "execute_result"
    }
   ],
   "source": [
    "df.head()"
   ]
  },
  {
   "cell_type": "code",
   "execution_count": 35,
   "id": "20b7d88b",
   "metadata": {},
   "outputs": [],
   "source": [
    "df.dropna(inplace=True)"
   ]
  },
  {
   "cell_type": "code",
   "execution_count": 36,
   "id": "7f42101b",
   "metadata": {},
   "outputs": [],
   "source": [
    "df = df.drop(columns=['UDI','Product ID','Target'])\n"
   ]
  },
  {
   "cell_type": "code",
   "execution_count": 37,
   "id": "a3c9ae27",
   "metadata": {},
   "outputs": [
    {
     "data": {
      "application/vnd.microsoft.datawrangler.viewer.v0+json": {
       "columns": [
        {
         "name": "index",
         "rawType": "int64",
         "type": "integer"
        },
        {
         "name": "Type",
         "rawType": "object",
         "type": "string"
        },
        {
         "name": "Air temperature [K]",
         "rawType": "float64",
         "type": "float"
        },
        {
         "name": "Process temperature [K]",
         "rawType": "float64",
         "type": "float"
        },
        {
         "name": "Rotational speed [rpm]",
         "rawType": "int64",
         "type": "integer"
        },
        {
         "name": "Torque [Nm]",
         "rawType": "float64",
         "type": "float"
        },
        {
         "name": "Tool wear [min]",
         "rawType": "int64",
         "type": "integer"
        },
        {
         "name": "Failure Type",
         "rawType": "object",
         "type": "string"
        }
       ],
       "ref": "b55f00c1-768b-4bf8-900c-2279619dee46",
       "rows": [
        [
         "0",
         "M",
         "298.1",
         "308.6",
         "1551",
         "42.8",
         "0",
         "No Failure"
        ],
        [
         "1",
         "L",
         "298.2",
         "308.7",
         "1408",
         "46.3",
         "3",
         "No Failure"
        ],
        [
         "2",
         "L",
         "298.1",
         "308.5",
         "1498",
         "49.4",
         "5",
         "No Failure"
        ],
        [
         "3",
         "L",
         "298.2",
         "308.6",
         "1433",
         "39.5",
         "7",
         "No Failure"
        ],
        [
         "4",
         "L",
         "298.2",
         "308.7",
         "1408",
         "40.0",
         "9",
         "No Failure"
        ]
       ],
       "shape": {
        "columns": 7,
        "rows": 5
       }
      },
      "text/html": [
       "<div>\n",
       "<style scoped>\n",
       "    .dataframe tbody tr th:only-of-type {\n",
       "        vertical-align: middle;\n",
       "    }\n",
       "\n",
       "    .dataframe tbody tr th {\n",
       "        vertical-align: top;\n",
       "    }\n",
       "\n",
       "    .dataframe thead th {\n",
       "        text-align: right;\n",
       "    }\n",
       "</style>\n",
       "<table border=\"1\" class=\"dataframe\">\n",
       "  <thead>\n",
       "    <tr style=\"text-align: right;\">\n",
       "      <th></th>\n",
       "      <th>Type</th>\n",
       "      <th>Air temperature [K]</th>\n",
       "      <th>Process temperature [K]</th>\n",
       "      <th>Rotational speed [rpm]</th>\n",
       "      <th>Torque [Nm]</th>\n",
       "      <th>Tool wear [min]</th>\n",
       "      <th>Failure Type</th>\n",
       "    </tr>\n",
       "  </thead>\n",
       "  <tbody>\n",
       "    <tr>\n",
       "      <th>0</th>\n",
       "      <td>M</td>\n",
       "      <td>298.1</td>\n",
       "      <td>308.6</td>\n",
       "      <td>1551</td>\n",
       "      <td>42.8</td>\n",
       "      <td>0</td>\n",
       "      <td>No Failure</td>\n",
       "    </tr>\n",
       "    <tr>\n",
       "      <th>1</th>\n",
       "      <td>L</td>\n",
       "      <td>298.2</td>\n",
       "      <td>308.7</td>\n",
       "      <td>1408</td>\n",
       "      <td>46.3</td>\n",
       "      <td>3</td>\n",
       "      <td>No Failure</td>\n",
       "    </tr>\n",
       "    <tr>\n",
       "      <th>2</th>\n",
       "      <td>L</td>\n",
       "      <td>298.1</td>\n",
       "      <td>308.5</td>\n",
       "      <td>1498</td>\n",
       "      <td>49.4</td>\n",
       "      <td>5</td>\n",
       "      <td>No Failure</td>\n",
       "    </tr>\n",
       "    <tr>\n",
       "      <th>3</th>\n",
       "      <td>L</td>\n",
       "      <td>298.2</td>\n",
       "      <td>308.6</td>\n",
       "      <td>1433</td>\n",
       "      <td>39.5</td>\n",
       "      <td>7</td>\n",
       "      <td>No Failure</td>\n",
       "    </tr>\n",
       "    <tr>\n",
       "      <th>4</th>\n",
       "      <td>L</td>\n",
       "      <td>298.2</td>\n",
       "      <td>308.7</td>\n",
       "      <td>1408</td>\n",
       "      <td>40.0</td>\n",
       "      <td>9</td>\n",
       "      <td>No Failure</td>\n",
       "    </tr>\n",
       "  </tbody>\n",
       "</table>\n",
       "</div>"
      ],
      "text/plain": [
       "  Type  Air temperature [K]  Process temperature [K]  Rotational speed [rpm]  \\\n",
       "0    M                298.1                    308.6                    1551   \n",
       "1    L                298.2                    308.7                    1408   \n",
       "2    L                298.1                    308.5                    1498   \n",
       "3    L                298.2                    308.6                    1433   \n",
       "4    L                298.2                    308.7                    1408   \n",
       "\n",
       "   Torque [Nm]  Tool wear [min] Failure Type  \n",
       "0         42.8                0   No Failure  \n",
       "1         46.3                3   No Failure  \n",
       "2         49.4                5   No Failure  \n",
       "3         39.5                7   No Failure  \n",
       "4         40.0                9   No Failure  "
      ]
     },
     "execution_count": 37,
     "metadata": {},
     "output_type": "execute_result"
    }
   ],
   "source": [
    "df.head()"
   ]
  },
  {
   "cell_type": "code",
   "execution_count": 38,
   "id": "8e7060e2",
   "metadata": {},
   "outputs": [
    {
     "data": {
      "text/plain": [
       "Index(['Type', 'Air temperature [K]', 'Process temperature [K]',\n",
       "       'Rotational speed [rpm]', 'Torque [Nm]', 'Tool wear [min]',\n",
       "       'Failure Type'],\n",
       "      dtype='object')"
      ]
     },
     "execution_count": 38,
     "metadata": {},
     "output_type": "execute_result"
    }
   ],
   "source": [
    "df.columns"
   ]
  },
  {
   "cell_type": "code",
   "execution_count": 39,
   "id": "ad8291ea",
   "metadata": {},
   "outputs": [
    {
     "data": {
      "application/vnd.microsoft.datawrangler.viewer.v0+json": {
       "columns": [
        {
         "name": "index",
         "rawType": "int64",
         "type": "integer"
        },
        {
         "name": "Type",
         "rawType": "int32",
         "type": "integer"
        },
        {
         "name": "Air temperature [K]",
         "rawType": "float64",
         "type": "float"
        },
        {
         "name": "Process temperature [K]",
         "rawType": "float64",
         "type": "float"
        },
        {
         "name": "Rotational speed [rpm]",
         "rawType": "int64",
         "type": "integer"
        },
        {
         "name": "Torque [Nm]",
         "rawType": "float64",
         "type": "float"
        },
        {
         "name": "Tool wear [min]",
         "rawType": "int64",
         "type": "integer"
        },
        {
         "name": "Failure Type",
         "rawType": "object",
         "type": "string"
        }
       ],
       "ref": "8e579d43-588d-40eb-b0ad-38fc7041bbe6",
       "rows": [
        [
         "0",
         "2",
         "298.1",
         "308.6",
         "1551",
         "42.8",
         "0",
         "No Failure"
        ],
        [
         "1",
         "1",
         "298.2",
         "308.7",
         "1408",
         "46.3",
         "3",
         "No Failure"
        ],
        [
         "2",
         "1",
         "298.1",
         "308.5",
         "1498",
         "49.4",
         "5",
         "No Failure"
        ],
        [
         "3",
         "1",
         "298.2",
         "308.6",
         "1433",
         "39.5",
         "7",
         "No Failure"
        ],
        [
         "4",
         "1",
         "298.2",
         "308.7",
         "1408",
         "40.0",
         "9",
         "No Failure"
        ]
       ],
       "shape": {
        "columns": 7,
        "rows": 5
       }
      },
      "text/html": [
       "<div>\n",
       "<style scoped>\n",
       "    .dataframe tbody tr th:only-of-type {\n",
       "        vertical-align: middle;\n",
       "    }\n",
       "\n",
       "    .dataframe tbody tr th {\n",
       "        vertical-align: top;\n",
       "    }\n",
       "\n",
       "    .dataframe thead th {\n",
       "        text-align: right;\n",
       "    }\n",
       "</style>\n",
       "<table border=\"1\" class=\"dataframe\">\n",
       "  <thead>\n",
       "    <tr style=\"text-align: right;\">\n",
       "      <th></th>\n",
       "      <th>Type</th>\n",
       "      <th>Air temperature [K]</th>\n",
       "      <th>Process temperature [K]</th>\n",
       "      <th>Rotational speed [rpm]</th>\n",
       "      <th>Torque [Nm]</th>\n",
       "      <th>Tool wear [min]</th>\n",
       "      <th>Failure Type</th>\n",
       "    </tr>\n",
       "  </thead>\n",
       "  <tbody>\n",
       "    <tr>\n",
       "      <th>0</th>\n",
       "      <td>2</td>\n",
       "      <td>298.1</td>\n",
       "      <td>308.6</td>\n",
       "      <td>1551</td>\n",
       "      <td>42.8</td>\n",
       "      <td>0</td>\n",
       "      <td>No Failure</td>\n",
       "    </tr>\n",
       "    <tr>\n",
       "      <th>1</th>\n",
       "      <td>1</td>\n",
       "      <td>298.2</td>\n",
       "      <td>308.7</td>\n",
       "      <td>1408</td>\n",
       "      <td>46.3</td>\n",
       "      <td>3</td>\n",
       "      <td>No Failure</td>\n",
       "    </tr>\n",
       "    <tr>\n",
       "      <th>2</th>\n",
       "      <td>1</td>\n",
       "      <td>298.1</td>\n",
       "      <td>308.5</td>\n",
       "      <td>1498</td>\n",
       "      <td>49.4</td>\n",
       "      <td>5</td>\n",
       "      <td>No Failure</td>\n",
       "    </tr>\n",
       "    <tr>\n",
       "      <th>3</th>\n",
       "      <td>1</td>\n",
       "      <td>298.2</td>\n",
       "      <td>308.6</td>\n",
       "      <td>1433</td>\n",
       "      <td>39.5</td>\n",
       "      <td>7</td>\n",
       "      <td>No Failure</td>\n",
       "    </tr>\n",
       "    <tr>\n",
       "      <th>4</th>\n",
       "      <td>1</td>\n",
       "      <td>298.2</td>\n",
       "      <td>308.7</td>\n",
       "      <td>1408</td>\n",
       "      <td>40.0</td>\n",
       "      <td>9</td>\n",
       "      <td>No Failure</td>\n",
       "    </tr>\n",
       "  </tbody>\n",
       "</table>\n",
       "</div>"
      ],
      "text/plain": [
       "   Type  Air temperature [K]  Process temperature [K]  Rotational speed [rpm]  \\\n",
       "0     2                298.1                    308.6                    1551   \n",
       "1     1                298.2                    308.7                    1408   \n",
       "2     1                298.1                    308.5                    1498   \n",
       "3     1                298.2                    308.6                    1433   \n",
       "4     1                298.2                    308.7                    1408   \n",
       "\n",
       "   Torque [Nm]  Tool wear [min] Failure Type  \n",
       "0         42.8                0   No Failure  \n",
       "1         46.3                3   No Failure  \n",
       "2         49.4                5   No Failure  \n",
       "3         39.5                7   No Failure  \n",
       "4         40.0                9   No Failure  "
      ]
     },
     "execution_count": 39,
     "metadata": {},
     "output_type": "execute_result"
    }
   ],
   "source": [
    "# Label encoding the 'Type' column and 'Failure Type' column\n",
    "from sklearn.preprocessing import LabelEncoder\n",
    "le = LabelEncoder()\n",
    "\n",
    "df['Type'] = le.fit_transform(df['Type'])\n",
    "# df['Failure Type'] = le.fit_transform(df['Failure Type'])\n",
    "df.head()"
   ]
  },
  {
   "cell_type": "code",
   "execution_count": 40,
   "id": "4cd47320",
   "metadata": {},
   "outputs": [
    {
     "data": {
      "application/vnd.microsoft.datawrangler.viewer.v0+json": {
       "columns": [
        {
         "name": "Failure Type",
         "rawType": "object",
         "type": "string"
        },
        {
         "name": "count",
         "rawType": "int64",
         "type": "integer"
        }
       ],
       "ref": "e628506a-751d-4703-a2a4-6b218f364f17",
       "rows": [
        [
         "No Failure",
         "9652"
        ],
        [
         "Heat Dissipation Failure",
         "112"
        ],
        [
         "Power Failure",
         "95"
        ],
        [
         "Overstrain Failure",
         "78"
        ],
        [
         "Tool Wear Failure",
         "45"
        ],
        [
         "Random Failures",
         "18"
        ]
       ],
       "shape": {
        "columns": 1,
        "rows": 6
       }
      },
      "text/plain": [
       "Failure Type\n",
       "No Failure                  9652\n",
       "Heat Dissipation Failure     112\n",
       "Power Failure                 95\n",
       "Overstrain Failure            78\n",
       "Tool Wear Failure             45\n",
       "Random Failures               18\n",
       "Name: count, dtype: int64"
      ]
     },
     "execution_count": 40,
     "metadata": {},
     "output_type": "execute_result"
    }
   ],
   "source": [
    "df['Failure Type'].value_counts()"
   ]
  },
  {
   "cell_type": "code",
   "execution_count": 41,
   "id": "79c667ff",
   "metadata": {},
   "outputs": [
    {
     "data": {
      "application/vnd.microsoft.datawrangler.viewer.v0+json": {
       "columns": [
        {
         "name": "Failure Type",
         "rawType": "object",
         "type": "string"
        },
        {
         "name": "count",
         "rawType": "int64",
         "type": "integer"
        }
       ],
       "ref": "c588223d-efb9-401d-84df-d536f51879ce",
       "rows": [
        [
         "No Failure",
         "9652"
        ],
        [
         "Heat Dissipation Failure",
         "112"
        ],
        [
         "Power Failure",
         "95"
        ],
        [
         "Overstrain Failure",
         "78"
        ],
        [
         "Tool Wear Failure",
         "45"
        ],
        [
         "Random Failures",
         "18"
        ]
       ],
       "shape": {
        "columns": 1,
        "rows": 6
       }
      },
      "text/plain": [
       "Failure Type\n",
       "No Failure                  9652\n",
       "Heat Dissipation Failure     112\n",
       "Power Failure                 95\n",
       "Overstrain Failure            78\n",
       "Tool Wear Failure             45\n",
       "Random Failures               18\n",
       "Name: count, dtype: int64"
      ]
     },
     "execution_count": 41,
     "metadata": {},
     "output_type": "execute_result"
    }
   ],
   "source": [
    "df_temp = pd.read_csv('Maintenance_Info2.csv')\n",
    "df_temp['Failure Type'].value_counts()"
   ]
  },
  {
   "cell_type": "markdown",
   "id": "ab6438bc",
   "metadata": {},
   "source": [
    "# SMOTE Boderline"
   ]
  },
  {
   "cell_type": "code",
   "execution_count": 42,
   "id": "01fc3f31",
   "metadata": {},
   "outputs": [],
   "source": [
    "X = df.drop('Failure Type', axis=1)\n",
    "# X = X.drop('Target', axis=1)  \n",
    "# X = X.drop('Tool wear [min]', axis=1)\n",
    "y = df['Failure Type']"
   ]
  },
  {
   "cell_type": "code",
   "execution_count": null,
   "id": "e59db0f8",
   "metadata": {},
   "outputs": [],
   "source": []
  },
  {
   "cell_type": "code",
   "execution_count": 43,
   "id": "33bafb41",
   "metadata": {},
   "outputs": [],
   "source": [
    "from sklearn.model_selection import train_test_split\n",
    "X_train, X_test, y_train, y_test = train_test_split(X, y, test_size=0.2, stratify=y, random_state=42)"
   ]
  },
  {
   "cell_type": "code",
   "execution_count": 44,
   "id": "90995a60",
   "metadata": {},
   "outputs": [
    {
     "name": "stdout",
     "output_type": "stream",
     "text": [
      "Before Borderline-SMOTE: Counter({'No Failure': 7722, 'Heat Dissipation Failure': 90, 'Power Failure': 76, 'Overstrain Failure': 62, 'Tool Wear Failure': 36, 'Random Failures': 14})\n"
     ]
    }
   ],
   "source": [
    "from imblearn.over_sampling import BorderlineSMOTE\n",
    "from collections import Counter\n",
    "\n",
    "print(\"Before Borderline-SMOTE:\", Counter(y_train))"
   ]
  },
  {
   "cell_type": "code",
   "execution_count": 45,
   "id": "2e4043e3",
   "metadata": {},
   "outputs": [],
   "source": [
    "X_train_preprocessed = X_train.copy()"
   ]
  },
  {
   "cell_type": "code",
   "execution_count": 48,
   "id": "8fe27c59",
   "metadata": {},
   "outputs": [],
   "source": [
    "sampling_strategy = {\n",
    "    'Tool Wear Failure': 4000,\n",
    "    'Overstrain Failure': 4000,\n",
    "    'Heat Dissipation Failure': 4000,\n",
    "    'Power Failure': 4000,\n",
    "    'Random Failures': 4000\n",
    "}"
   ]
  },
  {
   "cell_type": "code",
   "execution_count": 49,
   "id": "1c14af85",
   "metadata": {},
   "outputs": [],
   "source": [
    "smote = BorderlineSMOTE(sampling_strategy=sampling_strategy, random_state=42)\n",
    "X_resampled, y_resampled = smote.fit_resample(X_train_preprocessed, y_train)"
   ]
  },
  {
   "cell_type": "code",
   "execution_count": 50,
   "id": "962cac83",
   "metadata": {},
   "outputs": [
    {
     "name": "stdout",
     "output_type": "stream",
     "text": [
      "After Borderline-SMOTE: Counter({'No Failure': 7722, 'Tool Wear Failure': 4000, 'Power Failure': 4000, 'Heat Dissipation Failure': 4000, 'Overstrain Failure': 4000, 'Random Failures': 14})\n",
      "Shape of X_resampled: (23736, 6)\n"
     ]
    }
   ],
   "source": [
    "print(\"After Borderline-SMOTE:\", Counter(y_resampled))\n",
    "\n",
    "print(\"Shape of X_resampled:\", X_resampled.shape)"
   ]
  },
  {
   "cell_type": "code",
   "execution_count": 51,
   "id": "8c0d666f",
   "metadata": {},
   "outputs": [
    {
     "data": {
      "application/vnd.microsoft.datawrangler.viewer.v0+json": {
       "columns": [
        {
         "name": "index",
         "rawType": "int64",
         "type": "integer"
        },
        {
         "name": "Type",
         "rawType": "int32",
         "type": "integer"
        },
        {
         "name": "Air temperature [K]",
         "rawType": "float64",
         "type": "float"
        },
        {
         "name": "Process temperature [K]",
         "rawType": "float64",
         "type": "float"
        },
        {
         "name": "Rotational speed [rpm]",
         "rawType": "int64",
         "type": "integer"
        },
        {
         "name": "Torque [Nm]",
         "rawType": "float64",
         "type": "float"
        },
        {
         "name": "Tool wear [min]",
         "rawType": "int64",
         "type": "integer"
        }
       ],
       "ref": "b0948c38-b173-4863-b115-07dc24e0f0d4",
       "rows": [
        [
         "0",
         "2",
         "300.4",
         "311.8",
         "1362",
         "47.6",
         "188"
        ],
        [
         "1",
         "2",
         "299.7",
         "309.3",
         "1399",
         "41.9",
         "221"
        ],
        [
         "2",
         "2",
         "301.8",
         "309.6",
         "1436",
         "49.0",
         "214"
        ],
        [
         "3",
         "1",
         "300.4",
         "309.9",
         "1567",
         "36.5",
         "72"
        ],
        [
         "4",
         "2",
         "298.1",
         "307.9",
         "1377",
         "55.1",
         "42"
        ]
       ],
       "shape": {
        "columns": 6,
        "rows": 5
       }
      },
      "text/html": [
       "<div>\n",
       "<style scoped>\n",
       "    .dataframe tbody tr th:only-of-type {\n",
       "        vertical-align: middle;\n",
       "    }\n",
       "\n",
       "    .dataframe tbody tr th {\n",
       "        vertical-align: top;\n",
       "    }\n",
       "\n",
       "    .dataframe thead th {\n",
       "        text-align: right;\n",
       "    }\n",
       "</style>\n",
       "<table border=\"1\" class=\"dataframe\">\n",
       "  <thead>\n",
       "    <tr style=\"text-align: right;\">\n",
       "      <th></th>\n",
       "      <th>Type</th>\n",
       "      <th>Air temperature [K]</th>\n",
       "      <th>Process temperature [K]</th>\n",
       "      <th>Rotational speed [rpm]</th>\n",
       "      <th>Torque [Nm]</th>\n",
       "      <th>Tool wear [min]</th>\n",
       "    </tr>\n",
       "  </thead>\n",
       "  <tbody>\n",
       "    <tr>\n",
       "      <th>0</th>\n",
       "      <td>2</td>\n",
       "      <td>300.4</td>\n",
       "      <td>311.8</td>\n",
       "      <td>1362</td>\n",
       "      <td>47.6</td>\n",
       "      <td>188</td>\n",
       "    </tr>\n",
       "    <tr>\n",
       "      <th>1</th>\n",
       "      <td>2</td>\n",
       "      <td>299.7</td>\n",
       "      <td>309.3</td>\n",
       "      <td>1399</td>\n",
       "      <td>41.9</td>\n",
       "      <td>221</td>\n",
       "    </tr>\n",
       "    <tr>\n",
       "      <th>2</th>\n",
       "      <td>2</td>\n",
       "      <td>301.8</td>\n",
       "      <td>309.6</td>\n",
       "      <td>1436</td>\n",
       "      <td>49.0</td>\n",
       "      <td>214</td>\n",
       "    </tr>\n",
       "    <tr>\n",
       "      <th>3</th>\n",
       "      <td>1</td>\n",
       "      <td>300.4</td>\n",
       "      <td>309.9</td>\n",
       "      <td>1567</td>\n",
       "      <td>36.5</td>\n",
       "      <td>72</td>\n",
       "    </tr>\n",
       "    <tr>\n",
       "      <th>4</th>\n",
       "      <td>2</td>\n",
       "      <td>298.1</td>\n",
       "      <td>307.9</td>\n",
       "      <td>1377</td>\n",
       "      <td>55.1</td>\n",
       "      <td>42</td>\n",
       "    </tr>\n",
       "  </tbody>\n",
       "</table>\n",
       "</div>"
      ],
      "text/plain": [
       "   Type  Air temperature [K]  Process temperature [K]  Rotational speed [rpm]  \\\n",
       "0     2                300.4                    311.8                    1362   \n",
       "1     2                299.7                    309.3                    1399   \n",
       "2     2                301.8                    309.6                    1436   \n",
       "3     1                300.4                    309.9                    1567   \n",
       "4     2                298.1                    307.9                    1377   \n",
       "\n",
       "   Torque [Nm]  Tool wear [min]  \n",
       "0         47.6              188  \n",
       "1         41.9              221  \n",
       "2         49.0              214  \n",
       "3         36.5               72  \n",
       "4         55.1               42  "
      ]
     },
     "execution_count": 51,
     "metadata": {},
     "output_type": "execute_result"
    }
   ],
   "source": [
    "X_resampled.head()"
   ]
  },
  {
   "cell_type": "code",
   "execution_count": 52,
   "id": "d8e167eb",
   "metadata": {},
   "outputs": [
    {
     "data": {
      "application/vnd.microsoft.datawrangler.viewer.v0+json": {
       "columns": [
        {
         "name": "index",
         "rawType": "int64",
         "type": "integer"
        },
        {
         "name": "Failure Type",
         "rawType": "object",
         "type": "string"
        }
       ],
       "ref": "f6d018cb-4b0e-4ea1-9998-869615ab2869",
       "rows": [
        [
         "0",
         "No Failure"
        ],
        [
         "1",
         "Tool Wear Failure"
        ],
        [
         "2",
         "No Failure"
        ],
        [
         "3",
         "No Failure"
        ],
        [
         "4",
         "No Failure"
        ]
       ],
       "shape": {
        "columns": 1,
        "rows": 5
       }
      },
      "text/plain": [
       "0           No Failure\n",
       "1    Tool Wear Failure\n",
       "2           No Failure\n",
       "3           No Failure\n",
       "4           No Failure\n",
       "Name: Failure Type, dtype: object"
      ]
     },
     "execution_count": 52,
     "metadata": {},
     "output_type": "execute_result"
    }
   ],
   "source": [
    "y_resampled.head()"
   ]
  },
  {
   "cell_type": "code",
   "execution_count": 53,
   "id": "9b092c57",
   "metadata": {},
   "outputs": [],
   "source": [
    "import pandas as pd\n",
    "\n",
    "df_resampled = X_resampled.copy()\n",
    "df_resampled['Failure Type'] = y_resampled  \n",
    "\n",
    "df_resampled.to_csv('2_SMOTE_Boderline_data.csv', index=False)\n"
   ]
  },
  {
   "cell_type": "code",
   "execution_count": 56,
   "id": "caf9e5d1",
   "metadata": {},
   "outputs": [
    {
     "data": {
      "text/plain": [
       "Index(['Type', 'Air temperature [K]', 'Process temperature [K]',\n",
       "       'Rotational speed [rpm]', 'Torque [Nm]', 'Tool wear [min]',\n",
       "       'Failure Type'],\n",
       "      dtype='object')"
      ]
     },
     "execution_count": 56,
     "metadata": {},
     "output_type": "execute_result"
    }
   ],
   "source": [
    "df_resampled.columns"
   ]
  },
  {
   "cell_type": "code",
   "execution_count": 54,
   "id": "6fd910ce",
   "metadata": {},
   "outputs": [
    {
     "data": {
      "image/png": "[encoded data removed]",
      "text/plain": [
       "<Figure size 640x480 with 1 Axes>"
      ]
     },
     "metadata": {},
     "output_type": "display_data"
    }
   ],
   "source": [
    "import matplotlib.pyplot as plt\n",
    "df_resampled['Failure Type'].value_counts().plot(kind='bar')\n",
    "plt.title('Distribution of Failure Types after Resampling')\n",
    "plt.xlabel('Failure Type')\n",
    "plt.ylabel('Count')\n",
    "plt.show()"
   ]
  },
  {
   "cell_type": "code",
   "execution_count": 57,
   "id": "ee4b25d7",
   "metadata": {},
   "outputs": [
    {
     "data": {
      "application/vnd.microsoft.datawrangler.viewer.v0+json": {
       "columns": [
        {
         "name": "index",
         "rawType": "int64",
         "type": "integer"
        },
        {
         "name": "Type",
         "rawType": "int32",
         "type": "integer"
        },
        {
         "name": "Air temperature [K]",
         "rawType": "float64",
         "type": "float"
        },
        {
         "name": "Process temperature [K]",
         "rawType": "float64",
         "type": "float"
        },
        {
         "name": "Rotational speed [rpm]",
         "rawType": "int64",
         "type": "integer"
        },
        {
         "name": "Torque [Nm]",
         "rawType": "float64",
         "type": "float"
        },
        {
         "name": "Tool wear [min]",
         "rawType": "int64",
         "type": "integer"
        },
        {
         "name": "Failure Type",
         "rawType": "object",
         "type": "string"
        }
       ],
       "ref": "638e3b66-6a12-4602-b0b5-07b6da851026",
       "rows": [
        [
         "0",
         "2",
         "300.4",
         "311.8",
         "1362",
         "47.6",
         "188",
         "No Failure"
        ],
        [
         "1",
         "2",
         "299.7",
         "309.3",
         "1399",
         "41.9",
         "221",
         "Tool Wear Failure"
        ],
        [
         "2",
         "2",
         "301.8",
         "309.6",
         "1436",
         "49.0",
         "214",
         "No Failure"
        ],
        [
         "3",
         "1",
         "300.4",
         "309.9",
         "1567",
         "36.5",
         "72",
         "No Failure"
        ],
        [
         "4",
         "2",
         "298.1",
         "307.9",
         "1377",
         "55.1",
         "42",
         "No Failure"
        ],
        [
         "5",
         "1",
         "299.1",
         "308.5",
         "1539",
         "46.8",
         "190",
         "No Failure"
        ],
        [
         "6",
         "0",
         "299.8",
         "309.2",
         "1435",
         "42.6",
         "111",
         "No Failure"
        ],
        [
         "7",
         "2",
         "303.8",
         "312.4",
         "1597",
         "33.4",
         "203",
         "No Failure"
        ],
        [
         "8",
         "1",
         "302.7",
         "312.2",
         "1376",
         "52.8",
         "164",
         "No Failure"
        ],
        [
         "9",
         "1",
         "301.5",
         "310.5",
         "1466",
         "48.1",
         "189",
         "No Failure"
        ],
        [
         "10",
         "1",
         "297.3",
         "307.9",
         "1628",
         "30.2",
         "80",
         "No Failure"
        ],
        [
         "11",
         "2",
         "298.0",
         "307.4",
         "1463",
         "46.5",
         "182",
         "No Failure"
        ],
        [
         "12",
         "0",
         "298.1",
         "309.9",
         "1686",
         "29.1",
         "60",
         "No Failure"
        ],
        [
         "13",
         "1",
         "299.5",
         "309.1",
         "1415",
         "49.2",
         "8",
         "No Failure"
        ],
        [
         "14",
         "1",
         "301.7",
         "310.5",
         "1354",
         "50.0",
         "169",
         "No Failure"
        ],
        [
         "15",
         "1",
         "302.0",
         "310.5",
         "1567",
         "36.1",
         "124",
         "No Failure"
        ],
        [
         "16",
         "1",
         "301.2",
         "310.4",
         "1515",
         "38.4",
         "51",
         "No Failure"
        ],
        [
         "17",
         "2",
         "298.3",
         "309.6",
         "1469",
         "54.8",
         "191",
         "No Failure"
        ],
        [
         "18",
         "1",
         "300.1",
         "311.5",
         "1471",
         "47.2",
         "201",
         "No Failure"
        ],
        [
         "19",
         "1",
         "300.5",
         "310.8",
         "1354",
         "51.8",
         "157",
         "No Failure"
        ],
        [
         "20",
         "2",
         "300.5",
         "311.9",
         "1511",
         "44.5",
         "30",
         "No Failure"
        ],
        [
         "21",
         "1",
         "300.1",
         "311.5",
         "2218",
         "17.0",
         "123",
         "No Failure"
        ],
        [
         "22",
         "1",
         "300.4",
         "309.6",
         "1379",
         "54.5",
         "122",
         "No Failure"
        ],
        [
         "23",
         "1",
         "298.6",
         "309.8",
         "1370",
         "56.0",
         "0",
         "No Failure"
        ],
        [
         "24",
         "1",
         "300.3",
         "311.8",
         "2004",
         "19.6",
         "12",
         "No Failure"
        ],
        [
         "25",
         "1",
         "298.9",
         "309.8",
         "1411",
         "56.3",
         "84",
         "No Failure"
        ],
        [
         "26",
         "1",
         "298.9",
         "310.1",
         "1587",
         "30.2",
         "162",
         "No Failure"
        ],
        [
         "27",
         "1",
         "297.2",
         "308.6",
         "1636",
         "31.3",
         "192",
         "No Failure"
        ],
        [
         "28",
         "1",
         "300.6",
         "309.4",
         "1654",
         "32.8",
         "57",
         "No Failure"
        ],
        [
         "29",
         "1",
         "297.5",
         "308.5",
         "1546",
         "40.4",
         "129",
         "No Failure"
        ],
        [
         "30",
         "1",
         "300.7",
         "309.6",
         "1329",
         "54.3",
         "80",
         "No Failure"
        ],
        [
         "31",
         "1",
         "300.0",
         "311.3",
         "1703",
         "30.4",
         "85",
         "No Failure"
        ],
        [
         "32",
         "1",
         "300.8",
         "312.3",
         "1858",
         "26.3",
         "144",
         "No Failure"
        ],
        [
         "33",
         "2",
         "301.7",
         "310.9",
         "1435",
         "48.0",
         "66",
         "No Failure"
        ],
        [
         "34",
         "1",
         "300.0",
         "311.3",
         "1493",
         "41.4",
         "28",
         "No Failure"
        ],
        [
         "35",
         "1",
         "300.7",
         "311.0",
         "1377",
         "49.9",
         "124",
         "No Failure"
        ],
        [
         "36",
         "2",
         "295.7",
         "306.3",
         "1462",
         "44.3",
         "37",
         "No Failure"
        ],
        [
         "37",
         "2",
         "302.4",
         "311.9",
         "1313",
         "55.7",
         "102",
         "No Failure"
        ],
        [
         "38",
         "1",
         "297.3",
         "308.2",
         "1896",
         "24.4",
         "47",
         "No Failure"
        ],
        [
         "39",
         "1",
         "302.3",
         "311.4",
         "1845",
         "21.9",
         "27",
         "No Failure"
        ],
        [
         "40",
         "2",
         "300.3",
         "311.7",
         "1236",
         "57.5",
         "12",
         "No Failure"
        ],
        [
         "41",
         "2",
         "303.5",
         "312.4",
         "1318",
         "54.2",
         "177",
         "No Failure"
        ],
        [
         "42",
         "2",
         "299.0",
         "309.7",
         "1489",
         "40.7",
         "212",
         "No Failure"
        ],
        [
         "43",
         "1",
         "297.3",
         "308.4",
         "1339",
         "52.1",
         "36",
         "No Failure"
        ],
        [
         "44",
         "2",
         "300.8",
         "312.0",
         "1274",
         "67.3",
         "159",
         "No Failure"
        ],
        [
         "45",
         "2",
         "298.0",
         "307.5",
         "1524",
         "36.3",
         "98",
         "No Failure"
        ],
        [
         "46",
         "1",
         "298.1",
         "307.9",
         "2161",
         "17.5",
         "5",
         "No Failure"
        ],
        [
         "47",
         "1",
         "301.4",
         "310.5",
         "1633",
         "39.5",
         "0",
         "No Failure"
        ],
        [
         "48",
         "1",
         "300.7",
         "311.0",
         "1462",
         "41.9",
         "126",
         "No Failure"
        ],
        [
         "49",
         "1",
         "297.8",
         "307.9",
         "1447",
         "48.6",
         "46",
         "No Failure"
        ]
       ],
       "shape": {
        "columns": 7,
        "rows": 23736
       }
      },
      "text/html": [
       "<div>\n",
       "<style scoped>\n",
       "    .dataframe tbody tr th:only-of-type {\n",
       "        vertical-align: middle;\n",
       "    }\n",
       "\n",
       "    .dataframe tbody tr th {\n",
       "        vertical-align: top;\n",
       "    }\n",
       "\n",
       "    .dataframe thead th {\n",
       "        text-align: right;\n",
       "    }\n",
       "</style>\n",
       "<table border=\"1\" class=\"dataframe\">\n",
       "  <thead>\n",
       "    <tr style=\"text-align: right;\">\n",
       "      <th></th>\n",
       "      <th>Type</th>\n",
       "      <th>Air temperature [K]</th>\n",
       "      <th>Process temperature [K]</th>\n",
       "      <th>Rotational speed [rpm]</th>\n",
       "      <th>Torque [Nm]</th>\n",
       "      <th>Tool wear [min]</th>\n",
       "      <th>Failure Type</th>\n",
       "    </tr>\n",
       "  </thead>\n",
       "  <tbody>\n",
       "    <tr>\n",
       "      <th>0</th>\n",
       "      <td>2</td>\n",
       "      <td>300.400000</td>\n",
       "      <td>311.800000</td>\n",
       "      <td>1362</td>\n",
       "      <td>47.600000</td>\n",
       "      <td>188</td>\n",
       "      <td>No Failure</td>\n",
       "    </tr>\n",
       "    <tr>\n",
       "      <th>1</th>\n",
       "      <td>2</td>\n",
       "      <td>299.700000</td>\n",
       "      <td>309.300000</td>\n",
       "      <td>1399</td>\n",
       "      <td>41.900000</td>\n",
       "      <td>221</td>\n",
       "      <td>Tool Wear Failure</td>\n",
       "    </tr>\n",
       "    <tr>\n",
       "      <th>2</th>\n",
       "      <td>2</td>\n",
       "      <td>301.800000</td>\n",
       "      <td>309.600000</td>\n",
       "      <td>1436</td>\n",
       "      <td>49.000000</td>\n",
       "      <td>214</td>\n",
       "      <td>No Failure</td>\n",
       "    </tr>\n",
       "    <tr>\n",
       "      <th>3</th>\n",
       "      <td>1</td>\n",
       "      <td>300.400000</td>\n",
       "      <td>309.900000</td>\n",
       "      <td>1567</td>\n",
       "      <td>36.500000</td>\n",
       "      <td>72</td>\n",
       "      <td>No Failure</td>\n",
       "    </tr>\n",
       "    <tr>\n",
       "      <th>4</th>\n",
       "      <td>2</td>\n",
       "      <td>298.100000</td>\n",
       "      <td>307.900000</td>\n",
       "      <td>1377</td>\n",
       "      <td>55.100000</td>\n",
       "      <td>42</td>\n",
       "      <td>No Failure</td>\n",
       "    </tr>\n",
       "    <tr>\n",
       "      <th>...</th>\n",
       "      <td>...</td>\n",
       "      <td>...</td>\n",
       "      <td>...</td>\n",
       "      <td>...</td>\n",
       "      <td>...</td>\n",
       "      <td>...</td>\n",
       "      <td>...</td>\n",
       "    </tr>\n",
       "    <tr>\n",
       "      <th>23731</th>\n",
       "      <td>1</td>\n",
       "      <td>300.300000</td>\n",
       "      <td>310.997042</td>\n",
       "      <td>1381</td>\n",
       "      <td>47.431361</td>\n",
       "      <td>217</td>\n",
       "      <td>Tool Wear Failure</td>\n",
       "    </tr>\n",
       "    <tr>\n",
       "      <th>23732</th>\n",
       "      <td>2</td>\n",
       "      <td>301.815556</td>\n",
       "      <td>310.594980</td>\n",
       "      <td>1738</td>\n",
       "      <td>29.144035</td>\n",
       "      <td>219</td>\n",
       "      <td>Tool Wear Failure</td>\n",
       "    </tr>\n",
       "    <tr>\n",
       "      <th>23733</th>\n",
       "      <td>1</td>\n",
       "      <td>300.856391</td>\n",
       "      <td>310.371147</td>\n",
       "      <td>1655</td>\n",
       "      <td>30.072133</td>\n",
       "      <td>234</td>\n",
       "      <td>Tool Wear Failure</td>\n",
       "    </tr>\n",
       "    <tr>\n",
       "      <th>23734</th>\n",
       "      <td>0</td>\n",
       "      <td>299.901972</td>\n",
       "      <td>309.565104</td>\n",
       "      <td>1404</td>\n",
       "      <td>43.938469</td>\n",
       "      <td>212</td>\n",
       "      <td>Tool Wear Failure</td>\n",
       "    </tr>\n",
       "    <tr>\n",
       "      <th>23735</th>\n",
       "      <td>1</td>\n",
       "      <td>299.555629</td>\n",
       "      <td>309.124282</td>\n",
       "      <td>1538</td>\n",
       "      <td>37.798234</td>\n",
       "      <td>205</td>\n",
       "      <td>Tool Wear Failure</td>\n",
       "    </tr>\n",
       "  </tbody>\n",
       "</table>\n",
       "<p>23736 rows × 7 columns</p>\n",
       "</div>"
      ],
      "text/plain": [
       "       Type  Air temperature [K]  Process temperature [K]  \\\n",
       "0         2           300.400000               311.800000   \n",
       "1         2           299.700000               309.300000   \n",
       "2         2           301.800000               309.600000   \n",
       "3         1           300.400000               309.900000   \n",
       "4         2           298.100000               307.900000   \n",
       "...     ...                  ...                      ...   \n",
       "23731     1           300.300000               310.997042   \n",
       "23732     2           301.815556               310.594980   \n",
       "23733     1           300.856391               310.371147   \n",
       "23734     0           299.901972               309.565104   \n",
       "23735     1           299.555629               309.124282   \n",
       "\n",
       "       Rotational speed [rpm]  Torque [Nm]  Tool wear [min]       Failure Type  \n",
       "0                        1362    47.600000              188         No Failure  \n",
       "1                        1399    41.900000              221  Tool Wear Failure  \n",
       "2                        1436    49.000000              214         No Failure  \n",
       "3                        1567    36.500000               72         No Failure  \n",
       "4                        1377    55.100000               42         No Failure  \n",
       "...                       ...          ...              ...                ...  \n",
       "23731                    1381    47.431361              217  Tool Wear Failure  \n",
       "23732                    1738    29.144035              219  Tool Wear Failure  \n",
       "23733                    1655    30.072133              234  Tool Wear Failure  \n",
       "23734                    1404    43.938469              212  Tool Wear Failure  \n",
       "23735                    1538    37.798234              205  Tool Wear Failure  \n",
       "\n",
       "[23736 rows x 7 columns]"
      ]
     },
     "execution_count": 57,
     "metadata": {},
     "output_type": "execute_result"
    }
   ],
   "source": [
    "df_resampled"
   ]
  },
  {
   "cell_type": "markdown",
   "id": "9b35d4de",
   "metadata": {},
   "source": [
    "# SMOTE-NC"
   ]
  },
  {
   "cell_type": "code",
   "execution_count": 72,
   "id": "761d05b2",
   "metadata": {},
   "outputs": [],
   "source": [
    "X = df.drop('Failure Type', axis=1)\n",
    "# X = X.drop('Target', axis=1)  \n",
    "# X = X.drop('Tool wear [min]', axis=1)\n",
    "y = df['Failure Type']"
   ]
  },
  {
   "cell_type": "code",
   "execution_count": 73,
   "id": "4879dcd6",
   "metadata": {},
   "outputs": [],
   "source": [
    "categorical_cols = ['Type']\n",
    "categorical_indices = [X.columns.get_loc(col) for col in categorical_cols]"
   ]
  },
  {
   "cell_type": "code",
   "execution_count": 74,
   "id": "4abac524",
   "metadata": {},
   "outputs": [],
   "source": [
    "le = LabelEncoder()\n",
    "y_encoded = le.fit_transform(y)"
   ]
  },
  {
   "cell_type": "code",
   "execution_count": 75,
   "id": "4962c3b7",
   "metadata": {},
   "outputs": [],
   "source": [
    "X_train, X_test, y_train, y_test = train_test_split(X, y_encoded, stratify=y_encoded, test_size=0.2, random_state=42)"
   ]
  },
  {
   "cell_type": "code",
   "execution_count": 76,
   "id": "2673e9da",
   "metadata": {},
   "outputs": [
    {
     "name": "stdout",
     "output_type": "stream",
     "text": [
      "Before SMOTE-NC: Counter({1: 7722, 0: 90, 3: 76, 2: 62, 5: 36, 4: 14})\n"
     ]
    }
   ],
   "source": [
    "print(\"Before SMOTE-NC:\", Counter(y_train))"
   ]
  },
  {
   "cell_type": "code",
   "execution_count": 77,
   "id": "23e88247",
   "metadata": {},
   "outputs": [],
   "source": [
    "from imblearn.over_sampling import SMOTENC\n",
    "smote_nc = SMOTENC(categorical_features=categorical_indices, sampling_strategy='not majority', random_state=42)\n",
    "X_resampled, y_resampled = smote_nc.fit_resample(X_train, y_train)"
   ]
  },
  {
   "cell_type": "code",
   "execution_count": 78,
   "id": "d04ccdbd",
   "metadata": {},
   "outputs": [
    {
     "name": "stdout",
     "output_type": "stream",
     "text": [
      "After SMOTE-NC: Counter({1: 7722, 5: 7722, 4: 7722, 3: 7722, 0: 7722, 2: 7722})\n"
     ]
    }
   ],
   "source": [
    "print(\"After SMOTE-NC:\", Counter(y_resampled))"
   ]
  },
  {
   "cell_type": "code",
   "execution_count": 79,
   "id": "6be92283",
   "metadata": {},
   "outputs": [],
   "source": [
    "y_labels = le.inverse_transform(y_resampled)"
   ]
  },
  {
   "cell_type": "code",
   "execution_count": 80,
   "id": "9aa0d7e7",
   "metadata": {},
   "outputs": [
    {
     "data": {
      "text/plain": [
       "(array([1, 5, 1, 1, 1, 1, 1, 1, 1, 1, 1, 1, 1, 1, 1, 1, 1, 1, 1, 1]),\n",
       " array(['No Failure', 'Tool Wear Failure', 'No Failure', 'No Failure',\n",
       "        'No Failure', 'No Failure', 'No Failure', 'No Failure',\n",
       "        'No Failure', 'No Failure', 'No Failure', 'No Failure',\n",
       "        'No Failure', 'No Failure', 'No Failure', 'No Failure',\n",
       "        'No Failure', 'No Failure', 'No Failure', 'No Failure'],\n",
       "       dtype=object))"
      ]
     },
     "execution_count": 80,
     "metadata": {},
     "output_type": "execute_result"
    }
   ],
   "source": [
    "y_resampled[:20], y_labels[:20]"
   ]
  },
  {
   "cell_type": "code",
   "execution_count": 81,
   "id": "43bf1b4a",
   "metadata": {},
   "outputs": [
    {
     "name": "stdout",
     "output_type": "stream",
     "text": [
      "{'Heat Dissipation Failure': 7722, 'No Failure': 7722, 'Overstrain Failure': 7722, 'Power Failure': 7722, 'Random Failures': 7722, 'Tool Wear Failure': 7722}\n"
     ]
    }
   ],
   "source": [
    "import numpy as np\n",
    "\n",
    "unique_labels, counts = np.unique(y_labels, return_counts=True)\n",
    "print(dict(zip(unique_labels, counts)))"
   ]
  },
  {
   "cell_type": "code",
   "execution_count": 82,
   "id": "575ef6c2",
   "metadata": {},
   "outputs": [
    {
     "name": "stdout",
     "output_type": "stream",
     "text": [
      "{0: 1657, 1: 38002, 2: 6673}\n"
     ]
    }
   ],
   "source": [
    "import numpy as np\n",
    "\n",
    "\n",
    "unique_labels, counts = np.unique(X_resampled['Type'], return_counts=True)\n",
    "print(dict(zip(unique_labels, counts)))"
   ]
  },
  {
   "cell_type": "code",
   "execution_count": 83,
   "id": "f0811d5a",
   "metadata": {},
   "outputs": [
    {
     "data": {
      "application/vnd.microsoft.datawrangler.viewer.v0+json": {
       "columns": [
        {
         "name": "index",
         "rawType": "int64",
         "type": "integer"
        },
        {
         "name": "Type",
         "rawType": "int32",
         "type": "integer"
        },
        {
         "name": "Air temperature [K]",
         "rawType": "float64",
         "type": "float"
        },
        {
         "name": "Process temperature [K]",
         "rawType": "float64",
         "type": "float"
        },
        {
         "name": "Rotational speed [rpm]",
         "rawType": "int64",
         "type": "integer"
        },
        {
         "name": "Torque [Nm]",
         "rawType": "float64",
         "type": "float"
        },
        {
         "name": "Tool wear [min]",
         "rawType": "int64",
         "type": "integer"
        }
       ],
       "ref": "2c316d44-2584-454c-9502-d02704c276e6",
       "rows": [
        [
         "0",
         "2",
         "300.4",
         "311.8",
         "1362",
         "47.6",
         "188"
        ],
        [
         "1",
         "2",
         "299.7",
         "309.3",
         "1399",
         "41.9",
         "221"
        ],
        [
         "2",
         "2",
         "301.8",
         "309.6",
         "1436",
         "49.0",
         "214"
        ],
        [
         "3",
         "1",
         "300.4",
         "309.9",
         "1567",
         "36.5",
         "72"
        ],
        [
         "4",
         "2",
         "298.1",
         "307.9",
         "1377",
         "55.1",
         "42"
        ],
        [
         "5",
         "1",
         "299.1",
         "308.5",
         "1539",
         "46.8",
         "190"
        ],
        [
         "6",
         "0",
         "299.8",
         "309.2",
         "1435",
         "42.6",
         "111"
        ],
        [
         "7",
         "2",
         "303.8",
         "312.4",
         "1597",
         "33.4",
         "203"
        ],
        [
         "8",
         "1",
         "302.7",
         "312.2",
         "1376",
         "52.8",
         "164"
        ],
        [
         "9",
         "1",
         "301.5",
         "310.5",
         "1466",
         "48.1",
         "189"
        ],
        [
         "10",
         "1",
         "297.3",
         "307.9",
         "1628",
         "30.2",
         "80"
        ],
        [
         "11",
         "2",
         "298.0",
         "307.4",
         "1463",
         "46.5",
         "182"
        ],
        [
         "12",
         "0",
         "298.1",
         "309.9",
         "1686",
         "29.1",
         "60"
        ],
        [
         "13",
         "1",
         "299.5",
         "309.1",
         "1415",
         "49.2",
         "8"
        ],
        [
         "14",
         "1",
         "301.7",
         "310.5",
         "1354",
         "50.0",
         "169"
        ],
        [
         "15",
         "1",
         "302.0",
         "310.5",
         "1567",
         "36.1",
         "124"
        ],
        [
         "16",
         "1",
         "301.2",
         "310.4",
         "1515",
         "38.4",
         "51"
        ],
        [
         "17",
         "2",
         "298.3",
         "309.6",
         "1469",
         "54.8",
         "191"
        ],
        [
         "18",
         "1",
         "300.1",
         "311.5",
         "1471",
         "47.2",
         "201"
        ],
        [
         "19",
         "1",
         "300.5",
         "310.8",
         "1354",
         "51.8",
         "157"
        ]
       ],
       "shape": {
        "columns": 6,
        "rows": 20
       }
      },
      "text/html": [
       "<div>\n",
       "<style scoped>\n",
       "    .dataframe tbody tr th:only-of-type {\n",
       "        vertical-align: middle;\n",
       "    }\n",
       "\n",
       "    .dataframe tbody tr th {\n",
       "        vertical-align: top;\n",
       "    }\n",
       "\n",
       "    .dataframe thead th {\n",
       "        text-align: right;\n",
       "    }\n",
       "</style>\n",
       "<table border=\"1\" class=\"dataframe\">\n",
       "  <thead>\n",
       "    <tr style=\"text-align: right;\">\n",
       "      <th></th>\n",
       "      <th>Type</th>\n",
       "      <th>Air temperature [K]</th>\n",
       "      <th>Process temperature [K]</th>\n",
       "      <th>Rotational speed [rpm]</th>\n",
       "      <th>Torque [Nm]</th>\n",
       "      <th>Tool wear [min]</th>\n",
       "    </tr>\n",
       "  </thead>\n",
       "  <tbody>\n",
       "    <tr>\n",
       "      <th>0</th>\n",
       "      <td>2</td>\n",
       "      <td>300.4</td>\n",
       "      <td>311.8</td>\n",
       "      <td>1362</td>\n",
       "      <td>47.6</td>\n",
       "      <td>188</td>\n",
       "    </tr>\n",
       "    <tr>\n",
       "      <th>1</th>\n",
       "      <td>2</td>\n",
       "      <td>299.7</td>\n",
       "      <td>309.3</td>\n",
       "      <td>1399</td>\n",
       "      <td>41.9</td>\n",
       "      <td>221</td>\n",
       "    </tr>\n",
       "    <tr>\n",
       "      <th>2</th>\n",
       "      <td>2</td>\n",
       "      <td>301.8</td>\n",
       "      <td>309.6</td>\n",
       "      <td>1436</td>\n",
       "      <td>49.0</td>\n",
       "      <td>214</td>\n",
       "    </tr>\n",
       "    <tr>\n",
       "      <th>3</th>\n",
       "      <td>1</td>\n",
       "      <td>300.4</td>\n",
       "      <td>309.9</td>\n",
       "      <td>1567</td>\n",
       "      <td>36.5</td>\n",
       "      <td>72</td>\n",
       "    </tr>\n",
       "    <tr>\n",
       "      <th>4</th>\n",
       "      <td>2</td>\n",
       "      <td>298.1</td>\n",
       "      <td>307.9</td>\n",
       "      <td>1377</td>\n",
       "      <td>55.1</td>\n",
       "      <td>42</td>\n",
       "    </tr>\n",
       "    <tr>\n",
       "      <th>5</th>\n",
       "      <td>1</td>\n",
       "      <td>299.1</td>\n",
       "      <td>308.5</td>\n",
       "      <td>1539</td>\n",
       "      <td>46.8</td>\n",
       "      <td>190</td>\n",
       "    </tr>\n",
       "    <tr>\n",
       "      <th>6</th>\n",
       "      <td>0</td>\n",
       "      <td>299.8</td>\n",
       "      <td>309.2</td>\n",
       "      <td>1435</td>\n",
       "      <td>42.6</td>\n",
       "      <td>111</td>\n",
       "    </tr>\n",
       "    <tr>\n",
       "      <th>7</th>\n",
       "      <td>2</td>\n",
       "      <td>303.8</td>\n",
       "      <td>312.4</td>\n",
       "      <td>1597</td>\n",
       "      <td>33.4</td>\n",
       "      <td>203</td>\n",
       "    </tr>\n",
       "    <tr>\n",
       "      <th>8</th>\n",
       "      <td>1</td>\n",
       "      <td>302.7</td>\n",
       "      <td>312.2</td>\n",
       "      <td>1376</td>\n",
       "      <td>52.8</td>\n",
       "      <td>164</td>\n",
       "    </tr>\n",
       "    <tr>\n",
       "      <th>9</th>\n",
       "      <td>1</td>\n",
       "      <td>301.5</td>\n",
       "      <td>310.5</td>\n",
       "      <td>1466</td>\n",
       "      <td>48.1</td>\n",
       "      <td>189</td>\n",
       "    </tr>\n",
       "    <tr>\n",
       "      <th>10</th>\n",
       "      <td>1</td>\n",
       "      <td>297.3</td>\n",
       "      <td>307.9</td>\n",
       "      <td>1628</td>\n",
       "      <td>30.2</td>\n",
       "      <td>80</td>\n",
       "    </tr>\n",
       "    <tr>\n",
       "      <th>11</th>\n",
       "      <td>2</td>\n",
       "      <td>298.0</td>\n",
       "      <td>307.4</td>\n",
       "      <td>1463</td>\n",
       "      <td>46.5</td>\n",
       "      <td>182</td>\n",
       "    </tr>\n",
       "    <tr>\n",
       "      <th>12</th>\n",
       "      <td>0</td>\n",
       "      <td>298.1</td>\n",
       "      <td>309.9</td>\n",
       "      <td>1686</td>\n",
       "      <td>29.1</td>\n",
       "      <td>60</td>\n",
       "    </tr>\n",
       "    <tr>\n",
       "      <th>13</th>\n",
       "      <td>1</td>\n",
       "      <td>299.5</td>\n",
       "      <td>309.1</td>\n",
       "      <td>1415</td>\n",
       "      <td>49.2</td>\n",
       "      <td>8</td>\n",
       "    </tr>\n",
       "    <tr>\n",
       "      <th>14</th>\n",
       "      <td>1</td>\n",
       "      <td>301.7</td>\n",
       "      <td>310.5</td>\n",
       "      <td>1354</td>\n",
       "      <td>50.0</td>\n",
       "      <td>169</td>\n",
       "    </tr>\n",
       "    <tr>\n",
       "      <th>15</th>\n",
       "      <td>1</td>\n",
       "      <td>302.0</td>\n",
       "      <td>310.5</td>\n",
       "      <td>1567</td>\n",
       "      <td>36.1</td>\n",
       "      <td>124</td>\n",
       "    </tr>\n",
       "    <tr>\n",
       "      <th>16</th>\n",
       "      <td>1</td>\n",
       "      <td>301.2</td>\n",
       "      <td>310.4</td>\n",
       "      <td>1515</td>\n",
       "      <td>38.4</td>\n",
       "      <td>51</td>\n",
       "    </tr>\n",
       "    <tr>\n",
       "      <th>17</th>\n",
       "      <td>2</td>\n",
       "      <td>298.3</td>\n",
       "      <td>309.6</td>\n",
       "      <td>1469</td>\n",
       "      <td>54.8</td>\n",
       "      <td>191</td>\n",
       "    </tr>\n",
       "    <tr>\n",
       "      <th>18</th>\n",
       "      <td>1</td>\n",
       "      <td>300.1</td>\n",
       "      <td>311.5</td>\n",
       "      <td>1471</td>\n",
       "      <td>47.2</td>\n",
       "      <td>201</td>\n",
       "    </tr>\n",
       "    <tr>\n",
       "      <th>19</th>\n",
       "      <td>1</td>\n",
       "      <td>300.5</td>\n",
       "      <td>310.8</td>\n",
       "      <td>1354</td>\n",
       "      <td>51.8</td>\n",
       "      <td>157</td>\n",
       "    </tr>\n",
       "  </tbody>\n",
       "</table>\n",
       "</div>"
      ],
      "text/plain": [
       "    Type  Air temperature [K]  Process temperature [K]  \\\n",
       "0      2                300.4                    311.8   \n",
       "1      2                299.7                    309.3   \n",
       "2      2                301.8                    309.6   \n",
       "3      1                300.4                    309.9   \n",
       "4      2                298.1                    307.9   \n",
       "5      1                299.1                    308.5   \n",
       "6      0                299.8                    309.2   \n",
       "7      2                303.8                    312.4   \n",
       "8      1                302.7                    312.2   \n",
       "9      1                301.5                    310.5   \n",
       "10     1                297.3                    307.9   \n",
       "11     2                298.0                    307.4   \n",
       "12     0                298.1                    309.9   \n",
       "13     1                299.5                    309.1   \n",
       "14     1                301.7                    310.5   \n",
       "15     1                302.0                    310.5   \n",
       "16     1                301.2                    310.4   \n",
       "17     2                298.3                    309.6   \n",
       "18     1                300.1                    311.5   \n",
       "19     1                300.5                    310.8   \n",
       "\n",
       "    Rotational speed [rpm]  Torque [Nm]  Tool wear [min]  \n",
       "0                     1362         47.6              188  \n",
       "1                     1399         41.9              221  \n",
       "2                     1436         49.0              214  \n",
       "3                     1567         36.5               72  \n",
       "4                     1377         55.1               42  \n",
       "5                     1539         46.8              190  \n",
       "6                     1435         42.6              111  \n",
       "7                     1597         33.4              203  \n",
       "8                     1376         52.8              164  \n",
       "9                     1466         48.1              189  \n",
       "10                    1628         30.2               80  \n",
       "11                    1463         46.5              182  \n",
       "12                    1686         29.1               60  \n",
       "13                    1415         49.2                8  \n",
       "14                    1354         50.0              169  \n",
       "15                    1567         36.1              124  \n",
       "16                    1515         38.4               51  \n",
       "17                    1469         54.8              191  \n",
       "18                    1471         47.2              201  \n",
       "19                    1354         51.8              157  "
      ]
     },
     "execution_count": 83,
     "metadata": {},
     "output_type": "execute_result"
    }
   ],
   "source": [
    "X_resampled.head(20)"
   ]
  },
  {
   "cell_type": "code",
   "execution_count": 85,
   "id": "8a17140c",
   "metadata": {},
   "outputs": [],
   "source": [
    "import pandas as pd\n",
    "\n",
    "df_resampled = X_resampled.copy()\n",
    "df_resampled['Failure Type'] = y_resampled  \n",
    "df_resampled['y_labels'] = y_labels  \n",
    "df_resampled.to_csv('smote_nc_data.csv', index=False)\n"
   ]
  },
  {
   "cell_type": "code",
   "execution_count": 86,
   "id": "64e0ae3f",
   "metadata": {},
   "outputs": [
    {
     "data": {
      "application/vnd.microsoft.datawrangler.viewer.v0+json": {
       "columns": [
        {
         "name": "index",
         "rawType": "int64",
         "type": "integer"
        },
        {
         "name": "Type",
         "rawType": "int32",
         "type": "integer"
        },
        {
         "name": "Air temperature [K]",
         "rawType": "float64",
         "type": "float"
        },
        {
         "name": "Process temperature [K]",
         "rawType": "float64",
         "type": "float"
        },
        {
         "name": "Rotational speed [rpm]",
         "rawType": "int64",
         "type": "integer"
        },
        {
         "name": "Torque [Nm]",
         "rawType": "float64",
         "type": "float"
        },
        {
         "name": "Tool wear [min]",
         "rawType": "int64",
         "type": "integer"
        },
        {
         "name": "Failure Type",
         "rawType": "int32",
         "type": "integer"
        },
        {
         "name": "y_labels",
         "rawType": "object",
         "type": "string"
        }
       ],
       "ref": "cd636569-3ab8-4c13-8571-89c87b4e63ff",
       "rows": [
        [
         "0",
         "2",
         "300.4",
         "311.8",
         "1362",
         "47.6",
         "188",
         "1",
         "No Failure"
        ],
        [
         "1",
         "2",
         "299.7",
         "309.3",
         "1399",
         "41.9",
         "221",
         "5",
         "Tool Wear Failure"
        ],
        [
         "2",
         "2",
         "301.8",
         "309.6",
         "1436",
         "49.0",
         "214",
         "1",
         "No Failure"
        ],
        [
         "3",
         "1",
         "300.4",
         "309.9",
         "1567",
         "36.5",
         "72",
         "1",
         "No Failure"
        ],
        [
         "4",
         "2",
         "298.1",
         "307.9",
         "1377",
         "55.1",
         "42",
         "1",
         "No Failure"
        ],
        [
         "5",
         "1",
         "299.1",
         "308.5",
         "1539",
         "46.8",
         "190",
         "1",
         "No Failure"
        ],
        [
         "6",
         "0",
         "299.8",
         "309.2",
         "1435",
         "42.6",
         "111",
         "1",
         "No Failure"
        ],
        [
         "7",
         "2",
         "303.8",
         "312.4",
         "1597",
         "33.4",
         "203",
         "1",
         "No Failure"
        ],
        [
         "8",
         "1",
         "302.7",
         "312.2",
         "1376",
         "52.8",
         "164",
         "1",
         "No Failure"
        ],
        [
         "9",
         "1",
         "301.5",
         "310.5",
         "1466",
         "48.1",
         "189",
         "1",
         "No Failure"
        ],
        [
         "10",
         "1",
         "297.3",
         "307.9",
         "1628",
         "30.2",
         "80",
         "1",
         "No Failure"
        ],
        [
         "11",
         "2",
         "298.0",
         "307.4",
         "1463",
         "46.5",
         "182",
         "1",
         "No Failure"
        ],
        [
         "12",
         "0",
         "298.1",
         "309.9",
         "1686",
         "29.1",
         "60",
         "1",
         "No Failure"
        ],
        [
         "13",
         "1",
         "299.5",
         "309.1",
         "1415",
         "49.2",
         "8",
         "1",
         "No Failure"
        ],
        [
         "14",
         "1",
         "301.7",
         "310.5",
         "1354",
         "50.0",
         "169",
         "1",
         "No Failure"
        ],
        [
         "15",
         "1",
         "302.0",
         "310.5",
         "1567",
         "36.1",
         "124",
         "1",
         "No Failure"
        ],
        [
         "16",
         "1",
         "301.2",
         "310.4",
         "1515",
         "38.4",
         "51",
         "1",
         "No Failure"
        ],
        [
         "17",
         "2",
         "298.3",
         "309.6",
         "1469",
         "54.8",
         "191",
         "1",
         "No Failure"
        ],
        [
         "18",
         "1",
         "300.1",
         "311.5",
         "1471",
         "47.2",
         "201",
         "1",
         "No Failure"
        ],
        [
         "19",
         "1",
         "300.5",
         "310.8",
         "1354",
         "51.8",
         "157",
         "1",
         "No Failure"
        ],
        [
         "20",
         "2",
         "300.5",
         "311.9",
         "1511",
         "44.5",
         "30",
         "1",
         "No Failure"
        ],
        [
         "21",
         "1",
         "300.1",
         "311.5",
         "2218",
         "17.0",
         "123",
         "1",
         "No Failure"
        ],
        [
         "22",
         "1",
         "300.4",
         "309.6",
         "1379",
         "54.5",
         "122",
         "1",
         "No Failure"
        ],
        [
         "23",
         "1",
         "298.6",
         "309.8",
         "1370",
         "56.0",
         "0",
         "1",
         "No Failure"
        ],
        [
         "24",
         "1",
         "300.3",
         "311.8",
         "2004",
         "19.6",
         "12",
         "1",
         "No Failure"
        ],
        [
         "25",
         "1",
         "298.9",
         "309.8",
         "1411",
         "56.3",
         "84",
         "1",
         "No Failure"
        ],
        [
         "26",
         "1",
         "298.9",
         "310.1",
         "1587",
         "30.2",
         "162",
         "1",
         "No Failure"
        ],
        [
         "27",
         "1",
         "297.2",
         "308.6",
         "1636",
         "31.3",
         "192",
         "1",
         "No Failure"
        ],
        [
         "28",
         "1",
         "300.6",
         "309.4",
         "1654",
         "32.8",
         "57",
         "1",
         "No Failure"
        ],
        [
         "29",
         "1",
         "297.5",
         "308.5",
         "1546",
         "40.4",
         "129",
         "1",
         "No Failure"
        ],
        [
         "30",
         "1",
         "300.7",
         "309.6",
         "1329",
         "54.3",
         "80",
         "1",
         "No Failure"
        ],
        [
         "31",
         "1",
         "300.0",
         "311.3",
         "1703",
         "30.4",
         "85",
         "1",
         "No Failure"
        ],
        [
         "32",
         "1",
         "300.8",
         "312.3",
         "1858",
         "26.3",
         "144",
         "1",
         "No Failure"
        ],
        [
         "33",
         "2",
         "301.7",
         "310.9",
         "1435",
         "48.0",
         "66",
         "1",
         "No Failure"
        ],
        [
         "34",
         "1",
         "300.0",
         "311.3",
         "1493",
         "41.4",
         "28",
         "1",
         "No Failure"
        ],
        [
         "35",
         "1",
         "300.7",
         "311.0",
         "1377",
         "49.9",
         "124",
         "1",
         "No Failure"
        ],
        [
         "36",
         "2",
         "295.7",
         "306.3",
         "1462",
         "44.3",
         "37",
         "1",
         "No Failure"
        ],
        [
         "37",
         "2",
         "302.4",
         "311.9",
         "1313",
         "55.7",
         "102",
         "1",
         "No Failure"
        ],
        [
         "38",
         "1",
         "297.3",
         "308.2",
         "1896",
         "24.4",
         "47",
         "1",
         "No Failure"
        ],
        [
         "39",
         "1",
         "302.3",
         "311.4",
         "1845",
         "21.9",
         "27",
         "1",
         "No Failure"
        ],
        [
         "40",
         "2",
         "300.3",
         "311.7",
         "1236",
         "57.5",
         "12",
         "1",
         "No Failure"
        ],
        [
         "41",
         "2",
         "303.5",
         "312.4",
         "1318",
         "54.2",
         "177",
         "1",
         "No Failure"
        ],
        [
         "42",
         "2",
         "299.0",
         "309.7",
         "1489",
         "40.7",
         "212",
         "1",
         "No Failure"
        ],
        [
         "43",
         "1",
         "297.3",
         "308.4",
         "1339",
         "52.1",
         "36",
         "1",
         "No Failure"
        ],
        [
         "44",
         "2",
         "300.8",
         "312.0",
         "1274",
         "67.3",
         "159",
         "1",
         "No Failure"
        ],
        [
         "45",
         "2",
         "298.0",
         "307.5",
         "1524",
         "36.3",
         "98",
         "1",
         "No Failure"
        ],
        [
         "46",
         "1",
         "298.1",
         "307.9",
         "2161",
         "17.5",
         "5",
         "1",
         "No Failure"
        ],
        [
         "47",
         "1",
         "301.4",
         "310.5",
         "1633",
         "39.5",
         "0",
         "1",
         "No Failure"
        ],
        [
         "48",
         "1",
         "300.7",
         "311.0",
         "1462",
         "41.9",
         "126",
         "1",
         "No Failure"
        ],
        [
         "49",
         "1",
         "297.8",
         "307.9",
         "1447",
         "48.6",
         "46",
         "1",
         "No Failure"
        ]
       ],
       "shape": {
        "columns": 8,
        "rows": 46332
       }
      },
      "text/html": [
       "<div>\n",
       "<style scoped>\n",
       "    .dataframe tbody tr th:only-of-type {\n",
       "        vertical-align: middle;\n",
       "    }\n",
       "\n",
       "    .dataframe tbody tr th {\n",
       "        vertical-align: top;\n",
       "    }\n",
       "\n",
       "    .dataframe thead th {\n",
       "        text-align: right;\n",
       "    }\n",
       "</style>\n",
       "<table border=\"1\" class=\"dataframe\">\n",
       "  <thead>\n",
       "    <tr style=\"text-align: right;\">\n",
       "      <th></th>\n",
       "      <th>Type</th>\n",
       "      <th>Air temperature [K]</th>\n",
       "      <th>Process temperature [K]</th>\n",
       "      <th>Rotational speed [rpm]</th>\n",
       "      <th>Torque [Nm]</th>\n",
       "      <th>Tool wear [min]</th>\n",
       "      <th>Failure Type</th>\n",
       "      <th>y_labels</th>\n",
       "    </tr>\n",
       "  </thead>\n",
       "  <tbody>\n",
       "    <tr>\n",
       "      <th>0</th>\n",
       "      <td>2</td>\n",
       "      <td>300.400000</td>\n",
       "      <td>311.800000</td>\n",
       "      <td>1362</td>\n",
       "      <td>47.600000</td>\n",
       "      <td>188</td>\n",
       "      <td>1</td>\n",
       "      <td>No Failure</td>\n",
       "    </tr>\n",
       "    <tr>\n",
       "      <th>1</th>\n",
       "      <td>2</td>\n",
       "      <td>299.700000</td>\n",
       "      <td>309.300000</td>\n",
       "      <td>1399</td>\n",
       "      <td>41.900000</td>\n",
       "      <td>221</td>\n",
       "      <td>5</td>\n",
       "      <td>Tool Wear Failure</td>\n",
       "    </tr>\n",
       "    <tr>\n",
       "      <th>2</th>\n",
       "      <td>2</td>\n",
       "      <td>301.800000</td>\n",
       "      <td>309.600000</td>\n",
       "      <td>1436</td>\n",
       "      <td>49.000000</td>\n",
       "      <td>214</td>\n",
       "      <td>1</td>\n",
       "      <td>No Failure</td>\n",
       "    </tr>\n",
       "    <tr>\n",
       "      <th>3</th>\n",
       "      <td>1</td>\n",
       "      <td>300.400000</td>\n",
       "      <td>309.900000</td>\n",
       "      <td>1567</td>\n",
       "      <td>36.500000</td>\n",
       "      <td>72</td>\n",
       "      <td>1</td>\n",
       "      <td>No Failure</td>\n",
       "    </tr>\n",
       "    <tr>\n",
       "      <th>4</th>\n",
       "      <td>2</td>\n",
       "      <td>298.100000</td>\n",
       "      <td>307.900000</td>\n",
       "      <td>1377</td>\n",
       "      <td>55.100000</td>\n",
       "      <td>42</td>\n",
       "      <td>1</td>\n",
       "      <td>No Failure</td>\n",
       "    </tr>\n",
       "    <tr>\n",
       "      <th>...</th>\n",
       "      <td>...</td>\n",
       "      <td>...</td>\n",
       "      <td>...</td>\n",
       "      <td>...</td>\n",
       "      <td>...</td>\n",
       "      <td>...</td>\n",
       "      <td>...</td>\n",
       "      <td>...</td>\n",
       "    </tr>\n",
       "    <tr>\n",
       "      <th>46327</th>\n",
       "      <td>1</td>\n",
       "      <td>298.625943</td>\n",
       "      <td>308.870085</td>\n",
       "      <td>1555</td>\n",
       "      <td>36.904604</td>\n",
       "      <td>208</td>\n",
       "      <td>5</td>\n",
       "      <td>Tool Wear Failure</td>\n",
       "    </tr>\n",
       "    <tr>\n",
       "      <th>46328</th>\n",
       "      <td>1</td>\n",
       "      <td>299.010913</td>\n",
       "      <td>310.416369</td>\n",
       "      <td>1905</td>\n",
       "      <td>23.596428</td>\n",
       "      <td>222</td>\n",
       "      <td>5</td>\n",
       "      <td>Tool Wear Failure</td>\n",
       "    </tr>\n",
       "    <tr>\n",
       "      <th>46329</th>\n",
       "      <td>1</td>\n",
       "      <td>297.163461</td>\n",
       "      <td>307.989151</td>\n",
       "      <td>1550</td>\n",
       "      <td>35.941863</td>\n",
       "      <td>207</td>\n",
       "      <td>5</td>\n",
       "      <td>Tool Wear Failure</td>\n",
       "    </tr>\n",
       "    <tr>\n",
       "      <th>46330</th>\n",
       "      <td>1</td>\n",
       "      <td>301.917438</td>\n",
       "      <td>310.081672</td>\n",
       "      <td>1443</td>\n",
       "      <td>46.694571</td>\n",
       "      <td>235</td>\n",
       "      <td>5</td>\n",
       "      <td>Tool Wear Failure</td>\n",
       "    </tr>\n",
       "    <tr>\n",
       "      <th>46331</th>\n",
       "      <td>2</td>\n",
       "      <td>298.353795</td>\n",
       "      <td>309.453795</td>\n",
       "      <td>1886</td>\n",
       "      <td>24.892373</td>\n",
       "      <td>201</td>\n",
       "      <td>5</td>\n",
       "      <td>Tool Wear Failure</td>\n",
       "    </tr>\n",
       "  </tbody>\n",
       "</table>\n",
       "<p>46332 rows × 8 columns</p>\n",
       "</div>"
      ],
      "text/plain": [
       "       Type  Air temperature [K]  Process temperature [K]  \\\n",
       "0         2           300.400000               311.800000   \n",
       "1         2           299.700000               309.300000   \n",
       "2         2           301.800000               309.600000   \n",
       "3         1           300.400000               309.900000   \n",
       "4         2           298.100000               307.900000   \n",
       "...     ...                  ...                      ...   \n",
       "46327     1           298.625943               308.870085   \n",
       "46328     1           299.010913               310.416369   \n",
       "46329     1           297.163461               307.989151   \n",
       "46330     1           301.917438               310.081672   \n",
       "46331     2           298.353795               309.453795   \n",
       "\n",
       "       Rotational speed [rpm]  Torque [Nm]  Tool wear [min]  Failure Type  \\\n",
       "0                        1362    47.600000              188             1   \n",
       "1                        1399    41.900000              221             5   \n",
       "2                        1436    49.000000              214             1   \n",
       "3                        1567    36.500000               72             1   \n",
       "4                        1377    55.100000               42             1   \n",
       "...                       ...          ...              ...           ...   \n",
       "46327                    1555    36.904604              208             5   \n",
       "46328                    1905    23.596428              222             5   \n",
       "46329                    1550    35.941863              207             5   \n",
       "46330                    1443    46.694571              235             5   \n",
       "46331                    1886    24.892373              201             5   \n",
       "\n",
       "                y_labels  \n",
       "0             No Failure  \n",
       "1      Tool Wear Failure  \n",
       "2             No Failure  \n",
       "3             No Failure  \n",
       "4             No Failure  \n",
       "...                  ...  \n",
       "46327  Tool Wear Failure  \n",
       "46328  Tool Wear Failure  \n",
       "46329  Tool Wear Failure  \n",
       "46330  Tool Wear Failure  \n",
       "46331  Tool Wear Failure  \n",
       "\n",
       "[46332 rows x 8 columns]"
      ]
     },
     "execution_count": 86,
     "metadata": {},
     "output_type": "execute_result"
    }
   ],
   "source": [
    "df_resampled"
   ]
  },
  {
   "cell_type": "code",
   "execution_count": 87,
   "id": "37db8f7a",
   "metadata": {},
   "outputs": [
    {
     "data": {
      "image/png": "[encoded data removed]",
      "text/plain": [
       "<Figure size 640x480 with 1 Axes>"
      ]
     },
     "metadata": {},
     "output_type": "display_data"
    }
   ],
   "source": [
    "# Visualizing the distribution of the target variable after resampling\n",
    "import matplotlib.pyplot as plt\n",
    "df_resampled['Failure Type'].value_counts().plot(kind='bar')\n",
    "plt.title('Distribution of Failure Types after Resampling')\n",
    "plt.xlabel('Failure Type')\n",
    "plt.ylabel('Count')\n",
    "plt.show()"
   ]
  },
  {
   "cell_type": "code",
   "execution_count": 88,
   "id": "8db68689",
   "metadata": {},
   "outputs": [],
   "source": [
    "df_resampled.to_csv('2_SMOTE_NC_data.csv', index=False)"
   ]
  },
  {
   "cell_type": "markdown",
   "id": "3c7125c0",
   "metadata": {},
   "source": [
    "# Modelling"
   ]
  },
  {
   "cell_type": "code",
   "execution_count": 89,
   "id": "d8d74fc8",
   "metadata": {},
   "outputs": [],
   "source": [
    "df1 = pd.read_csv('2_SMOTE_boderline_data.csv')\n",
    "df2 = pd.read_csv('2_SMOTE_NC_data.csv')"
   ]
  },
  {
   "cell_type": "code",
   "execution_count": 90,
   "id": "f9ce4593",
   "metadata": {},
   "outputs": [
    {
     "data": {
      "text/plain": [
       "(   Type  Air temperature [K]  Process temperature [K]  Rotational speed [rpm]  \\\n",
       " 0     2                300.4                    311.8                    1362   \n",
       " 1     2                299.7                    309.3                    1399   \n",
       " 2     2                301.8                    309.6                    1436   \n",
       " 3     1                300.4                    309.9                    1567   \n",
       " 4     2                298.1                    307.9                    1377   \n",
       " \n",
       "    Torque [Nm]  Tool wear [min]       Failure Type  \n",
       " 0         47.6              188         No Failure  \n",
       " 1         41.9              221  Tool Wear Failure  \n",
       " 2         49.0              214         No Failure  \n",
       " 3         36.5               72         No Failure  \n",
       " 4         55.1               42         No Failure  ,\n",
       "    Type  Air temperature [K]  Process temperature [K]  Rotational speed [rpm]  \\\n",
       " 0     2                300.4                    311.8                    1362   \n",
       " 1     2                299.7                    309.3                    1399   \n",
       " 2     2                301.8                    309.6                    1436   \n",
       " 3     1                300.4                    309.9                    1567   \n",
       " 4     2                298.1                    307.9                    1377   \n",
       " \n",
       "    Torque [Nm]  Tool wear [min]  Failure Type           y_labels  \n",
       " 0         47.6              188             1         No Failure  \n",
       " 1         41.9              221             5  Tool Wear Failure  \n",
       " 2         49.0              214             1         No Failure  \n",
       " 3         36.5               72             1         No Failure  \n",
       " 4         55.1               42             1         No Failure  )"
      ]
     },
     "execution_count": 90,
     "metadata": {},
     "output_type": "execute_result"
    }
   ],
   "source": [
    "df1.head(),df2.head()"
   ]
  },
  {
   "cell_type": "markdown",
   "id": "95b95bb1",
   "metadata": {},
   "source": [
    "## SMOTE Boderline"
   ]
  },
  {
   "cell_type": "markdown",
   "id": "7b7621e4",
   "metadata": {},
   "source": [
    "### ML"
   ]
  },
  {
   "cell_type": "code",
   "execution_count": 171,
   "id": "985f2203",
   "metadata": {},
   "outputs": [
    {
     "data": {
      "application/vnd.microsoft.datawrangler.viewer.v0+json": {
       "columns": [
        {
         "name": "index",
         "rawType": "int64",
         "type": "integer"
        },
        {
         "name": "Type",
         "rawType": "int64",
         "type": "integer"
        },
        {
         "name": "Air temperature [K]",
         "rawType": "float64",
         "type": "float"
        },
        {
         "name": "Process temperature [K]",
         "rawType": "float64",
         "type": "float"
        },
        {
         "name": "Rotational speed [rpm]",
         "rawType": "int64",
         "type": "integer"
        },
        {
         "name": "Torque [Nm]",
         "rawType": "float64",
         "type": "float"
        },
        {
         "name": "Tool wear [min]",
         "rawType": "int64",
         "type": "integer"
        },
        {
         "name": "Failure Type",
         "rawType": "int64",
         "type": "integer"
        }
       ],
       "ref": "9ad39f4e-241a-46c9-bda9-0eae13912cf3",
       "rows": [
        [
         "0",
         "2",
         "300.4",
         "311.8",
         "1362",
         "47.6",
         "188",
         "1"
        ],
        [
         "1",
         "2",
         "299.7",
         "309.3",
         "1399",
         "41.9",
         "221",
         "5"
        ],
        [
         "2",
         "2",
         "301.8",
         "309.6",
         "1436",
         "49.0",
         "214",
         "1"
        ],
        [
         "3",
         "1",
         "300.4",
         "309.9",
         "1567",
         "36.5",
         "72",
         "1"
        ],
        [
         "4",
         "2",
         "298.1",
         "307.9",
         "1377",
         "55.1",
         "42",
         "1"
        ]
       ],
       "shape": {
        "columns": 7,
        "rows": 5
       }
      },
      "text/html": [
       "<div>\n",
       "<style scoped>\n",
       "    .dataframe tbody tr th:only-of-type {\n",
       "        vertical-align: middle;\n",
       "    }\n",
       "\n",
       "    .dataframe tbody tr th {\n",
       "        vertical-align: top;\n",
       "    }\n",
       "\n",
       "    .dataframe thead th {\n",
       "        text-align: right;\n",
       "    }\n",
       "</style>\n",
       "<table border=\"1\" class=\"dataframe\">\n",
       "  <thead>\n",
       "    <tr style=\"text-align: right;\">\n",
       "      <th></th>\n",
       "      <th>Type</th>\n",
       "      <th>Air temperature [K]</th>\n",
       "      <th>Process temperature [K]</th>\n",
       "      <th>Rotational speed [rpm]</th>\n",
       "      <th>Torque [Nm]</th>\n",
       "      <th>Tool wear [min]</th>\n",
       "      <th>Failure Type</th>\n",
       "    </tr>\n",
       "  </thead>\n",
       "  <tbody>\n",
       "    <tr>\n",
       "      <th>0</th>\n",
       "      <td>2</td>\n",
       "      <td>300.4</td>\n",
       "      <td>311.8</td>\n",
       "      <td>1362</td>\n",
       "      <td>47.6</td>\n",
       "      <td>188</td>\n",
       "      <td>1</td>\n",
       "    </tr>\n",
       "    <tr>\n",
       "      <th>1</th>\n",
       "      <td>2</td>\n",
       "      <td>299.7</td>\n",
       "      <td>309.3</td>\n",
       "      <td>1399</td>\n",
       "      <td>41.9</td>\n",
       "      <td>221</td>\n",
       "      <td>5</td>\n",
       "    </tr>\n",
       "    <tr>\n",
       "      <th>2</th>\n",
       "      <td>2</td>\n",
       "      <td>301.8</td>\n",
       "      <td>309.6</td>\n",
       "      <td>1436</td>\n",
       "      <td>49.0</td>\n",
       "      <td>214</td>\n",
       "      <td>1</td>\n",
       "    </tr>\n",
       "    <tr>\n",
       "      <th>3</th>\n",
       "      <td>1</td>\n",
       "      <td>300.4</td>\n",
       "      <td>309.9</td>\n",
       "      <td>1567</td>\n",
       "      <td>36.5</td>\n",
       "      <td>72</td>\n",
       "      <td>1</td>\n",
       "    </tr>\n",
       "    <tr>\n",
       "      <th>4</th>\n",
       "      <td>2</td>\n",
       "      <td>298.1</td>\n",
       "      <td>307.9</td>\n",
       "      <td>1377</td>\n",
       "      <td>55.1</td>\n",
       "      <td>42</td>\n",
       "      <td>1</td>\n",
       "    </tr>\n",
       "  </tbody>\n",
       "</table>\n",
       "</div>"
      ],
      "text/plain": [
       "   Type  Air temperature [K]  Process temperature [K]  Rotational speed [rpm]  \\\n",
       "0     2                300.4                    311.8                    1362   \n",
       "1     2                299.7                    309.3                    1399   \n",
       "2     2                301.8                    309.6                    1436   \n",
       "3     1                300.4                    309.9                    1567   \n",
       "4     2                298.1                    307.9                    1377   \n",
       "\n",
       "   Torque [Nm]  Tool wear [min]  Failure Type  \n",
       "0         47.6              188             1  \n",
       "1         41.9              221             5  \n",
       "2         49.0              214             1  \n",
       "3         36.5               72             1  \n",
       "4         55.1               42             1  "
      ]
     },
     "execution_count": 171,
     "metadata": {},
     "output_type": "execute_result"
    }
   ],
   "source": [
    "# label encode df1['Failure Type'] \n",
    "df1['Failure Type'] = le.fit_transform(df1['Failure Type'])\n",
    "df1.head()"
   ]
  },
  {
   "cell_type": "code",
   "execution_count": 172,
   "id": "d335b447",
   "metadata": {},
   "outputs": [],
   "source": [
    "from sklearn.model_selection import train_test_split\n",
    "\n",
    "x = df1.drop('Failure Type', axis=1)\n",
    "x = df1.drop('Tool wear [min]', axis=1)\n",
    "y = df1['Failure Type']"
   ]
  },
  {
   "cell_type": "code",
   "execution_count": 173,
   "id": "25796e47",
   "metadata": {},
   "outputs": [
    {
     "data": {
      "application/vnd.microsoft.datawrangler.viewer.v0+json": {
       "columns": [
        {
         "name": "Failure Type",
         "rawType": "int64",
         "type": "integer"
        },
        {
         "name": "count",
         "rawType": "int64",
         "type": "integer"
        }
       ],
       "ref": "dff256de-31bb-44f8-b251-258db2743654",
       "rows": [
        [
         "1",
         "7722"
        ],
        [
         "5",
         "4000"
        ],
        [
         "3",
         "4000"
        ],
        [
         "0",
         "4000"
        ],
        [
         "2",
         "4000"
        ],
        [
         "4",
         "14"
        ]
       ],
       "shape": {
        "columns": 1,
        "rows": 6
       }
      },
      "text/plain": [
       "Failure Type\n",
       "1    7722\n",
       "5    4000\n",
       "3    4000\n",
       "0    4000\n",
       "2    4000\n",
       "4      14\n",
       "Name: count, dtype: int64"
      ]
     },
     "execution_count": 173,
     "metadata": {},
     "output_type": "execute_result"
    }
   ],
   "source": [
    "y.value_counts()"
   ]
  },
  {
   "cell_type": "code",
   "execution_count": 174,
   "id": "3afd998b",
   "metadata": {},
   "outputs": [],
   "source": [
    "from sklearn.model_selection import train_test_split\n",
    "\n",
    "x_train, x_test, y_train, y_test = train_test_split(x,y, test_size=0.2, random_state=42)"
   ]
  },
  {
   "cell_type": "code",
   "execution_count": 175,
   "id": "9d1684b0",
   "metadata": {},
   "outputs": [
    {
     "data": {
      "text/plain": [
       "((18988, 6), (4748, 6), (18988,), (4748,))"
      ]
     },
     "execution_count": 175,
     "metadata": {},
     "output_type": "execute_result"
    }
   ],
   "source": [
    "x_train.shape, x_test.shape, y_train.shape, y_test.shape"
   ]
  },
  {
   "cell_type": "code",
   "execution_count": 176,
   "id": "a995e638",
   "metadata": {},
   "outputs": [
    {
     "data": {
      "text/plain": [
       "((18988, 6), (4748, 6))"
      ]
     },
     "execution_count": 176,
     "metadata": {},
     "output_type": "execute_result"
    }
   ],
   "source": [
    "# normalize numerical data\n",
    "\n",
    "from sklearn.preprocessing import MinMaxScaler\n",
    "scaler = MinMaxScaler()\n",
    "scaler.fit(x_train)\n",
    "x_train_scaled = scaler.transform(x_train)\n",
    "x_test_scaled = scaler.transform(x_test)\n",
    "x_train_scaled.shape, x_test_scaled.shape"
   ]
  },
  {
   "cell_type": "code",
   "execution_count": 177,
   "id": "158990d5",
   "metadata": {},
   "outputs": [
    {
     "name": "stdout",
     "output_type": "stream",
     "text": [
      "Accuracy: 100.0\n",
      "Precision: 100.0\n",
      "[[ 786    0    0    0    0    0]\n",
      " [   0 1555    0    0    0    0]\n",
      " [   0    0  772    0    0    0]\n",
      " [   0    0    0  818    0    0]\n",
      " [   0    0    0    0    1    0]\n",
      " [   0    0    0    0    0  816]]\n",
      "              precision    recall  f1-score   support\n",
      "\n",
      "           0       1.00      1.00      1.00       786\n",
      "           1       1.00      1.00      1.00      1555\n",
      "           2       1.00      1.00      1.00       772\n",
      "           3       1.00      1.00      1.00       818\n",
      "           4       1.00      1.00      1.00         1\n",
      "           5       1.00      1.00      1.00       816\n",
      "\n",
      "    accuracy                           1.00      4748\n",
      "   macro avg       1.00      1.00      1.00      4748\n",
      "weighted avg       1.00      1.00      1.00      4748\n",
      "\n"
     ]
    }
   ],
   "source": [
    "from sklearn.ensemble import RandomForestClassifier\n",
    "from sklearn.metrics import classification_report, confusion_matrix\n",
    "from sklearn.metrics import accuracy_score, precision_score\n",
    "\n",
    "rf = RandomForestClassifier(n_estimators=100, random_state=42)\n",
    "rf.fit(x_train_scaled, y_train)\n",
    "\n",
    "y_pred = rf.predict(x_test_scaled)\n",
    "\n",
    "print(\"Accuracy:\", accuracy_score(y_test, y_pred)*100)\n",
    "print(\"Precision:\", precision_score(y_test, y_pred, average='weighted')*100)\n",
    "\n",
    "print(confusion_matrix(y_test, y_pred))\n",
    "print(classification_report(y_test, y_pred))"
   ]
  },
  {
   "cell_type": "code",
   "execution_count": 178,
   "id": "faa5d416",
   "metadata": {},
   "outputs": [
    {
     "name": "stdout",
     "output_type": "stream",
     "text": [
      "Cross-validation scores: [1.         0.99947341 0.99947341 1.         0.99973663]\n",
      "Mean cross-validation score: 99.97366896595148\n"
     ]
    }
   ],
   "source": [
    "# cross-validation\n",
    "from sklearn.model_selection import StratifiedKFold\n",
    "cv = StratifiedKFold(n_splits=5, shuffle=True, random_state=42)\n",
    "from sklearn.model_selection import cross_val_score\n",
    "scores = cross_val_score(rf, x_train_scaled, y_train, cv=cv, scoring='accuracy')\n",
    "print(\"Cross-validation scores:\", scores)\n",
    "print(\"Mean cross-validation score:\", np.mean(scores)*100)\n"
   ]
  },
  {
   "cell_type": "code",
   "execution_count": 179,
   "id": "2f29853d",
   "metadata": {},
   "outputs": [
    {
     "data": {
      "text/plain": [
       "['models2/smote-boderline/random_forest_99.joblib']"
      ]
     },
     "execution_count": 179,
     "metadata": {},
     "output_type": "execute_result"
    }
   ],
   "source": [
    "import joblib\n",
    "\n",
    "joblib.dump(rf, 'models2/smote-boderline/random_forest_99.joblib')"
   ]
  },
  {
   "cell_type": "code",
   "execution_count": 108,
   "id": "cba8066c",
   "metadata": {},
   "outputs": [
    {
     "name": "stdout",
     "output_type": "stream",
     "text": [
      "SVM Accuracy: 99.97893850042124\n",
      "SVM Precision: 99.9579027799117\n",
      "[[ 786    0    0    0    0    0]\n",
      " [   0 1555    0    0    0    0]\n",
      " [   0    0  772    0    0    0]\n",
      " [   0    0    0  818    0    0]\n",
      " [   0    0    0    0    0    1]\n",
      " [   0    0    0    0    0  816]]\n",
      "              precision    recall  f1-score   support\n",
      "\n",
      "           0       1.00      1.00      1.00       786\n",
      "           1       1.00      1.00      1.00      1555\n",
      "           2       1.00      1.00      1.00       772\n",
      "           3       1.00      1.00      1.00       818\n",
      "           4       0.00      0.00      0.00         1\n",
      "           5       1.00      1.00      1.00       816\n",
      "\n",
      "    accuracy                           1.00      4748\n",
      "   macro avg       0.83      0.83      0.83      4748\n",
      "weighted avg       1.00      1.00      1.00      4748\n",
      "\n"
     ]
    },
    {
     "name": "stderr",
     "output_type": "stream",
     "text": [
      "c:\\Users\\Integrated\\anaconda3\\Lib\\site-packages\\sklearn\\metrics\\_classification.py:1344: UndefinedMetricWarning: Precision is ill-defined and being set to 0.0 in labels with no predicted samples. Use `zero_division` parameter to control this behavior.\n",
      "  _warn_prf(average, modifier, msg_start, len(result))\n",
      "c:\\Users\\Integrated\\anaconda3\\Lib\\site-packages\\sklearn\\metrics\\_classification.py:1344: UndefinedMetricWarning: Precision and F-score are ill-defined and being set to 0.0 in labels with no predicted samples. Use `zero_division` parameter to control this behavior.\n",
      "  _warn_prf(average, modifier, msg_start, len(result))\n",
      "c:\\Users\\Integrated\\anaconda3\\Lib\\site-packages\\sklearn\\metrics\\_classification.py:1344: UndefinedMetricWarning: Precision and F-score are ill-defined and being set to 0.0 in labels with no predicted samples. Use `zero_division` parameter to control this behavior.\n",
      "  _warn_prf(average, modifier, msg_start, len(result))\n",
      "c:\\Users\\Integrated\\anaconda3\\Lib\\site-packages\\sklearn\\metrics\\_classification.py:1344: UndefinedMetricWarning: Precision and F-score are ill-defined and being set to 0.0 in labels with no predicted samples. Use `zero_division` parameter to control this behavior.\n",
      "  _warn_prf(average, modifier, msg_start, len(result))\n"
     ]
    }
   ],
   "source": [
    "from sklearn.svm import SVC\n",
    "svm = SVC(kernel='linear', random_state=42)\n",
    "svm.fit(x_train_scaled, y_train)\n",
    "\n",
    "y_pred_svm = svm.predict(x_test_scaled)\n",
    "\n",
    "print(\"SVM Accuracy:\", accuracy_score(y_test, y_pred_svm)*100)\n",
    "print(\"SVM Precision:\", precision_score(y_test, y_pred_svm, average='weighted')*100)\n",
    "\n",
    "print(confusion_matrix(y_test, y_pred_svm))\n",
    "print(classification_report(y_test, y_pred_svm))"
   ]
  },
  {
   "cell_type": "code",
   "execution_count": 109,
   "id": "3e084861",
   "metadata": {},
   "outputs": [
    {
     "name": "stdout",
     "output_type": "stream",
     "text": [
      "KNN Accuracy: 99.95787700084247\n",
      "KNN Precision: 99.93685481600106\n",
      "[[ 786    0    0    0    0    0]\n",
      " [   0 1555    0    0    0    0]\n",
      " [   0    0  772    0    0    0]\n",
      " [   0    1    0  817    0    0]\n",
      " [   0    0    0    0    0    1]\n",
      " [   0    0    0    0    0  816]]\n",
      "              precision    recall  f1-score   support\n",
      "\n",
      "           0       1.00      1.00      1.00       786\n",
      "           1       1.00      1.00      1.00      1555\n",
      "           2       1.00      1.00      1.00       772\n",
      "           3       1.00      1.00      1.00       818\n",
      "           4       0.00      0.00      0.00         1\n",
      "           5       1.00      1.00      1.00       816\n",
      "\n",
      "    accuracy                           1.00      4748\n",
      "   macro avg       0.83      0.83      0.83      4748\n",
      "weighted avg       1.00      1.00      1.00      4748\n",
      "\n"
     ]
    },
    {
     "name": "stderr",
     "output_type": "stream",
     "text": [
      "c:\\Users\\Integrated\\anaconda3\\Lib\\site-packages\\sklearn\\metrics\\_classification.py:1344: UndefinedMetricWarning: Precision is ill-defined and being set to 0.0 in labels with no predicted samples. Use `zero_division` parameter to control this behavior.\n",
      "  _warn_prf(average, modifier, msg_start, len(result))\n",
      "c:\\Users\\Integrated\\anaconda3\\Lib\\site-packages\\sklearn\\metrics\\_classification.py:1344: UndefinedMetricWarning: Precision and F-score are ill-defined and being set to 0.0 in labels with no predicted samples. Use `zero_division` parameter to control this behavior.\n",
      "  _warn_prf(average, modifier, msg_start, len(result))\n",
      "c:\\Users\\Integrated\\anaconda3\\Lib\\site-packages\\sklearn\\metrics\\_classification.py:1344: UndefinedMetricWarning: Precision and F-score are ill-defined and being set to 0.0 in labels with no predicted samples. Use `zero_division` parameter to control this behavior.\n",
      "  _warn_prf(average, modifier, msg_start, len(result))\n",
      "c:\\Users\\Integrated\\anaconda3\\Lib\\site-packages\\sklearn\\metrics\\_classification.py:1344: UndefinedMetricWarning: Precision and F-score are ill-defined and being set to 0.0 in labels with no predicted samples. Use `zero_division` parameter to control this behavior.\n",
      "  _warn_prf(average, modifier, msg_start, len(result))\n"
     ]
    }
   ],
   "source": [
    "from sklearn.neighbors import KNeighborsClassifier\n",
    "\n",
    "knn = KNeighborsClassifier(n_neighbors=5)\n",
    "knn.fit(x_train_scaled, y_train)\n",
    "\n",
    "y_pred_knn = knn.predict(x_test_scaled)\n",
    "\n",
    "print(\"KNN Accuracy:\", accuracy_score(y_test, y_pred_knn)*100)\n",
    "print(\"KNN Precision:\", precision_score(y_test, y_pred_knn, average='weighted')*100)\n",
    "\n",
    "print(confusion_matrix(y_test, y_pred_knn))\n",
    "print(classification_report(y_test, y_pred_knn))"
   ]
  },
  {
   "cell_type": "code",
   "execution_count": 110,
   "id": "bb2b6b57",
   "metadata": {},
   "outputs": [
    {
     "name": "stdout",
     "output_type": "stream",
     "text": [
      "GNB Accuracy: 100.0\n",
      "GNB Precision: 100.0\n"
     ]
    }
   ],
   "source": [
    "from sklearn.naive_bayes import GaussianNB\n",
    "\n",
    "gnb = GaussianNB()\n",
    "gnb.fit(x_train_scaled, y_train)\n",
    "\n",
    "y_pred_gnb = gnb.predict(x_test_scaled)\n",
    "\n",
    "print(\"GNB Accuracy:\", accuracy_score(y_test, y_pred_gnb)*100)\n",
    "print(\"GNB Precision:\", precision_score(y_test, y_pred_gnb, average='weighted')*100)"
   ]
  },
  {
   "cell_type": "code",
   "execution_count": null,
   "id": "6d767e4b",
   "metadata": {},
   "outputs": [],
   "source": []
  },
  {
   "cell_type": "markdown",
   "id": "fa5f6535",
   "metadata": {},
   "source": [
    "### DL"
   ]
  },
  {
   "cell_type": "code",
   "execution_count": 73,
   "id": "90c0d2e1",
   "metadata": {},
   "outputs": [],
   "source": [
    "import tensorflow as tf\n",
    "import pandas as pd\n",
    "from sklearn.model_selection import train_test_split\n",
    "import numpy as np"
   ]
  },
  {
   "cell_type": "code",
   "execution_count": 116,
   "id": "cb55ba5b",
   "metadata": {},
   "outputs": [],
   "source": [
    "df1 = pd.read_csv('2_SMOTE_boderline_data.csv')"
   ]
  },
  {
   "cell_type": "code",
   "execution_count": 117,
   "id": "a08f77c3",
   "metadata": {},
   "outputs": [
    {
     "data": {
      "application/vnd.microsoft.datawrangler.viewer.v0+json": {
       "columns": [
        {
         "name": "index",
         "rawType": "int64",
         "type": "integer"
        },
        {
         "name": "Type",
         "rawType": "int64",
         "type": "integer"
        },
        {
         "name": "Air temperature [K]",
         "rawType": "float64",
         "type": "float"
        },
        {
         "name": "Process temperature [K]",
         "rawType": "float64",
         "type": "float"
        },
        {
         "name": "Rotational speed [rpm]",
         "rawType": "int64",
         "type": "integer"
        },
        {
         "name": "Torque [Nm]",
         "rawType": "float64",
         "type": "float"
        },
        {
         "name": "Tool wear [min]",
         "rawType": "int64",
         "type": "integer"
        },
        {
         "name": "Failure Type",
         "rawType": "object",
         "type": "string"
        }
       ],
       "ref": "39f38942-d20e-4e62-b01b-8287a8cf70d7",
       "rows": [
        [
         "0",
         "2",
         "300.4",
         "311.8",
         "1362",
         "47.6",
         "188",
         "No Failure"
        ],
        [
         "1",
         "2",
         "299.7",
         "309.3",
         "1399",
         "41.9",
         "221",
         "Tool Wear Failure"
        ],
        [
         "2",
         "2",
         "301.8",
         "309.6",
         "1436",
         "49.0",
         "214",
         "No Failure"
        ],
        [
         "3",
         "1",
         "300.4",
         "309.9",
         "1567",
         "36.5",
         "72",
         "No Failure"
        ],
        [
         "4",
         "2",
         "298.1",
         "307.9",
         "1377",
         "55.1",
         "42",
         "No Failure"
        ],
        [
         "5",
         "1",
         "299.1",
         "308.5",
         "1539",
         "46.8",
         "190",
         "No Failure"
        ],
        [
         "6",
         "0",
         "299.8",
         "309.2",
         "1435",
         "42.6",
         "111",
         "No Failure"
        ],
        [
         "7",
         "2",
         "303.8",
         "312.4",
         "1597",
         "33.4",
         "203",
         "No Failure"
        ],
        [
         "8",
         "1",
         "302.7",
         "312.2",
         "1376",
         "52.8",
         "164",
         "No Failure"
        ],
        [
         "9",
         "1",
         "301.5",
         "310.5",
         "1466",
         "48.1",
         "189",
         "No Failure"
        ],
        [
         "10",
         "1",
         "297.3",
         "307.9",
         "1628",
         "30.2",
         "80",
         "No Failure"
        ],
        [
         "11",
         "2",
         "298.0",
         "307.4",
         "1463",
         "46.5",
         "182",
         "No Failure"
        ],
        [
         "12",
         "0",
         "298.1",
         "309.9",
         "1686",
         "29.1",
         "60",
         "No Failure"
        ],
        [
         "13",
         "1",
         "299.5",
         "309.1",
         "1415",
         "49.2",
         "8",
         "No Failure"
        ],
        [
         "14",
         "1",
         "301.7",
         "310.5",
         "1354",
         "50.0",
         "169",
         "No Failure"
        ],
        [
         "15",
         "1",
         "302.0",
         "310.5",
         "1567",
         "36.1",
         "124",
         "No Failure"
        ],
        [
         "16",
         "1",
         "301.2",
         "310.4",
         "1515",
         "38.4",
         "51",
         "No Failure"
        ],
        [
         "17",
         "2",
         "298.3",
         "309.6",
         "1469",
         "54.8",
         "191",
         "No Failure"
        ],
        [
         "18",
         "1",
         "300.1",
         "311.5",
         "1471",
         "47.2",
         "201",
         "No Failure"
        ],
        [
         "19",
         "1",
         "300.5",
         "310.8",
         "1354",
         "51.8",
         "157",
         "No Failure"
        ],
        [
         "20",
         "2",
         "300.5",
         "311.9",
         "1511",
         "44.5",
         "30",
         "No Failure"
        ],
        [
         "21",
         "1",
         "300.1",
         "311.5",
         "2218",
         "17.0",
         "123",
         "No Failure"
        ],
        [
         "22",
         "1",
         "300.4",
         "309.6",
         "1379",
         "54.5",
         "122",
         "No Failure"
        ],
        [
         "23",
         "1",
         "298.6",
         "309.8",
         "1370",
         "56.0",
         "0",
         "No Failure"
        ],
        [
         "24",
         "1",
         "300.3",
         "311.8",
         "2004",
         "19.6",
         "12",
         "No Failure"
        ],
        [
         "25",
         "1",
         "298.9",
         "309.8",
         "1411",
         "56.3",
         "84",
         "No Failure"
        ],
        [
         "26",
         "1",
         "298.9",
         "310.1",
         "1587",
         "30.2",
         "162",
         "No Failure"
        ],
        [
         "27",
         "1",
         "297.2",
         "308.6",
         "1636",
         "31.3",
         "192",
         "No Failure"
        ],
        [
         "28",
         "1",
         "300.6",
         "309.4",
         "1654",
         "32.8",
         "57",
         "No Failure"
        ],
        [
         "29",
         "1",
         "297.5",
         "308.5",
         "1546",
         "40.4",
         "129",
         "No Failure"
        ],
        [
         "30",
         "1",
         "300.7",
         "309.6",
         "1329",
         "54.3",
         "80",
         "No Failure"
        ],
        [
         "31",
         "1",
         "300.0",
         "311.3",
         "1703",
         "30.4",
         "85",
         "No Failure"
        ],
        [
         "32",
         "1",
         "300.8",
         "312.3",
         "1858",
         "26.3",
         "144",
         "No Failure"
        ],
        [
         "33",
         "2",
         "301.7",
         "310.9",
         "1435",
         "48.0",
         "66",
         "No Failure"
        ],
        [
         "34",
         "1",
         "300.0",
         "311.3",
         "1493",
         "41.4",
         "28",
         "No Failure"
        ],
        [
         "35",
         "1",
         "300.7",
         "311.0",
         "1377",
         "49.9",
         "124",
         "No Failure"
        ],
        [
         "36",
         "2",
         "295.7",
         "306.3",
         "1462",
         "44.3",
         "37",
         "No Failure"
        ],
        [
         "37",
         "2",
         "302.4",
         "311.9",
         "1313",
         "55.7",
         "102",
         "No Failure"
        ],
        [
         "38",
         "1",
         "297.3",
         "308.2",
         "1896",
         "24.4",
         "47",
         "No Failure"
        ],
        [
         "39",
         "1",
         "302.3",
         "311.4",
         "1845",
         "21.9",
         "27",
         "No Failure"
        ],
        [
         "40",
         "2",
         "300.3",
         "311.7",
         "1236",
         "57.5",
         "12",
         "No Failure"
        ],
        [
         "41",
         "2",
         "303.5",
         "312.4",
         "1318",
         "54.2",
         "177",
         "No Failure"
        ],
        [
         "42",
         "2",
         "299.0",
         "309.7",
         "1489",
         "40.7",
         "212",
         "No Failure"
        ],
        [
         "43",
         "1",
         "297.3",
         "308.4",
         "1339",
         "52.1",
         "36",
         "No Failure"
        ],
        [
         "44",
         "2",
         "300.8",
         "312.0",
         "1274",
         "67.3",
         "159",
         "No Failure"
        ],
        [
         "45",
         "2",
         "298.0",
         "307.5",
         "1524",
         "36.3",
         "98",
         "No Failure"
        ],
        [
         "46",
         "1",
         "298.1",
         "307.9",
         "2161",
         "17.5",
         "5",
         "No Failure"
        ],
        [
         "47",
         "1",
         "301.4",
         "310.5",
         "1633",
         "39.5",
         "0",
         "No Failure"
        ],
        [
         "48",
         "1",
         "300.7",
         "311.0",
         "1462",
         "41.9",
         "126",
         "No Failure"
        ],
        [
         "49",
         "1",
         "297.8",
         "307.9",
         "1447",
         "48.6",
         "46",
         "No Failure"
        ]
       ],
       "shape": {
        "columns": 7,
        "rows": 23736
       }
      },
      "text/html": [
       "<div>\n",
       "<style scoped>\n",
       "    .dataframe tbody tr th:only-of-type {\n",
       "        vertical-align: middle;\n",
       "    }\n",
       "\n",
       "    .dataframe tbody tr th {\n",
       "        vertical-align: top;\n",
       "    }\n",
       "\n",
       "    .dataframe thead th {\n",
       "        text-align: right;\n",
       "    }\n",
       "</style>\n",
       "<table border=\"1\" class=\"dataframe\">\n",
       "  <thead>\n",
       "    <tr style=\"text-align: right;\">\n",
       "      <th></th>\n",
       "      <th>Type</th>\n",
       "      <th>Air temperature [K]</th>\n",
       "      <th>Process temperature [K]</th>\n",
       "      <th>Rotational speed [rpm]</th>\n",
       "      <th>Torque [Nm]</th>\n",
       "      <th>Tool wear [min]</th>\n",
       "      <th>Failure Type</th>\n",
       "    </tr>\n",
       "  </thead>\n",
       "  <tbody>\n",
       "    <tr>\n",
       "      <th>0</th>\n",
       "      <td>2</td>\n",
       "      <td>300.400000</td>\n",
       "      <td>311.800000</td>\n",
       "      <td>1362</td>\n",
       "      <td>47.600000</td>\n",
       "      <td>188</td>\n",
       "      <td>No Failure</td>\n",
       "    </tr>\n",
       "    <tr>\n",
       "      <th>1</th>\n",
       "      <td>2</td>\n",
       "      <td>299.700000</td>\n",
       "      <td>309.300000</td>\n",
       "      <td>1399</td>\n",
       "      <td>41.900000</td>\n",
       "      <td>221</td>\n",
       "      <td>Tool Wear Failure</td>\n",
       "    </tr>\n",
       "    <tr>\n",
       "      <th>2</th>\n",
       "      <td>2</td>\n",
       "      <td>301.800000</td>\n",
       "      <td>309.600000</td>\n",
       "      <td>1436</td>\n",
       "      <td>49.000000</td>\n",
       "      <td>214</td>\n",
       "      <td>No Failure</td>\n",
       "    </tr>\n",
       "    <tr>\n",
       "      <th>3</th>\n",
       "      <td>1</td>\n",
       "      <td>300.400000</td>\n",
       "      <td>309.900000</td>\n",
       "      <td>1567</td>\n",
       "      <td>36.500000</td>\n",
       "      <td>72</td>\n",
       "      <td>No Failure</td>\n",
       "    </tr>\n",
       "    <tr>\n",
       "      <th>4</th>\n",
       "      <td>2</td>\n",
       "      <td>298.100000</td>\n",
       "      <td>307.900000</td>\n",
       "      <td>1377</td>\n",
       "      <td>55.100000</td>\n",
       "      <td>42</td>\n",
       "      <td>No Failure</td>\n",
       "    </tr>\n",
       "    <tr>\n",
       "      <th>...</th>\n",
       "      <td>...</td>\n",
       "      <td>...</td>\n",
       "      <td>...</td>\n",
       "      <td>...</td>\n",
       "      <td>...</td>\n",
       "      <td>...</td>\n",
       "      <td>...</td>\n",
       "    </tr>\n",
       "    <tr>\n",
       "      <th>23731</th>\n",
       "      <td>1</td>\n",
       "      <td>300.300000</td>\n",
       "      <td>310.997042</td>\n",
       "      <td>1381</td>\n",
       "      <td>47.431361</td>\n",
       "      <td>217</td>\n",
       "      <td>Tool Wear Failure</td>\n",
       "    </tr>\n",
       "    <tr>\n",
       "      <th>23732</th>\n",
       "      <td>2</td>\n",
       "      <td>301.815556</td>\n",
       "      <td>310.594980</td>\n",
       "      <td>1738</td>\n",
       "      <td>29.144035</td>\n",
       "      <td>219</td>\n",
       "      <td>Tool Wear Failure</td>\n",
       "    </tr>\n",
       "    <tr>\n",
       "      <th>23733</th>\n",
       "      <td>1</td>\n",
       "      <td>300.856391</td>\n",
       "      <td>310.371147</td>\n",
       "      <td>1655</td>\n",
       "      <td>30.072133</td>\n",
       "      <td>234</td>\n",
       "      <td>Tool Wear Failure</td>\n",
       "    </tr>\n",
       "    <tr>\n",
       "      <th>23734</th>\n",
       "      <td>0</td>\n",
       "      <td>299.901972</td>\n",
       "      <td>309.565104</td>\n",
       "      <td>1404</td>\n",
       "      <td>43.938469</td>\n",
       "      <td>212</td>\n",
       "      <td>Tool Wear Failure</td>\n",
       "    </tr>\n",
       "    <tr>\n",
       "      <th>23735</th>\n",
       "      <td>1</td>\n",
       "      <td>299.555629</td>\n",
       "      <td>309.124282</td>\n",
       "      <td>1538</td>\n",
       "      <td>37.798234</td>\n",
       "      <td>205</td>\n",
       "      <td>Tool Wear Failure</td>\n",
       "    </tr>\n",
       "  </tbody>\n",
       "</table>\n",
       "<p>23736 rows × 7 columns</p>\n",
       "</div>"
      ],
      "text/plain": [
       "       Type  Air temperature [K]  Process temperature [K]  \\\n",
       "0         2           300.400000               311.800000   \n",
       "1         2           299.700000               309.300000   \n",
       "2         2           301.800000               309.600000   \n",
       "3         1           300.400000               309.900000   \n",
       "4         2           298.100000               307.900000   \n",
       "...     ...                  ...                      ...   \n",
       "23731     1           300.300000               310.997042   \n",
       "23732     2           301.815556               310.594980   \n",
       "23733     1           300.856391               310.371147   \n",
       "23734     0           299.901972               309.565104   \n",
       "23735     1           299.555629               309.124282   \n",
       "\n",
       "       Rotational speed [rpm]  Torque [Nm]  Tool wear [min]       Failure Type  \n",
       "0                        1362    47.600000              188         No Failure  \n",
       "1                        1399    41.900000              221  Tool Wear Failure  \n",
       "2                        1436    49.000000              214         No Failure  \n",
       "3                        1567    36.500000               72         No Failure  \n",
       "4                        1377    55.100000               42         No Failure  \n",
       "...                       ...          ...              ...                ...  \n",
       "23731                    1381    47.431361              217  Tool Wear Failure  \n",
       "23732                    1738    29.144035              219  Tool Wear Failure  \n",
       "23733                    1655    30.072133              234  Tool Wear Failure  \n",
       "23734                    1404    43.938469              212  Tool Wear Failure  \n",
       "23735                    1538    37.798234              205  Tool Wear Failure  \n",
       "\n",
       "[23736 rows x 7 columns]"
      ]
     },
     "execution_count": 117,
     "metadata": {},
     "output_type": "execute_result"
    }
   ],
   "source": [
    "df1"
   ]
  },
  {
   "cell_type": "code",
   "execution_count": 118,
   "id": "28151e7e",
   "metadata": {},
   "outputs": [],
   "source": [
    "x = df1.drop(columns=['Failure Type', 'Tool wear [min]'],axis=1)\n",
    "y = df1['Failure Type']"
   ]
  },
  {
   "cell_type": "code",
   "execution_count": 119,
   "id": "e68b5315",
   "metadata": {},
   "outputs": [
    {
     "data": {
      "text/plain": [
       "((23736, 5), (23736,))"
      ]
     },
     "execution_count": 119,
     "metadata": {},
     "output_type": "execute_result"
    }
   ],
   "source": [
    "x.shape, y.shape"
   ]
  },
  {
   "cell_type": "code",
   "execution_count": 120,
   "id": "33561924",
   "metadata": {},
   "outputs": [
    {
     "data": {
      "application/vnd.microsoft.datawrangler.viewer.v0+json": {
       "columns": [
        {
         "name": "Failure Type",
         "rawType": "object",
         "type": "string"
        },
        {
         "name": "count",
         "rawType": "int64",
         "type": "integer"
        }
       ],
       "ref": "fa7b8a1c-a272-4766-bb1a-78fd362c43cf",
       "rows": [
        [
         "No Failure",
         "7722"
        ],
        [
         "Tool Wear Failure",
         "4000"
        ],
        [
         "Power Failure",
         "4000"
        ],
        [
         "Heat Dissipation Failure",
         "4000"
        ],
        [
         "Overstrain Failure",
         "4000"
        ],
        [
         "Random Failures",
         "14"
        ]
       ],
       "shape": {
        "columns": 1,
        "rows": 6
       }
      },
      "text/plain": [
       "Failure Type\n",
       "No Failure                  7722\n",
       "Tool Wear Failure           4000\n",
       "Power Failure               4000\n",
       "Heat Dissipation Failure    4000\n",
       "Overstrain Failure          4000\n",
       "Random Failures               14\n",
       "Name: count, dtype: int64"
      ]
     },
     "execution_count": 120,
     "metadata": {},
     "output_type": "execute_result"
    }
   ],
   "source": [
    "y.value_counts()"
   ]
  },
  {
   "cell_type": "code",
   "execution_count": 121,
   "id": "3dc09f6b",
   "metadata": {},
   "outputs": [],
   "source": [
    "x_train, x_test, y_train, y_test = train_test_split(x,y, test_size=0.2, random_state=42)"
   ]
  },
  {
   "cell_type": "code",
   "execution_count": 122,
   "id": "5a8ea366",
   "metadata": {},
   "outputs": [
    {
     "data": {
      "text/plain": [
       "((18988, 5), (4748, 5), (18988,), (4748,))"
      ]
     },
     "execution_count": 122,
     "metadata": {},
     "output_type": "execute_result"
    }
   ],
   "source": [
    "x_train.shape, x_test.shape, y_train.shape, y_test.shape"
   ]
  },
  {
   "cell_type": "code",
   "execution_count": 123,
   "id": "74ac42c8",
   "metadata": {},
   "outputs": [
    {
     "data": {
      "application/vnd.microsoft.datawrangler.viewer.v0+json": {
       "columns": [
        {
         "name": "index",
         "rawType": "int64",
         "type": "integer"
        },
        {
         "name": "Type",
         "rawType": "int64",
         "type": "integer"
        },
        {
         "name": "Air temperature [K]",
         "rawType": "float64",
         "type": "float"
        },
        {
         "name": "Process temperature [K]",
         "rawType": "float64",
         "type": "float"
        },
        {
         "name": "Rotational speed [rpm]",
         "rawType": "int64",
         "type": "integer"
        },
        {
         "name": "Torque [Nm]",
         "rawType": "float64",
         "type": "float"
        }
       ],
       "ref": "c965ff14-c49e-4378-b3bb-1bac7d11203e",
       "rows": [
        [
         "20738",
         "2",
         "300.0462702494327",
         "310.6850809977309",
         "1384",
         "45.36270249432744"
        ],
        [
         "16298",
         "0",
         "297.4351802080742",
         "308.0758310936334",
         "1383",
         "62.92638515605563"
        ],
        [
         "4153",
         "1",
         "302.5",
         "312.0",
         "1411",
         "44.2"
        ],
        [
         "2943",
         "1",
         "301.9",
         "310.4",
         "1376",
         "54.9"
        ],
        [
         "21308",
         "1",
         "301.75274395216223",
         "310.9736280239189",
         "1441",
         "44.120670562648456"
        ],
        [
         "17777",
         "2",
         "299.7162888076596",
         "310.4319589574468",
         "1393",
         "63.817526123404285"
        ],
        [
         "14782",
         "1",
         "298.47846225210355",
         "309.35692450420714",
         "1354",
         "53.52153774789642"
        ],
        [
         "20188",
         "1",
         "300.50883973250075",
         "310.2544198662504",
         "1658",
         "30.5"
        ],
        [
         "16243",
         "1",
         "297.04932916647886",
         "307.54060416658126",
         "1312",
         "67.61879166683741"
        ],
        [
         "18468",
         "0",
         "300.12857286178087",
         "309.8190485745206",
         "1378",
         "65.42698380849313"
        ],
        [
         "5252",
         "0",
         "300.9",
         "312.0",
         "1397",
         "42.7"
        ],
        [
         "7167",
         "2",
         "299.8",
         "309.3",
         "1470",
         "42.7"
        ],
        [
         "23674",
         "1",
         "301.7404705874329",
         "310.47388236337207",
         "1441",
         "44.70470587432917"
        ],
        [
         "20987",
         "1",
         "299.7139645237607",
         "309.3111716190086",
         "1399",
         "41.931420178461565"
        ],
        [
         "17163",
         "1",
         "299.86768742291093",
         "309.97411017621675",
         "1320",
         "67.36452574889807"
        ],
        [
         "8403",
         "1",
         "302.0855168739525",
         "310.1",
         "1359",
         "55.07172468907128"
        ],
        [
         "2301",
         "1",
         "297.3",
         "308.0",
         "1420",
         "46.5"
        ],
        [
         "22600",
         "0",
         "300.7959877362137",
         "310.1466564468448",
         "1398",
         "46.02332822342239"
        ],
        [
         "2998",
         "1",
         "298.2",
         "308.3",
         "1304",
         "49.8"
        ],
        [
         "13640",
         "1",
         "302.73584170304906",
         "312.14867336243924",
         "1367",
         "57.27507620085429"
        ],
        [
         "20237",
         "1",
         "301.0370449061484",
         "310.9015664949748",
         "1454",
         "49.24739637710587"
        ],
        [
         "379",
         "1",
         "301.5",
         "310.4",
         "1329",
         "46.6"
        ],
        [
         "5047",
         "1",
         "297.4",
         "308.7",
         "1638",
         "31.9"
        ],
        [
         "3950",
         "1",
         "300.4",
         "309.5",
         "1543",
         "38.9"
        ],
        [
         "5815",
         "1",
         "302.5",
         "311.1",
         "1499",
         "38.8"
        ],
        [
         "9453",
         "1",
         "303.0836181012102",
         "311.2375432910404",
         "1312",
         "51.98975987360927"
        ],
        [
         "10347",
         "1",
         "302.4",
         "310.3",
         "1374",
         "52.39178280405437"
        ],
        [
         "10072",
         "1",
         "302.1714962318509",
         "310.5285037681492",
         "1322",
         "58.18842304390152"
        ],
        [
         "13287",
         "1",
         "303.9345529228825",
         "312.9327235385587",
         "1363",
         "61.64918799747241"
        ],
        [
         "4509",
         "1",
         "299.3",
         "308.5",
         "1772",
         "26.1"
        ],
        [
         "927",
         "1",
         "295.6",
         "306.0",
         "1949",
         "21.9"
        ],
        [
         "10600",
         "0",
         "302.6735377838468",
         "311.1134501621981",
         "1365",
         "52.56227816286452"
        ],
        [
         "18300",
         "1",
         "300.53201514793386",
         "310.76403029586777",
         "2487",
         "13.344005049311296"
        ],
        [
         "20514",
         "2",
         "300.33942179122585",
         "310.38173462632244",
         "1674",
         "30.272831717096963"
        ],
        [
         "23694",
         "1",
         "302.6323432394551",
         "310.47191606166064",
         "1446",
         "40.89489382939284"
        ],
        [
         "16787",
         "1",
         "303.0662095085395",
         "311.773413734557",
         "1284",
         "70.02161267805263"
        ],
        [
         "399",
         "1",
         "301.1",
         "310.5",
         "1428",
         "44.1"
        ],
        [
         "20943",
         "1",
         "300.32549953867573",
         "311.5045035368193",
         "1374",
         "47.87450046132426"
        ],
        [
         "9140",
         "1",
         "303.2541118512976",
         "311.5082237025952",
         "1319",
         "56.03980294411834"
        ],
        [
         "17279",
         "1",
         "298.1324014799472",
         "308.7059879162352",
         "1391",
         "61.88908828622195"
        ],
        [
         "2503",
         "0",
         "297.5",
         "309.3",
         "1459",
         "49.7"
        ],
        [
         "22342",
         "1",
         "301.77867230147336",
         "309.9772600808464",
         "1441",
         "45.086723014733536"
        ],
        [
         "11464",
         "1",
         "301.88051415316573",
         "310.1",
         "1360",
         "55.37922877025142"
        ],
        [
         "17441",
         "1",
         "299.7323495363581",
         "309.83461093216056",
         "2511",
         "13.176696046851864"
        ],
        [
         "12659",
         "1",
         "298.53675150913773",
         "308.6025636318533",
         "1346",
         "59.649856556134765"
        ],
        [
         "4660",
         "1",
         "303.0",
         "311.0",
         "1359",
         "44.2"
        ],
        [
         "22744",
         "0",
         "302.23753693234954",
         "311.28581727820654",
         "1635",
         "33.75745183461957"
        ],
        [
         "7072",
         "2",
         "300.5",
         "311.3",
         "1507",
         "43.4"
        ],
        [
         "21067",
         "0",
         "300.2887545464348",
         "309.8887545464348",
         "1394",
         "46.61003637147813"
        ],
        [
         "18568",
         "1",
         "302.3999772961782",
         "311.0000908152873",
         "1337",
         "67.59979566560357"
        ]
       ],
       "shape": {
        "columns": 5,
        "rows": 18988
       }
      },
      "text/html": [
       "<div>\n",
       "<style scoped>\n",
       "    .dataframe tbody tr th:only-of-type {\n",
       "        vertical-align: middle;\n",
       "    }\n",
       "\n",
       "    .dataframe tbody tr th {\n",
       "        vertical-align: top;\n",
       "    }\n",
       "\n",
       "    .dataframe thead th {\n",
       "        text-align: right;\n",
       "    }\n",
       "</style>\n",
       "<table border=\"1\" class=\"dataframe\">\n",
       "  <thead>\n",
       "    <tr style=\"text-align: right;\">\n",
       "      <th></th>\n",
       "      <th>Type</th>\n",
       "      <th>Air temperature [K]</th>\n",
       "      <th>Process temperature [K]</th>\n",
       "      <th>Rotational speed [rpm]</th>\n",
       "      <th>Torque [Nm]</th>\n",
       "    </tr>\n",
       "  </thead>\n",
       "  <tbody>\n",
       "    <tr>\n",
       "      <th>20738</th>\n",
       "      <td>2</td>\n",
       "      <td>300.046270</td>\n",
       "      <td>310.685081</td>\n",
       "      <td>1384</td>\n",
       "      <td>45.362702</td>\n",
       "    </tr>\n",
       "    <tr>\n",
       "      <th>16298</th>\n",
       "      <td>0</td>\n",
       "      <td>297.435180</td>\n",
       "      <td>308.075831</td>\n",
       "      <td>1383</td>\n",
       "      <td>62.926385</td>\n",
       "    </tr>\n",
       "    <tr>\n",
       "      <th>4153</th>\n",
       "      <td>1</td>\n",
       "      <td>302.500000</td>\n",
       "      <td>312.000000</td>\n",
       "      <td>1411</td>\n",
       "      <td>44.200000</td>\n",
       "    </tr>\n",
       "    <tr>\n",
       "      <th>2943</th>\n",
       "      <td>1</td>\n",
       "      <td>301.900000</td>\n",
       "      <td>310.400000</td>\n",
       "      <td>1376</td>\n",
       "      <td>54.900000</td>\n",
       "    </tr>\n",
       "    <tr>\n",
       "      <th>21308</th>\n",
       "      <td>1</td>\n",
       "      <td>301.752744</td>\n",
       "      <td>310.973628</td>\n",
       "      <td>1441</td>\n",
       "      <td>44.120671</td>\n",
       "    </tr>\n",
       "    <tr>\n",
       "      <th>...</th>\n",
       "      <td>...</td>\n",
       "      <td>...</td>\n",
       "      <td>...</td>\n",
       "      <td>...</td>\n",
       "      <td>...</td>\n",
       "    </tr>\n",
       "    <tr>\n",
       "      <th>21575</th>\n",
       "      <td>0</td>\n",
       "      <td>298.589409</td>\n",
       "      <td>308.001400</td>\n",
       "      <td>1607</td>\n",
       "      <td>35.850639</td>\n",
       "    </tr>\n",
       "    <tr>\n",
       "      <th>5390</th>\n",
       "      <td>1</td>\n",
       "      <td>297.200000</td>\n",
       "      <td>308.600000</td>\n",
       "      <td>1774</td>\n",
       "      <td>23.000000</td>\n",
       "    </tr>\n",
       "    <tr>\n",
       "      <th>860</th>\n",
       "      <td>2</td>\n",
       "      <td>298.500000</td>\n",
       "      <td>309.600000</td>\n",
       "      <td>1364</td>\n",
       "      <td>58.700000</td>\n",
       "    </tr>\n",
       "    <tr>\n",
       "      <th>15795</th>\n",
       "      <td>1</td>\n",
       "      <td>298.848736</td>\n",
       "      <td>310.067219</td>\n",
       "      <td>1370</td>\n",
       "      <td>53.663862</td>\n",
       "    </tr>\n",
       "    <tr>\n",
       "      <th>23654</th>\n",
       "      <td>0</td>\n",
       "      <td>300.773041</td>\n",
       "      <td>310.127534</td>\n",
       "      <td>1398</td>\n",
       "      <td>46.013767</td>\n",
       "    </tr>\n",
       "  </tbody>\n",
       "</table>\n",
       "<p>18988 rows × 5 columns</p>\n",
       "</div>"
      ],
      "text/plain": [
       "       Type  Air temperature [K]  Process temperature [K]  \\\n",
       "20738     2           300.046270               310.685081   \n",
       "16298     0           297.435180               308.075831   \n",
       "4153      1           302.500000               312.000000   \n",
       "2943      1           301.900000               310.400000   \n",
       "21308     1           301.752744               310.973628   \n",
       "...     ...                  ...                      ...   \n",
       "21575     0           298.589409               308.001400   \n",
       "5390      1           297.200000               308.600000   \n",
       "860       2           298.500000               309.600000   \n",
       "15795     1           298.848736               310.067219   \n",
       "23654     0           300.773041               310.127534   \n",
       "\n",
       "       Rotational speed [rpm]  Torque [Nm]  \n",
       "20738                    1384    45.362702  \n",
       "16298                    1383    62.926385  \n",
       "4153                     1411    44.200000  \n",
       "2943                     1376    54.900000  \n",
       "21308                    1441    44.120671  \n",
       "...                       ...          ...  \n",
       "21575                    1607    35.850639  \n",
       "5390                     1774    23.000000  \n",
       "860                      1364    58.700000  \n",
       "15795                    1370    53.663862  \n",
       "23654                    1398    46.013767  \n",
       "\n",
       "[18988 rows x 5 columns]"
      ]
     },
     "execution_count": 123,
     "metadata": {},
     "output_type": "execute_result"
    }
   ],
   "source": [
    "x_train"
   ]
  },
  {
   "cell_type": "code",
   "execution_count": 124,
   "id": "a5ce2dd9",
   "metadata": {},
   "outputs": [
    {
     "data": {
      "text/plain": [
       "((18988, 5), (4748, 5))"
      ]
     },
     "execution_count": 124,
     "metadata": {},
     "output_type": "execute_result"
    }
   ],
   "source": [
    "from sklearn.preprocessing import MinMaxScaler\n",
    "\n",
    "scaler = MinMaxScaler()\n",
    "scaler.fit(x_train)\n",
    "x_train = scaler.transform(x_train)\n",
    "x_test = scaler.transform(x_test)\n",
    "x_train.shape, x_test.shape"
   ]
  },
  {
   "cell_type": "code",
   "execution_count": 125,
   "id": "3e13ec29",
   "metadata": {},
   "outputs": [],
   "source": [
    "from sklearn.preprocessing import LabelEncoder\n",
    "\n",
    "y_train = LabelEncoder().fit_transform(y_train)\n",
    "y_test = LabelEncoder().fit_transform(y_test)"
   ]
  },
  {
   "cell_type": "code",
   "execution_count": null,
   "id": "b2a9fb45",
   "metadata": {},
   "outputs": [
    {
     "name": "stdout",
     "output_type": "stream",
     "text": [
      "Epoch 1/50\n",
      "\u001b[1m295/297\u001b[0m \u001b[32m━━━━━━━━━━━━━━━━━━━\u001b[0m\u001b[37m━\u001b[0m \u001b[1m0s\u001b[0m 4ms/step - accuracy: 0.4881 - loss: 1.3910\n",
      "Epoch 1: val_loss improved from inf to 1.24387, saving model to models2/dl_base.keras\n",
      "\u001b[1m297/297\u001b[0m \u001b[32m━━━━━━━━━━━━━━━━━━━━\u001b[0m\u001b[37m\u001b[0m \u001b[1m6s\u001b[0m 5ms/step - accuracy: 0.4893 - loss: 1.3876 - val_accuracy: 0.5703 - val_loss: 1.2439\n",
      "Epoch 2/50\n",
      "\u001b[1m291/297\u001b[0m \u001b[32m━━━━━━━━━━━━━━━━━━━\u001b[0m\u001b[37m━\u001b[0m \u001b[1m0s\u001b[0m 4ms/step - accuracy: 0.7293 - loss: 0.6936\n",
      "Epoch 2: val_loss improved from 1.24387 to 0.60894, saving model to models2/dl_base.keras\n",
      "\u001b[1m297/297\u001b[0m \u001b[32m━━━━━━━━━━━━━━━━━━━━\u001b[0m\u001b[37m\u001b[0m \u001b[1m2s\u001b[0m 5ms/step - accuracy: 0.7295 - loss: 0.6929 - val_accuracy: 0.7388 - val_loss: 0.6089\n",
      "Epoch 3/50\n",
      "\u001b[1m284/297\u001b[0m \u001b[32m━━━━━━━━━━━━━━━━━━━\u001b[0m\u001b[37m━\u001b[0m \u001b[1m0s\u001b[0m 4ms/step - accuracy: 0.7673 - loss: 0.5803\n",
      "Epoch 3: val_loss improved from 0.60894 to 0.40904, saving model to models2/dl_base.keras\n",
      "\u001b[1m297/297\u001b[0m \u001b[32m━━━━━━━━━━━━━━━━━━━━\u001b[0m\u001b[37m\u001b[0m \u001b[1m1s\u001b[0m 5ms/step - accuracy: 0.7675 - loss: 0.5799 - val_accuracy: 0.8366 - val_loss: 0.4090\n",
      "Epoch 4/50\n",
      "\u001b[1m297/297\u001b[0m \u001b[32m━━━━━━━━━━━━━━━━━━━━\u001b[0m\u001b[37m\u001b[0m \u001b[1m0s\u001b[0m 4ms/step - accuracy: 0.7733 - loss: 0.5521\n",
      "Epoch 4: val_loss improved from 0.40904 to 0.37416, saving model to models2/dl_base.keras\n",
      "\u001b[1m297/297\u001b[0m \u001b[32m━━━━━━━━━━━━━━━━━━━━\u001b[0m\u001b[37m\u001b[0m \u001b[1m2s\u001b[0m 5ms/step - accuracy: 0.7733 - loss: 0.5520 - val_accuracy: 0.8401 - val_loss: 0.3742\n",
      "Epoch 5/50\n",
      "\u001b[1m293/297\u001b[0m \u001b[32m━━━━━━━━━━━━━━━━━━━\u001b[0m\u001b[37m━\u001b[0m \u001b[1m0s\u001b[0m 4ms/step - accuracy: 0.7886 - loss: 0.5109\n",
      "Epoch 5: val_loss improved from 0.37416 to 0.36257, saving model to models2/dl_base.keras\n",
      "\u001b[1m297/297\u001b[0m \u001b[32m━━━━━━━━━━━━━━━━━━━━\u001b[0m\u001b[37m\u001b[0m \u001b[1m2s\u001b[0m 6ms/step - accuracy: 0.7887 - loss: 0.5107 - val_accuracy: 0.8477 - val_loss: 0.3626\n",
      "Epoch 6/50\n",
      "\u001b[1m293/297\u001b[0m \u001b[32m━━━━━━━━━━━━━━━━━━━\u001b[0m\u001b[37m━\u001b[0m \u001b[1m0s\u001b[0m 4ms/step - accuracy: 0.8050 - loss: 0.4781\n",
      "Epoch 6: val_loss improved from 0.36257 to 0.35223, saving model to models2/dl_base.keras\n",
      "\u001b[1m297/297\u001b[0m \u001b[32m━━━━━━━━━━━━━━━━━━━━\u001b[0m\u001b[37m\u001b[0m \u001b[1m2s\u001b[0m 5ms/step - accuracy: 0.8050 - loss: 0.4781 - val_accuracy: 0.8460 - val_loss: 0.3522\n",
      "Epoch 7/50\n",
      "\u001b[1m291/297\u001b[0m \u001b[32m━━━━━━━━━━━━━━━━━━━\u001b[0m\u001b[37m━\u001b[0m \u001b[1m0s\u001b[0m 4ms/step - accuracy: 0.8104 - loss: 0.4651\n",
      "Epoch 7: val_loss did not improve from 0.35223\n",
      "\u001b[1m297/297\u001b[0m \u001b[32m━━━━━━━━━━━━━━━━━━━━\u001b[0m\u001b[37m\u001b[0m \u001b[1m1s\u001b[0m 4ms/step - accuracy: 0.8104 - loss: 0.4651 - val_accuracy: 0.8420 - val_loss: 0.3624\n",
      "Epoch 8/50\n",
      "\u001b[1m291/297\u001b[0m \u001b[32m━━━━━━━━━━━━━━━━━━━\u001b[0m\u001b[37m━\u001b[0m \u001b[1m0s\u001b[0m 5ms/step - accuracy: 0.8076 - loss: 0.4597\n",
      "Epoch 8: val_loss did not improve from 0.35223\n",
      "\u001b[1m297/297\u001b[0m \u001b[32m━━━━━━━━━━━━━━━━━━━━\u001b[0m\u001b[37m\u001b[0m \u001b[1m2s\u001b[0m 6ms/step - accuracy: 0.8077 - loss: 0.4595 - val_accuracy: 0.8404 - val_loss: 0.3552\n",
      "Epoch 9/50\n",
      "\u001b[1m287/297\u001b[0m \u001b[32m━━━━━━━━━━━━━━━━━━━\u001b[0m\u001b[37m━\u001b[0m \u001b[1m0s\u001b[0m 4ms/step - accuracy: 0.8121 - loss: 0.4429\n",
      "Epoch 9: val_loss improved from 0.35223 to 0.31065, saving model to models2/dl_base.keras\n",
      "\u001b[1m297/297\u001b[0m \u001b[32m━━━━━━━━━━━━━━━━━━━━\u001b[0m\u001b[37m\u001b[0m \u001b[1m2s\u001b[0m 4ms/step - accuracy: 0.8122 - loss: 0.4428 - val_accuracy: 0.8701 - val_loss: 0.3106\n",
      "Epoch 10/50\n",
      "\u001b[1m290/297\u001b[0m \u001b[32m━━━━━━━━━━━━━━━━━━━\u001b[0m\u001b[37m━\u001b[0m \u001b[1m0s\u001b[0m 3ms/step - accuracy: 0.8220 - loss: 0.4236\n",
      "Epoch 10: val_loss did not improve from 0.31065\n",
      "\u001b[1m297/297\u001b[0m \u001b[32m━━━━━━━━━━━━━━━━━━━━\u001b[0m\u001b[37m\u001b[0m \u001b[1m1s\u001b[0m 5ms/step - accuracy: 0.8220 - loss: 0.4236 - val_accuracy: 0.8684 - val_loss: 0.3151\n",
      "Epoch 11/50\n",
      "\u001b[1m287/297\u001b[0m \u001b[32m━━━━━━━━━━━━━━━━━━━\u001b[0m\u001b[37m━\u001b[0m \u001b[1m0s\u001b[0m 3ms/step - accuracy: 0.8280 - loss: 0.4208\n",
      "Epoch 11: val_loss did not improve from 0.31065\n",
      "\u001b[1m297/297\u001b[0m \u001b[32m━━━━━━━━━━━━━━━━━━━━\u001b[0m\u001b[37m\u001b[0m \u001b[1m1s\u001b[0m 4ms/step - accuracy: 0.8280 - loss: 0.4208 - val_accuracy: 0.8551 - val_loss: 0.3302\n",
      "Epoch 12/50\n",
      "\u001b[1m286/297\u001b[0m \u001b[32m━━━━━━━━━━━━━━━━━━━\u001b[0m\u001b[37m━\u001b[0m \u001b[1m0s\u001b[0m 3ms/step - accuracy: 0.8235 - loss: 0.4180\n",
      "Epoch 12: val_loss improved from 0.31065 to 0.30285, saving model to models2/dl_base.keras\n",
      "\u001b[1m297/297\u001b[0m \u001b[32m━━━━━━━━━━━━━━━━━━━━\u001b[0m\u001b[37m\u001b[0m \u001b[1m1s\u001b[0m 4ms/step - accuracy: 0.8235 - loss: 0.4179 - val_accuracy: 0.8711 - val_loss: 0.3028\n",
      "Epoch 13/50\n",
      "\u001b[1m286/297\u001b[0m \u001b[32m━━━━━━━━━━━━━━━━━━━\u001b[0m\u001b[37m━\u001b[0m \u001b[1m0s\u001b[0m 3ms/step - accuracy: 0.8274 - loss: 0.4162\n",
      "Epoch 13: val_loss did not improve from 0.30285\n",
      "\u001b[1m297/297\u001b[0m \u001b[32m━━━━━━━━━━━━━━━━━━━━\u001b[0m\u001b[37m\u001b[0m \u001b[1m1s\u001b[0m 4ms/step - accuracy: 0.8275 - loss: 0.4159 - val_accuracy: 0.8637 - val_loss: 0.3280\n",
      "Epoch 14/50\n",
      "\u001b[1m297/297\u001b[0m \u001b[32m━━━━━━━━━━━━━━━━━━━━\u001b[0m\u001b[37m\u001b[0m \u001b[1m0s\u001b[0m 3ms/step - accuracy: 0.8347 - loss: 0.4018\n",
      "Epoch 14: val_loss improved from 0.30285 to 0.29828, saving model to models2/dl_base.keras\n",
      "\u001b[1m297/297\u001b[0m \u001b[32m━━━━━━━━━━━━━━━━━━━━\u001b[0m\u001b[37m\u001b[0m \u001b[1m1s\u001b[0m 4ms/step - accuracy: 0.8346 - loss: 0.4018 - val_accuracy: 0.8743 - val_loss: 0.2983\n",
      "Epoch 15/50\n",
      "\u001b[1m295/297\u001b[0m \u001b[32m━━━━━━━━━━━━━━━━━━━\u001b[0m\u001b[37m━\u001b[0m \u001b[1m0s\u001b[0m 4ms/step - accuracy: 0.8293 - loss: 0.4013\n",
      "Epoch 15: val_loss did not improve from 0.29828\n",
      "\u001b[1m297/297\u001b[0m \u001b[32m━━━━━━━━━━━━━━━━━━━━\u001b[0m\u001b[37m\u001b[0m \u001b[1m1s\u001b[0m 5ms/step - accuracy: 0.8294 - loss: 0.4013 - val_accuracy: 0.8658 - val_loss: 0.3198\n",
      "Epoch 16/50\n",
      "\u001b[1m294/297\u001b[0m \u001b[32m━━━━━━━━━━━━━━━━━━━\u001b[0m\u001b[37m━\u001b[0m \u001b[1m0s\u001b[0m 3ms/step - accuracy: 0.8375 - loss: 0.3955\n",
      "Epoch 16: val_loss did not improve from 0.29828\n",
      "\u001b[1m297/297\u001b[0m \u001b[32m━━━━━━━━━━━━━━━━━━━━\u001b[0m\u001b[37m\u001b[0m \u001b[1m1s\u001b[0m 4ms/step - accuracy: 0.8374 - loss: 0.3954 - val_accuracy: 0.8745 - val_loss: 0.3038\n",
      "Epoch 17/50\n",
      "\u001b[1m297/297\u001b[0m \u001b[32m━━━━━━━━━━━━━━━━━━━━\u001b[0m\u001b[37m\u001b[0m \u001b[1m0s\u001b[0m 4ms/step - accuracy: 0.8362 - loss: 0.3865\n",
      "Epoch 17: val_loss improved from 0.29828 to 0.28355, saving model to models2/dl_base.keras\n",
      "\u001b[1m297/297\u001b[0m \u001b[32m━━━━━━━━━━━━━━━━━━━━\u001b[0m\u001b[37m\u001b[0m \u001b[1m1s\u001b[0m 5ms/step - accuracy: 0.8362 - loss: 0.3865 - val_accuracy: 0.8816 - val_loss: 0.2835\n",
      "Epoch 18/50\n",
      "\u001b[1m292/297\u001b[0m \u001b[32m━━━━━━━━━━━━━━━━━━━\u001b[0m\u001b[37m━\u001b[0m \u001b[1m0s\u001b[0m 3ms/step - accuracy: 0.8448 - loss: 0.3715\n",
      "Epoch 18: val_loss improved from 0.28355 to 0.27531, saving model to models2/dl_base.keras\n",
      "\u001b[1m297/297\u001b[0m \u001b[32m━━━━━━━━━━━━━━━━━━━━\u001b[0m\u001b[37m\u001b[0m \u001b[1m1s\u001b[0m 4ms/step - accuracy: 0.8448 - loss: 0.3716 - val_accuracy: 0.8880 - val_loss: 0.2753\n",
      "Epoch 19/50\n",
      "\u001b[1m295/297\u001b[0m \u001b[32m━━━━━━━━━━━━━━━━━━━\u001b[0m\u001b[37m━\u001b[0m \u001b[1m0s\u001b[0m 4ms/step - accuracy: 0.8396 - loss: 0.3825\n",
      "Epoch 19: val_loss did not improve from 0.27531\n",
      "\u001b[1m297/297\u001b[0m \u001b[32m━━━━━━━━━━━━━━━━━━━━\u001b[0m\u001b[37m\u001b[0m \u001b[1m1s\u001b[0m 4ms/step - accuracy: 0.8396 - loss: 0.3825 - val_accuracy: 0.8833 - val_loss: 0.2842\n",
      "Epoch 20/50\n",
      "\u001b[1m291/297\u001b[0m \u001b[32m━━━━━━━━━━━━━━━━━━━\u001b[0m\u001b[37m━\u001b[0m \u001b[1m0s\u001b[0m 3ms/step - accuracy: 0.8456 - loss: 0.3651\n",
      "Epoch 20: val_loss did not improve from 0.27531\n",
      "\u001b[1m297/297\u001b[0m \u001b[32m━━━━━━━━━━━━━━━━━━━━\u001b[0m\u001b[37m\u001b[0m \u001b[1m3s\u001b[0m 4ms/step - accuracy: 0.8456 - loss: 0.3652 - val_accuracy: 0.8884 - val_loss: 0.2769\n",
      "Epoch 21/50\n",
      "\u001b[1m290/297\u001b[0m \u001b[32m━━━━━━━━━━━━━━━━━━━\u001b[0m\u001b[37m━\u001b[0m \u001b[1m0s\u001b[0m 5ms/step - accuracy: 0.8437 - loss: 0.3758\n",
      "Epoch 21: val_loss did not improve from 0.27531\n",
      "\u001b[1m297/297\u001b[0m \u001b[32m━━━━━━━━━━━━━━━━━━━━\u001b[0m\u001b[37m\u001b[0m \u001b[1m2s\u001b[0m 6ms/step - accuracy: 0.8437 - loss: 0.3757 - val_accuracy: 0.8791 - val_loss: 0.2864\n",
      "Epoch 22/50\n",
      "\u001b[1m291/297\u001b[0m \u001b[32m━━━━━━━━━━━━━━━━━━━\u001b[0m\u001b[37m━\u001b[0m \u001b[1m0s\u001b[0m 5ms/step - accuracy: 0.8431 - loss: 0.3741\n",
      "Epoch 22: val_loss did not improve from 0.27531\n",
      "\u001b[1m297/297\u001b[0m \u001b[32m━━━━━━━━━━━━━━━━━━━━\u001b[0m\u001b[37m\u001b[0m \u001b[1m2s\u001b[0m 6ms/step - accuracy: 0.8432 - loss: 0.3740 - val_accuracy: 0.8856 - val_loss: 0.2790\n",
      "Epoch 23/50\n",
      "\u001b[1m296/297\u001b[0m \u001b[32m━━━━━━━━━━━━━━━━━━━\u001b[0m\u001b[37m━\u001b[0m \u001b[1m0s\u001b[0m 4ms/step - accuracy: 0.8468 - loss: 0.3637\n",
      "Epoch 23: val_loss did not improve from 0.27531\n",
      "\u001b[1m297/297\u001b[0m \u001b[32m━━━━━━━━━━━━━━━━━━━━\u001b[0m\u001b[37m\u001b[0m \u001b[1m1s\u001b[0m 5ms/step - accuracy: 0.8468 - loss: 0.3637 - val_accuracy: 0.8825 - val_loss: 0.2831\n",
      "Epoch 23: early stopping\n",
      "Restoring model weights from the end of the best epoch: 18.\n",
      "Test Accuracy: 0.8880\n"
     ]
    }
   ],
   "source": [
    "import tensorflow as tf\n",
    "from tensorflow.keras import layers, models\n",
    "from sklearn.preprocessing import StandardScaler\n",
    "from sklearn.model_selection import train_test_split\n",
    "import numpy as np\n",
    "\n",
    "\n",
    "def build_baseline_nn(input_dim, num_classes):\n",
    "    model = models.Sequential([\n",
    "    layers.Dense(128, activation='relu', input_dim=input_dim),\n",
    "    layers.BatchNormalization(),\n",
    "    layers.Dropout(0.4),\n",
    "\n",
    "    layers.Dense(64, activation='relu'),\n",
    "    layers.BatchNormalization(),\n",
    "    layers.Dropout(0.3),\n",
    "\n",
    "    layers.Dense(32, activation='relu'),\n",
    "    layers.BatchNormalization(),\n",
    "\n",
    "    layers.Dense(num_classes, activation='softmax')\n",
    "])\n",
    "\n",
    "    optimizer = tf.keras.optimizers.Adam(learning_rate=0.0005)\n",
    "\n",
    "    model.compile(optimizer=optimizer,\n",
    "                  loss='sparse_categorical_crossentropy',\n",
    "                  metrics=['accuracy'])\n",
    "    return model\n",
    "\n",
    "num_classes = len(np.unique(y_train))\n",
    "model = build_baseline_nn(x_train.shape[1], num_classes)\n",
    "\n",
    "from tensorflow.keras.callbacks import EarlyStopping, ModelCheckpoint\n",
    "\n",
    "checkpoint = ModelCheckpoint(\n",
    "    filepath=\"models2/dl_base.keras\",   \n",
    "    monitor=\"val_loss\",         \n",
    "    save_best_only=True,        \n",
    "    verbose=1\n",
    ")\n",
    "\n",
    "early_stop = EarlyStopping(\n",
    "    monitor=\"val_loss\", \n",
    "    patience=5,                 \n",
    "    restore_best_weights=True,  \n",
    "    verbose=1\n",
    ")\n",
    "\n",
    "history = model.fit(\n",
    "    x_train, y_train,\n",
    "    validation_data=(x_test, y_test),\n",
    "    epochs=50,\n",
    "    batch_size=64,\n",
    "    callbacks=[early_stop, checkpoint],\n",
    "    verbose=1\n",
    ")\n",
    "\n",
    "loss, acc = model.evaluate(x_test, y_test, verbose=0)\n",
    "print(f\"Test Accuracy: {acc:.4f}\")\n"
   ]
  },
  {
   "cell_type": "code",
   "execution_count": 129,
   "id": "e34b7799",
   "metadata": {},
   "outputs": [
    {
     "name": "stderr",
     "output_type": "stream",
     "text": [
      "WARNING:absl:You are saving your model as an HDF5 file via `model.save()` or `keras.saving.save_model(model)`. This file format is considered legacy. We recommend using instead the native Keras format, e.g. `model.save('my_model.keras')` or `keras.saving.save_model(model, 'my_model.keras')`. \n"
     ]
    }
   ],
   "source": [
    "model.save('models2/smote-boderline/dl_baseline.h5')"
   ]
  },
  {
   "cell_type": "code",
   "execution_count": 130,
   "id": "2be0e39e",
   "metadata": {},
   "outputs": [
    {
     "name": "stderr",
     "output_type": "stream",
     "text": [
      "WARNING:absl:Compiled the loaded model, but the compiled metrics have yet to be built. `model.compile_metrics` will be empty until you train or evaluate the model.\n"
     ]
    },
    {
     "data": {
      "text/plain": [
       "[0.2753077447414398, 0.8879528045654297]"
      ]
     },
     "execution_count": 130,
     "metadata": {},
     "output_type": "execute_result"
    }
   ],
   "source": [
    "from tensorflow.keras.models import load_model\n",
    "\n",
    "m1 = load_model('models2/smote-boderline/dl_baseline.h5')\n",
    "m1.evaluate(x_test, y_test, verbose=0)"
   ]
  },
  {
   "cell_type": "code",
   "execution_count": 131,
   "id": "437b8aa1",
   "metadata": {},
   "outputs": [
    {
     "data": {
      "image/png": "[encoded data removed]",
      "text/plain": [
       "<Figure size 640x480 with 1 Axes>"
      ]
     },
     "metadata": {},
     "output_type": "display_data"
    },
    {
     "data": {
      "image/png": "[encoded data removed]",
      "text/plain": [
       "<Figure size 640x480 with 1 Axes>"
      ]
     },
     "metadata": {},
     "output_type": "display_data"
    }
   ],
   "source": [
    "from helper_functions import *\n",
    "\n",
    "plot_loss_curves(history)"
   ]
  },
  {
   "cell_type": "code",
   "execution_count": 142,
   "id": "f8f39e09",
   "metadata": {},
   "outputs": [
    {
     "name": "stdout",
     "output_type": "stream",
     "text": [
      "Epoch 1/100\n",
      "\u001b[1m297/297\u001b[0m \u001b[32m━━━━━━━━━━━━━━━━━━━━\u001b[0m\u001b[37m\u001b[0m \u001b[1m0s\u001b[0m 7ms/step - accuracy: 0.3378 - loss: 1.6529\n",
      "Epoch 1: val_loss improved from inf to 0.95721, saving model to models2/dl_transformer.keras\n",
      "\u001b[1m297/297\u001b[0m \u001b[32m━━━━━━━━━━━━━━━━━━━━\u001b[0m\u001b[37m\u001b[0m \u001b[1m7s\u001b[0m 9ms/step - accuracy: 0.3381 - loss: 1.6520 - val_accuracy: 0.6363 - val_loss: 0.9572\n",
      "Epoch 2/100\n",
      "\u001b[1m294/297\u001b[0m \u001b[32m━━━━━━━━━━━━━━━━━━━\u001b[0m\u001b[37m━\u001b[0m \u001b[1m0s\u001b[0m 9ms/step - accuracy: 0.6208 - loss: 0.9282\n",
      "Epoch 2: val_loss improved from 0.95721 to 0.68157, saving model to models2/dl_transformer.keras\n",
      "\u001b[1m297/297\u001b[0m \u001b[32m━━━━━━━━━━━━━━━━━━━━\u001b[0m\u001b[37m\u001b[0m \u001b[1m3s\u001b[0m 10ms/step - accuracy: 0.6212 - loss: 0.9273 - val_accuracy: 0.7294 - val_loss: 0.6816\n",
      "Epoch 3/100\n",
      "\u001b[1m289/297\u001b[0m \u001b[32m━━━━━━━━━━━━━━━━━━━\u001b[0m\u001b[37m━\u001b[0m \u001b[1m0s\u001b[0m 8ms/step - accuracy: 0.7062 - loss: 0.7012\n",
      "Epoch 3: val_loss improved from 0.68157 to 0.56894, saving model to models2/dl_transformer.keras\n",
      "\u001b[1m297/297\u001b[0m \u001b[32m━━━━━━━━━━━━━━━━━━━━\u001b[0m\u001b[37m\u001b[0m \u001b[1m5s\u001b[0m 9ms/step - accuracy: 0.7064 - loss: 0.7005 - val_accuracy: 0.7580 - val_loss: 0.5689\n",
      "Epoch 4/100\n",
      "\u001b[1m293/297\u001b[0m \u001b[32m━━━━━━━━━━━━━━━━━━━\u001b[0m\u001b[37m━\u001b[0m \u001b[1m0s\u001b[0m 8ms/step - accuracy: 0.7358 - loss: 0.6116\n",
      "Epoch 4: val_loss improved from 0.56894 to 0.51777, saving model to models2/dl_transformer.keras\n",
      "\u001b[1m297/297\u001b[0m \u001b[32m━━━━━━━━━━━━━━━━━━━━\u001b[0m\u001b[37m\u001b[0m \u001b[1m3s\u001b[0m 9ms/step - accuracy: 0.7360 - loss: 0.6113 - val_accuracy: 0.7767 - val_loss: 0.5178\n",
      "Epoch 5/100\n",
      "\u001b[1m292/297\u001b[0m \u001b[32m━━━━━━━━━━━━━━━━━━━\u001b[0m\u001b[37m━\u001b[0m \u001b[1m0s\u001b[0m 7ms/step - accuracy: 0.7622 - loss: 0.5566\n",
      "Epoch 5: val_loss improved from 0.51777 to 0.48519, saving model to models2/dl_transformer.keras\n",
      "\u001b[1m297/297\u001b[0m \u001b[32m━━━━━━━━━━━━━━━━━━━━\u001b[0m\u001b[37m\u001b[0m \u001b[1m3s\u001b[0m 8ms/step - accuracy: 0.7623 - loss: 0.5565 - val_accuracy: 0.7885 - val_loss: 0.4852\n",
      "Epoch 6/100\n",
      "\u001b[1m294/297\u001b[0m \u001b[32m━━━━━━━━━━━━━━━━━━━\u001b[0m\u001b[37m━\u001b[0m \u001b[1m0s\u001b[0m 8ms/step - accuracy: 0.7726 - loss: 0.5322\n",
      "Epoch 6: val_loss improved from 0.48519 to 0.46254, saving model to models2/dl_transformer.keras\n",
      "\u001b[1m297/297\u001b[0m \u001b[32m━━━━━━━━━━━━━━━━━━━━\u001b[0m\u001b[37m\u001b[0m \u001b[1m3s\u001b[0m 9ms/step - accuracy: 0.7726 - loss: 0.5321 - val_accuracy: 0.8060 - val_loss: 0.4625\n",
      "Epoch 7/100\n",
      "\u001b[1m295/297\u001b[0m \u001b[32m━━━━━━━━━━━━━━━━━━━\u001b[0m\u001b[37m━\u001b[0m \u001b[1m0s\u001b[0m 7ms/step - accuracy: 0.7900 - loss: 0.5002\n",
      "Epoch 7: val_loss improved from 0.46254 to 0.44177, saving model to models2/dl_transformer.keras\n",
      "\u001b[1m297/297\u001b[0m \u001b[32m━━━━━━━━━━━━━━━━━━━━\u001b[0m\u001b[37m\u001b[0m \u001b[1m2s\u001b[0m 8ms/step - accuracy: 0.7901 - loss: 0.5001 - val_accuracy: 0.8077 - val_loss: 0.4418\n",
      "Epoch 8/100\n",
      "\u001b[1m294/297\u001b[0m \u001b[32m━━━━━━━━━━━━━━━━━━━\u001b[0m\u001b[37m━\u001b[0m \u001b[1m0s\u001b[0m 8ms/step - accuracy: 0.7982 - loss: 0.4790\n",
      "Epoch 8: val_loss improved from 0.44177 to 0.41780, saving model to models2/dl_transformer.keras\n",
      "\u001b[1m297/297\u001b[0m \u001b[32m━━━━━━━━━━━━━━━━━━━━\u001b[0m\u001b[37m\u001b[0m \u001b[1m3s\u001b[0m 9ms/step - accuracy: 0.7982 - loss: 0.4789 - val_accuracy: 0.8212 - val_loss: 0.4178\n",
      "Epoch 9/100\n",
      "\u001b[1m294/297\u001b[0m \u001b[32m━━━━━━━━━━━━━━━━━━━\u001b[0m\u001b[37m━\u001b[0m \u001b[1m0s\u001b[0m 8ms/step - accuracy: 0.8046 - loss: 0.4609\n",
      "Epoch 9: val_loss improved from 0.41780 to 0.39646, saving model to models2/dl_transformer.keras\n",
      "\u001b[1m297/297\u001b[0m \u001b[32m━━━━━━━━━━━━━━━━━━━━\u001b[0m\u001b[37m\u001b[0m \u001b[1m5s\u001b[0m 9ms/step - accuracy: 0.8047 - loss: 0.4607 - val_accuracy: 0.8305 - val_loss: 0.3965\n",
      "Epoch 10/100\n",
      "\u001b[1m297/297\u001b[0m \u001b[32m━━━━━━━━━━━━━━━━━━━━\u001b[0m\u001b[37m\u001b[0m \u001b[1m0s\u001b[0m 7ms/step - accuracy: 0.8142 - loss: 0.4387\n",
      "Epoch 10: val_loss improved from 0.39646 to 0.38579, saving model to models2/dl_transformer.keras\n",
      "\u001b[1m297/297\u001b[0m \u001b[32m━━━━━━━━━━━━━━━━━━━━\u001b[0m\u001b[37m\u001b[0m \u001b[1m2s\u001b[0m 8ms/step - accuracy: 0.8143 - loss: 0.4387 - val_accuracy: 0.8309 - val_loss: 0.3858\n",
      "Epoch 11/100\n",
      "\u001b[1m292/297\u001b[0m \u001b[32m━━━━━━━━━━━━━━━━━━━\u001b[0m\u001b[37m━\u001b[0m \u001b[1m0s\u001b[0m 8ms/step - accuracy: 0.8266 - loss: 0.4133\n",
      "Epoch 11: val_loss improved from 0.38579 to 0.36259, saving model to models2/dl_transformer.keras\n",
      "\u001b[1m297/297\u001b[0m \u001b[32m━━━━━━━━━━━━━━━━━━━━\u001b[0m\u001b[37m\u001b[0m \u001b[1m3s\u001b[0m 9ms/step - accuracy: 0.8267 - loss: 0.4132 - val_accuracy: 0.8503 - val_loss: 0.3626\n",
      "Epoch 12/100\n",
      "\u001b[1m296/297\u001b[0m \u001b[32m━━━━━━━━━━━━━━━━━━━\u001b[0m\u001b[37m━\u001b[0m \u001b[1m0s\u001b[0m 8ms/step - accuracy: 0.8334 - loss: 0.4013\n",
      "Epoch 12: val_loss improved from 0.36259 to 0.35092, saving model to models2/dl_transformer.keras\n",
      "\u001b[1m297/297\u001b[0m \u001b[32m━━━━━━━━━━━━━━━━━━━━\u001b[0m\u001b[37m\u001b[0m \u001b[1m3s\u001b[0m 8ms/step - accuracy: 0.8334 - loss: 0.4012 - val_accuracy: 0.8465 - val_loss: 0.3509\n",
      "Epoch 13/100\n",
      "\u001b[1m296/297\u001b[0m \u001b[32m━━━━━━━━━━━━━━━━━━━\u001b[0m\u001b[37m━\u001b[0m \u001b[1m0s\u001b[0m 8ms/step - accuracy: 0.8406 - loss: 0.3715\n",
      "Epoch 13: val_loss improved from 0.35092 to 0.34109, saving model to models2/dl_transformer.keras\n",
      "\u001b[1m297/297\u001b[0m \u001b[32m━━━━━━━━━━━━━━━━━━━━\u001b[0m\u001b[37m\u001b[0m \u001b[1m3s\u001b[0m 9ms/step - accuracy: 0.8406 - loss: 0.3716 - val_accuracy: 0.8547 - val_loss: 0.3411\n",
      "Epoch 14/100\n",
      "\u001b[1m294/297\u001b[0m \u001b[32m━━━━━━━━━━━━━━━━━━━\u001b[0m\u001b[37m━\u001b[0m \u001b[1m0s\u001b[0m 8ms/step - accuracy: 0.8429 - loss: 0.3686\n",
      "Epoch 14: val_loss improved from 0.34109 to 0.32654, saving model to models2/dl_transformer.keras\n",
      "\u001b[1m297/297\u001b[0m \u001b[32m━━━━━━━━━━━━━━━━━━━━\u001b[0m\u001b[37m\u001b[0m \u001b[1m3s\u001b[0m 9ms/step - accuracy: 0.8429 - loss: 0.3685 - val_accuracy: 0.8580 - val_loss: 0.3265\n",
      "Epoch 15/100\n",
      "\u001b[1m292/297\u001b[0m \u001b[32m━━━━━━━━━━━━━━━━━━━\u001b[0m\u001b[37m━\u001b[0m \u001b[1m0s\u001b[0m 8ms/step - accuracy: 0.8513 - loss: 0.3503\n",
      "Epoch 15: val_loss improved from 0.32654 to 0.31654, saving model to models2/dl_transformer.keras\n",
      "\u001b[1m297/297\u001b[0m \u001b[32m━━━━━━━━━━━━━━━━━━━━\u001b[0m\u001b[37m\u001b[0m \u001b[1m3s\u001b[0m 9ms/step - accuracy: 0.8513 - loss: 0.3504 - val_accuracy: 0.8595 - val_loss: 0.3165\n",
      "Epoch 16/100\n",
      "\u001b[1m295/297\u001b[0m \u001b[32m━━━━━━━━━━━━━━━━━━━\u001b[0m\u001b[37m━\u001b[0m \u001b[1m0s\u001b[0m 8ms/step - accuracy: 0.8471 - loss: 0.3534\n",
      "Epoch 16: val_loss improved from 0.31654 to 0.31521, saving model to models2/dl_transformer.keras\n",
      "\u001b[1m297/297\u001b[0m \u001b[32m━━━━━━━━━━━━━━━━━━━━\u001b[0m\u001b[37m\u001b[0m \u001b[1m5s\u001b[0m 9ms/step - accuracy: 0.8471 - loss: 0.3534 - val_accuracy: 0.8604 - val_loss: 0.3152\n",
      "Epoch 17/100\n",
      "\u001b[1m290/297\u001b[0m \u001b[32m━━━━━━━━━━━━━━━━━━━\u001b[0m\u001b[37m━\u001b[0m \u001b[1m0s\u001b[0m 8ms/step - accuracy: 0.8600 - loss: 0.3441\n",
      "Epoch 17: val_loss improved from 0.31521 to 0.30429, saving model to models2/dl_transformer.keras\n",
      "\u001b[1m297/297\u001b[0m \u001b[32m━━━━━━━━━━━━━━━━━━━━\u001b[0m\u001b[37m\u001b[0m \u001b[1m3s\u001b[0m 9ms/step - accuracy: 0.8600 - loss: 0.3441 - val_accuracy: 0.8635 - val_loss: 0.3043\n",
      "Epoch 18/100\n",
      "\u001b[1m296/297\u001b[0m \u001b[32m━━━━━━━━━━━━━━━━━━━\u001b[0m\u001b[37m━\u001b[0m \u001b[1m0s\u001b[0m 9ms/step - accuracy: 0.8571 - loss: 0.3349\n",
      "Epoch 18: val_loss improved from 0.30429 to 0.30340, saving model to models2/dl_transformer.keras\n",
      "\u001b[1m297/297\u001b[0m \u001b[32m━━━━━━━━━━━━━━━━━━━━\u001b[0m\u001b[37m\u001b[0m \u001b[1m3s\u001b[0m 10ms/step - accuracy: 0.8570 - loss: 0.3349 - val_accuracy: 0.8618 - val_loss: 0.3034\n",
      "Epoch 19/100\n",
      "\u001b[1m292/297\u001b[0m \u001b[32m━━━━━━━━━━━━━━━━━━━\u001b[0m\u001b[37m━\u001b[0m \u001b[1m0s\u001b[0m 9ms/step - accuracy: 0.8573 - loss: 0.3291\n",
      "Epoch 19: val_loss improved from 0.30340 to 0.29802, saving model to models2/dl_transformer.keras\n",
      "\u001b[1m297/297\u001b[0m \u001b[32m━━━━━━━━━━━━━━━━━━━━\u001b[0m\u001b[37m\u001b[0m \u001b[1m5s\u001b[0m 10ms/step - accuracy: 0.8573 - loss: 0.3291 - val_accuracy: 0.8682 - val_loss: 0.2980\n",
      "Epoch 20/100\n",
      "\u001b[1m291/297\u001b[0m \u001b[32m━━━━━━━━━━━━━━━━━━━\u001b[0m\u001b[37m━\u001b[0m \u001b[1m0s\u001b[0m 8ms/step - accuracy: 0.8626 - loss: 0.3257\n",
      "Epoch 20: val_loss improved from 0.29802 to 0.29504, saving model to models2/dl_transformer.keras\n",
      "\u001b[1m297/297\u001b[0m \u001b[32m━━━━━━━━━━━━━━━━━━━━\u001b[0m\u001b[37m\u001b[0m \u001b[1m3s\u001b[0m 8ms/step - accuracy: 0.8626 - loss: 0.3257 - val_accuracy: 0.8652 - val_loss: 0.2950\n",
      "Epoch 21/100\n",
      "\u001b[1m290/297\u001b[0m \u001b[32m━━━━━━━━━━━━━━━━━━━\u001b[0m\u001b[37m━\u001b[0m \u001b[1m0s\u001b[0m 7ms/step - accuracy: 0.8628 - loss: 0.3171\n",
      "Epoch 21: val_loss improved from 0.29504 to 0.29164, saving model to models2/dl_transformer.keras\n",
      "\u001b[1m297/297\u001b[0m \u001b[32m━━━━━━━━━━━━━━━━━━━━\u001b[0m\u001b[37m\u001b[0m \u001b[1m2s\u001b[0m 8ms/step - accuracy: 0.8628 - loss: 0.3172 - val_accuracy: 0.8694 - val_loss: 0.2916\n",
      "Epoch 22/100\n",
      "\u001b[1m292/297\u001b[0m \u001b[32m━━━━━━━━━━━━━━━━━━━\u001b[0m\u001b[37m━\u001b[0m \u001b[1m0s\u001b[0m 8ms/step - accuracy: 0.8634 - loss: 0.3161\n",
      "Epoch 22: val_loss improved from 0.29164 to 0.28428, saving model to models2/dl_transformer.keras\n",
      "\u001b[1m297/297\u001b[0m \u001b[32m━━━━━━━━━━━━━━━━━━━━\u001b[0m\u001b[37m\u001b[0m \u001b[1m3s\u001b[0m 9ms/step - accuracy: 0.8634 - loss: 0.3161 - val_accuracy: 0.8810 - val_loss: 0.2843\n",
      "Epoch 23/100\n",
      "\u001b[1m297/297\u001b[0m \u001b[32m━━━━━━━━━━━━━━━━━━━━\u001b[0m\u001b[37m\u001b[0m \u001b[1m0s\u001b[0m 7ms/step - accuracy: 0.8679 - loss: 0.3088\n",
      "Epoch 23: val_loss improved from 0.28428 to 0.27973, saving model to models2/dl_transformer.keras\n",
      "\u001b[1m297/297\u001b[0m \u001b[32m━━━━━━━━━━━━━━━━━━━━\u001b[0m\u001b[37m\u001b[0m \u001b[1m2s\u001b[0m 8ms/step - accuracy: 0.8679 - loss: 0.3088 - val_accuracy: 0.8804 - val_loss: 0.2797\n",
      "Epoch 24/100\n",
      "\u001b[1m291/297\u001b[0m \u001b[32m━━━━━━━━━━━━━━━━━━━\u001b[0m\u001b[37m━\u001b[0m \u001b[1m0s\u001b[0m 7ms/step - accuracy: 0.8716 - loss: 0.3045\n",
      "Epoch 24: val_loss did not improve from 0.27973\n",
      "\u001b[1m297/297\u001b[0m \u001b[32m━━━━━━━━━━━━━━━━━━━━\u001b[0m\u001b[37m\u001b[0m \u001b[1m2s\u001b[0m 8ms/step - accuracy: 0.8716 - loss: 0.3045 - val_accuracy: 0.8709 - val_loss: 0.2864\n",
      "Epoch 25/100\n",
      "\u001b[1m295/297\u001b[0m \u001b[32m━━━━━━━━━━━━━━━━━━━\u001b[0m\u001b[37m━\u001b[0m \u001b[1m0s\u001b[0m 7ms/step - accuracy: 0.8726 - loss: 0.3045\n",
      "Epoch 25: val_loss did not improve from 0.27973\n",
      "\u001b[1m297/297\u001b[0m \u001b[32m━━━━━━━━━━━━━━━━━━━━\u001b[0m\u001b[37m\u001b[0m \u001b[1m2s\u001b[0m 8ms/step - accuracy: 0.8726 - loss: 0.3045 - val_accuracy: 0.8764 - val_loss: 0.2826\n",
      "Epoch 26/100\n",
      "\u001b[1m295/297\u001b[0m \u001b[32m━━━━━━━━━━━━━━━━━━━\u001b[0m\u001b[37m━\u001b[0m \u001b[1m0s\u001b[0m 7ms/step - accuracy: 0.8763 - loss: 0.2915\n",
      "Epoch 26: val_loss improved from 0.27973 to 0.27381, saving model to models2/dl_transformer.keras\n",
      "\u001b[1m297/297\u001b[0m \u001b[32m━━━━━━━━━━━━━━━━━━━━\u001b[0m\u001b[37m\u001b[0m \u001b[1m2s\u001b[0m 7ms/step - accuracy: 0.8763 - loss: 0.2915 - val_accuracy: 0.8810 - val_loss: 0.2738\n",
      "Epoch 27/100\n",
      "\u001b[1m295/297\u001b[0m \u001b[32m━━━━━━━━━━━━━━━━━━━\u001b[0m\u001b[37m━\u001b[0m \u001b[1m0s\u001b[0m 8ms/step - accuracy: 0.8712 - loss: 0.3002\n",
      "Epoch 27: val_loss improved from 0.27381 to 0.27003, saving model to models2/dl_transformer.keras\n",
      "\u001b[1m297/297\u001b[0m \u001b[32m━━━━━━━━━━━━━━━━━━━━\u001b[0m\u001b[37m\u001b[0m \u001b[1m3s\u001b[0m 9ms/step - accuracy: 0.8712 - loss: 0.3002 - val_accuracy: 0.8812 - val_loss: 0.2700\n",
      "Epoch 28/100\n",
      "\u001b[1m293/297\u001b[0m \u001b[32m━━━━━━━━━━━━━━━━━━━\u001b[0m\u001b[37m━\u001b[0m \u001b[1m0s\u001b[0m 6ms/step - accuracy: 0.8742 - loss: 0.2916\n",
      "Epoch 28: val_loss improved from 0.27003 to 0.26323, saving model to models2/dl_transformer.keras\n",
      "\u001b[1m297/297\u001b[0m \u001b[32m━━━━━━━━━━━━━━━━━━━━\u001b[0m\u001b[37m\u001b[0m \u001b[1m2s\u001b[0m 7ms/step - accuracy: 0.8743 - loss: 0.2916 - val_accuracy: 0.8840 - val_loss: 0.2632\n",
      "Epoch 29/100\n",
      "\u001b[1m291/297\u001b[0m \u001b[32m━━━━━━━━━━━━━━━━━━━\u001b[0m\u001b[37m━\u001b[0m \u001b[1m0s\u001b[0m 7ms/step - accuracy: 0.8728 - loss: 0.2963\n",
      "Epoch 29: val_loss did not improve from 0.26323\n",
      "\u001b[1m297/297\u001b[0m \u001b[32m━━━━━━━━━━━━━━━━━━━━\u001b[0m\u001b[37m\u001b[0m \u001b[1m2s\u001b[0m 8ms/step - accuracy: 0.8730 - loss: 0.2961 - val_accuracy: 0.8858 - val_loss: 0.2718\n",
      "Epoch 30/100\n",
      "\u001b[1m291/297\u001b[0m \u001b[32m━━━━━━━━━━━━━━━━━━━\u001b[0m\u001b[37m━\u001b[0m \u001b[1m0s\u001b[0m 7ms/step - accuracy: 0.8807 - loss: 0.2839\n",
      "Epoch 30: val_loss improved from 0.26323 to 0.26301, saving model to models2/dl_transformer.keras\n",
      "\u001b[1m297/297\u001b[0m \u001b[32m━━━━━━━━━━━━━━━━━━━━\u001b[0m\u001b[37m\u001b[0m \u001b[1m2s\u001b[0m 7ms/step - accuracy: 0.8808 - loss: 0.2839 - val_accuracy: 0.8974 - val_loss: 0.2630\n",
      "Epoch 31/100\n",
      "\u001b[1m295/297\u001b[0m \u001b[32m━━━━━━━━━━━━━━━━━━━\u001b[0m\u001b[37m━\u001b[0m \u001b[1m0s\u001b[0m 9ms/step - accuracy: 0.8799 - loss: 0.2892\n",
      "Epoch 31: val_loss improved from 0.26301 to 0.25918, saving model to models2/dl_transformer.keras\n",
      "\u001b[1m297/297\u001b[0m \u001b[32m━━━━━━━━━━━━━━━━━━━━\u001b[0m\u001b[37m\u001b[0m \u001b[1m3s\u001b[0m 10ms/step - accuracy: 0.8800 - loss: 0.2892 - val_accuracy: 0.8928 - val_loss: 0.2592\n",
      "Epoch 32/100\n",
      "\u001b[1m294/297\u001b[0m \u001b[32m━━━━━━━━━━━━━━━━━━━\u001b[0m\u001b[37m━\u001b[0m \u001b[1m0s\u001b[0m 7ms/step - accuracy: 0.8878 - loss: 0.2742\n",
      "Epoch 32: val_loss improved from 0.25918 to 0.25486, saving model to models2/dl_transformer.keras\n",
      "\u001b[1m297/297\u001b[0m \u001b[32m━━━━━━━━━━━━━━━━━━━━\u001b[0m\u001b[37m\u001b[0m \u001b[1m2s\u001b[0m 8ms/step - accuracy: 0.8877 - loss: 0.2743 - val_accuracy: 0.8884 - val_loss: 0.2549\n",
      "Epoch 33/100\n",
      "\u001b[1m289/297\u001b[0m \u001b[32m━━━━━━━━━━━━━━━━━━━\u001b[0m\u001b[37m━\u001b[0m \u001b[1m0s\u001b[0m 8ms/step - accuracy: 0.8860 - loss: 0.2701\n",
      "Epoch 33: val_loss did not improve from 0.25486\n",
      "\u001b[1m297/297\u001b[0m \u001b[32m━━━━━━━━━━━━━━━━━━━━\u001b[0m\u001b[37m\u001b[0m \u001b[1m2s\u001b[0m 8ms/step - accuracy: 0.8860 - loss: 0.2702 - val_accuracy: 0.8983 - val_loss: 0.2563\n",
      "Epoch 34/100\n",
      "\u001b[1m289/297\u001b[0m \u001b[32m━━━━━━━━━━━━━━━━━━━\u001b[0m\u001b[37m━\u001b[0m \u001b[1m0s\u001b[0m 8ms/step - accuracy: 0.8910 - loss: 0.2651\n",
      "Epoch 34: val_loss improved from 0.25486 to 0.24956, saving model to models2/dl_transformer.keras\n",
      "\u001b[1m297/297\u001b[0m \u001b[32m━━━━━━━━━━━━━━━━━━━━\u001b[0m\u001b[37m\u001b[0m \u001b[1m3s\u001b[0m 8ms/step - accuracy: 0.8909 - loss: 0.2653 - val_accuracy: 0.9008 - val_loss: 0.2496\n",
      "Epoch 35/100\n",
      "\u001b[1m291/297\u001b[0m \u001b[32m━━━━━━━━━━━━━━━━━━━\u001b[0m\u001b[37m━\u001b[0m \u001b[1m0s\u001b[0m 7ms/step - accuracy: 0.8888 - loss: 0.2675\n",
      "Epoch 35: val_loss improved from 0.24956 to 0.24815, saving model to models2/dl_transformer.keras\n",
      "\u001b[1m297/297\u001b[0m \u001b[32m━━━━━━━━━━━━━━━━━━━━\u001b[0m\u001b[37m\u001b[0m \u001b[1m2s\u001b[0m 8ms/step - accuracy: 0.8888 - loss: 0.2676 - val_accuracy: 0.8960 - val_loss: 0.2481\n",
      "Epoch 36/100\n",
      "\u001b[1m295/297\u001b[0m \u001b[32m━━━━━━━━━━━━━━━━━━━\u001b[0m\u001b[37m━\u001b[0m \u001b[1m0s\u001b[0m 8ms/step - accuracy: 0.8896 - loss: 0.2748\n",
      "Epoch 36: val_loss improved from 0.24815 to 0.24614, saving model to models2/dl_transformer.keras\n",
      "\u001b[1m297/297\u001b[0m \u001b[32m━━━━━━━━━━━━━━━━━━━━\u001b[0m\u001b[37m\u001b[0m \u001b[1m3s\u001b[0m 9ms/step - accuracy: 0.8897 - loss: 0.2747 - val_accuracy: 0.9008 - val_loss: 0.2461\n",
      "Epoch 37/100\n",
      "\u001b[1m297/297\u001b[0m \u001b[32m━━━━━━━━━━━━━━━━━━━━\u001b[0m\u001b[37m\u001b[0m \u001b[1m0s\u001b[0m 7ms/step - accuracy: 0.8928 - loss: 0.2597\n",
      "Epoch 37: val_loss improved from 0.24614 to 0.24540, saving model to models2/dl_transformer.keras\n",
      "\u001b[1m297/297\u001b[0m \u001b[32m━━━━━━━━━━━━━━━━━━━━\u001b[0m\u001b[37m\u001b[0m \u001b[1m2s\u001b[0m 8ms/step - accuracy: 0.8928 - loss: 0.2597 - val_accuracy: 0.9035 - val_loss: 0.2454\n",
      "Epoch 38/100\n",
      "\u001b[1m292/297\u001b[0m \u001b[32m━━━━━━━━━━━━━━━━━━━\u001b[0m\u001b[37m━\u001b[0m \u001b[1m0s\u001b[0m 8ms/step - accuracy: 0.8894 - loss: 0.2719\n",
      "Epoch 38: val_loss improved from 0.24540 to 0.24034, saving model to models2/dl_transformer.keras\n",
      "\u001b[1m297/297\u001b[0m \u001b[32m━━━━━━━━━━━━━━━━━━━━\u001b[0m\u001b[37m\u001b[0m \u001b[1m3s\u001b[0m 9ms/step - accuracy: 0.8895 - loss: 0.2717 - val_accuracy: 0.9046 - val_loss: 0.2403\n",
      "Epoch 39/100\n",
      "\u001b[1m295/297\u001b[0m \u001b[32m━━━━━━━━━━━━━━━━━━━\u001b[0m\u001b[37m━\u001b[0m \u001b[1m0s\u001b[0m 7ms/step - accuracy: 0.8918 - loss: 0.2619\n",
      "Epoch 39: val_loss did not improve from 0.24034\n",
      "\u001b[1m297/297\u001b[0m \u001b[32m━━━━━━━━━━━━━━━━━━━━\u001b[0m\u001b[37m\u001b[0m \u001b[1m2s\u001b[0m 8ms/step - accuracy: 0.8918 - loss: 0.2619 - val_accuracy: 0.9006 - val_loss: 0.2404\n",
      "Epoch 40/100\n",
      "\u001b[1m293/297\u001b[0m \u001b[32m━━━━━━━━━━━━━━━━━━━\u001b[0m\u001b[37m━\u001b[0m \u001b[1m0s\u001b[0m 8ms/step - accuracy: 0.8942 - loss: 0.2568\n",
      "Epoch 40: val_loss did not improve from 0.24034\n",
      "\u001b[1m297/297\u001b[0m \u001b[32m━━━━━━━━━━━━━━━━━━━━\u001b[0m\u001b[37m\u001b[0m \u001b[1m3s\u001b[0m 9ms/step - accuracy: 0.8942 - loss: 0.2568 - val_accuracy: 0.9014 - val_loss: 0.2428\n",
      "Epoch 41/100\n",
      "\u001b[1m291/297\u001b[0m \u001b[32m━━━━━━━━━━━━━━━━━━━\u001b[0m\u001b[37m━\u001b[0m \u001b[1m0s\u001b[0m 7ms/step - accuracy: 0.9001 - loss: 0.2461\n",
      "Epoch 41: val_loss did not improve from 0.24034\n",
      "\u001b[1m297/297\u001b[0m \u001b[32m━━━━━━━━━━━━━━━━━━━━\u001b[0m\u001b[37m\u001b[0m \u001b[1m2s\u001b[0m 7ms/step - accuracy: 0.9000 - loss: 0.2463 - val_accuracy: 0.9044 - val_loss: 0.2408\n",
      "Epoch 42/100\n",
      "\u001b[1m296/297\u001b[0m \u001b[32m━━━━━━━━━━━━━━━━━━━\u001b[0m\u001b[37m━\u001b[0m \u001b[1m0s\u001b[0m 7ms/step - accuracy: 0.8905 - loss: 0.2581\n",
      "Epoch 42: val_loss improved from 0.24034 to 0.23611, saving model to models2/dl_transformer.keras\n",
      "\u001b[1m297/297\u001b[0m \u001b[32m━━━━━━━━━━━━━━━━━━━━\u001b[0m\u001b[37m\u001b[0m \u001b[1m3s\u001b[0m 7ms/step - accuracy: 0.8905 - loss: 0.2581 - val_accuracy: 0.9031 - val_loss: 0.2361\n",
      "Epoch 43/100\n",
      "\u001b[1m292/297\u001b[0m \u001b[32m━━━━━━━━━━━━━━━━━━━\u001b[0m\u001b[37m━\u001b[0m \u001b[1m0s\u001b[0m 8ms/step - accuracy: 0.8960 - loss: 0.2483\n",
      "Epoch 43: val_loss improved from 0.23611 to 0.23246, saving model to models2/dl_transformer.keras\n",
      "\u001b[1m297/297\u001b[0m \u001b[32m━━━━━━━━━━━━━━━━━━━━\u001b[0m\u001b[37m\u001b[0m \u001b[1m3s\u001b[0m 9ms/step - accuracy: 0.8960 - loss: 0.2483 - val_accuracy: 0.9141 - val_loss: 0.2325\n",
      "Epoch 44/100\n",
      "\u001b[1m295/297\u001b[0m \u001b[32m━━━━━━━━━━━━━━━━━━━\u001b[0m\u001b[37m━\u001b[0m \u001b[1m0s\u001b[0m 7ms/step - accuracy: 0.8973 - loss: 0.2448\n",
      "Epoch 44: val_loss improved from 0.23246 to 0.23076, saving model to models2/dl_transformer.keras\n",
      "\u001b[1m297/297\u001b[0m \u001b[32m━━━━━━━━━━━━━━━━━━━━\u001b[0m\u001b[37m\u001b[0m \u001b[1m2s\u001b[0m 8ms/step - accuracy: 0.8973 - loss: 0.2449 - val_accuracy: 0.9103 - val_loss: 0.2308\n",
      "Epoch 45/100\n",
      "\u001b[1m290/297\u001b[0m \u001b[32m━━━━━━━━━━━━━━━━━━━\u001b[0m\u001b[37m━\u001b[0m \u001b[1m0s\u001b[0m 8ms/step - accuracy: 0.8988 - loss: 0.2492\n",
      "Epoch 45: val_loss did not improve from 0.23076\n",
      "\u001b[1m297/297\u001b[0m \u001b[32m━━━━━━━━━━━━━━━━━━━━\u001b[0m\u001b[37m\u001b[0m \u001b[1m3s\u001b[0m 9ms/step - accuracy: 0.8987 - loss: 0.2492 - val_accuracy: 0.9126 - val_loss: 0.2317\n",
      "Epoch 46/100\n",
      "\u001b[1m296/297\u001b[0m \u001b[32m━━━━━━━━━━━━━━━━━━━\u001b[0m\u001b[37m━\u001b[0m \u001b[1m0s\u001b[0m 8ms/step - accuracy: 0.9050 - loss: 0.2416\n",
      "Epoch 46: val_loss improved from 0.23076 to 0.22927, saving model to models2/dl_transformer.keras\n",
      "\u001b[1m297/297\u001b[0m \u001b[32m━━━━━━━━━━━━━━━━━━━━\u001b[0m\u001b[37m\u001b[0m \u001b[1m3s\u001b[0m 8ms/step - accuracy: 0.9049 - loss: 0.2417 - val_accuracy: 0.9134 - val_loss: 0.2293\n",
      "Epoch 47/100\n",
      "\u001b[1m296/297\u001b[0m \u001b[32m━━━━━━━━━━━━━━━━━━━\u001b[0m\u001b[37m━\u001b[0m \u001b[1m0s\u001b[0m 7ms/step - accuracy: 0.9023 - loss: 0.2435\n",
      "Epoch 47: val_loss did not improve from 0.22927\n",
      "\u001b[1m297/297\u001b[0m \u001b[32m━━━━━━━━━━━━━━━━━━━━\u001b[0m\u001b[37m\u001b[0m \u001b[1m2s\u001b[0m 8ms/step - accuracy: 0.9023 - loss: 0.2435 - val_accuracy: 0.9088 - val_loss: 0.2347\n",
      "Epoch 48/100\n",
      "\u001b[1m293/297\u001b[0m \u001b[32m━━━━━━━━━━━━━━━━━━━\u001b[0m\u001b[37m━\u001b[0m \u001b[1m0s\u001b[0m 8ms/step - accuracy: 0.9025 - loss: 0.2408\n",
      "Epoch 48: val_loss improved from 0.22927 to 0.22427, saving model to models2/dl_transformer.keras\n",
      "\u001b[1m297/297\u001b[0m \u001b[32m━━━━━━━━━━━━━━━━━━━━\u001b[0m\u001b[37m\u001b[0m \u001b[1m3s\u001b[0m 8ms/step - accuracy: 0.9025 - loss: 0.2408 - val_accuracy: 0.9126 - val_loss: 0.2243\n",
      "Epoch 49/100\n",
      "\u001b[1m292/297\u001b[0m \u001b[32m━━━━━━━━━━━━━━━━━━━\u001b[0m\u001b[37m━\u001b[0m \u001b[1m0s\u001b[0m 8ms/step - accuracy: 0.9015 - loss: 0.2438\n",
      "Epoch 49: val_loss improved from 0.22427 to 0.22341, saving model to models2/dl_transformer.keras\n",
      "\u001b[1m297/297\u001b[0m \u001b[32m━━━━━━━━━━━━━━━━━━━━\u001b[0m\u001b[37m\u001b[0m \u001b[1m3s\u001b[0m 9ms/step - accuracy: 0.9015 - loss: 0.2437 - val_accuracy: 0.9141 - val_loss: 0.2234\n",
      "Epoch 50/100\n",
      "\u001b[1m291/297\u001b[0m \u001b[32m━━━━━━━━━━━━━━━━━━━\u001b[0m\u001b[37m━\u001b[0m \u001b[1m0s\u001b[0m 7ms/step - accuracy: 0.8979 - loss: 0.2434\n",
      "Epoch 50: val_loss did not improve from 0.22341\n",
      "\u001b[1m297/297\u001b[0m \u001b[32m━━━━━━━━━━━━━━━━━━━━\u001b[0m\u001b[37m\u001b[0m \u001b[1m2s\u001b[0m 8ms/step - accuracy: 0.8980 - loss: 0.2433 - val_accuracy: 0.9141 - val_loss: 0.2237\n",
      "Epoch 51/100\n",
      "\u001b[1m296/297\u001b[0m \u001b[32m━━━━━━━━━━━━━━━━━━━\u001b[0m\u001b[37m━\u001b[0m \u001b[1m0s\u001b[0m 8ms/step - accuracy: 0.9010 - loss: 0.2357\n",
      "Epoch 51: val_loss did not improve from 0.22341\n",
      "\u001b[1m297/297\u001b[0m \u001b[32m━━━━━━━━━━━━━━━━━━━━\u001b[0m\u001b[37m\u001b[0m \u001b[1m3s\u001b[0m 8ms/step - accuracy: 0.9010 - loss: 0.2358 - val_accuracy: 0.9149 - val_loss: 0.2273\n",
      "Epoch 52/100\n",
      "\u001b[1m295/297\u001b[0m \u001b[32m━━━━━━━━━━━━━━━━━━━\u001b[0m\u001b[37m━\u001b[0m \u001b[1m0s\u001b[0m 8ms/step - accuracy: 0.9042 - loss: 0.2368\n",
      "Epoch 52: val_loss improved from 0.22341 to 0.22154, saving model to models2/dl_transformer.keras\n",
      "\u001b[1m297/297\u001b[0m \u001b[32m━━━━━━━━━━━━━━━━━━━━\u001b[0m\u001b[37m\u001b[0m \u001b[1m3s\u001b[0m 9ms/step - accuracy: 0.9042 - loss: 0.2368 - val_accuracy: 0.9166 - val_loss: 0.2215\n",
      "Epoch 53/100\n",
      "\u001b[1m296/297\u001b[0m \u001b[32m━━━━━━━━━━━━━━━━━━━\u001b[0m\u001b[37m━\u001b[0m \u001b[1m0s\u001b[0m 7ms/step - accuracy: 0.9027 - loss: 0.2343\n",
      "Epoch 53: val_loss did not improve from 0.22154\n",
      "\u001b[1m297/297\u001b[0m \u001b[32m━━━━━━━━━━━━━━━━━━━━\u001b[0m\u001b[37m\u001b[0m \u001b[1m2s\u001b[0m 7ms/step - accuracy: 0.9027 - loss: 0.2344 - val_accuracy: 0.9136 - val_loss: 0.2292\n",
      "Epoch 54/100\n",
      "\u001b[1m296/297\u001b[0m \u001b[32m━━━━━━━━━━━━━━━━━━━\u001b[0m\u001b[37m━\u001b[0m \u001b[1m0s\u001b[0m 8ms/step - accuracy: 0.9113 - loss: 0.2278\n",
      "Epoch 54: val_loss improved from 0.22154 to 0.21963, saving model to models2/dl_transformer.keras\n",
      "\u001b[1m297/297\u001b[0m \u001b[32m━━━━━━━━━━━━━━━━━━━━\u001b[0m\u001b[37m\u001b[0m \u001b[1m3s\u001b[0m 9ms/step - accuracy: 0.9113 - loss: 0.2279 - val_accuracy: 0.9151 - val_loss: 0.2196\n",
      "Epoch 55/100\n",
      "\u001b[1m294/297\u001b[0m \u001b[32m━━━━━━━━━━━━━━━━━━━\u001b[0m\u001b[37m━\u001b[0m \u001b[1m0s\u001b[0m 8ms/step - accuracy: 0.9081 - loss: 0.2318\n",
      "Epoch 55: val_loss did not improve from 0.21963\n",
      "\u001b[1m297/297\u001b[0m \u001b[32m━━━━━━━━━━━━━━━━━━━━\u001b[0m\u001b[37m\u001b[0m \u001b[1m2s\u001b[0m 8ms/step - accuracy: 0.9081 - loss: 0.2319 - val_accuracy: 0.9158 - val_loss: 0.2216\n",
      "Epoch 56/100\n",
      "\u001b[1m291/297\u001b[0m \u001b[32m━━━━━━━━━━━━━━━━━━━\u001b[0m\u001b[37m━\u001b[0m \u001b[1m0s\u001b[0m 8ms/step - accuracy: 0.9068 - loss: 0.2328\n",
      "Epoch 56: val_loss did not improve from 0.21963\n",
      "\u001b[1m297/297\u001b[0m \u001b[32m━━━━━━━━━━━━━━━━━━━━\u001b[0m\u001b[37m\u001b[0m \u001b[1m3s\u001b[0m 9ms/step - accuracy: 0.9068 - loss: 0.2328 - val_accuracy: 0.9179 - val_loss: 0.2274\n",
      "Epoch 57/100\n",
      "\u001b[1m295/297\u001b[0m \u001b[32m━━━━━━━━━━━━━━━━━━━\u001b[0m\u001b[37m━\u001b[0m \u001b[1m0s\u001b[0m 7ms/step - accuracy: 0.9091 - loss: 0.2351\n",
      "Epoch 57: val_loss did not improve from 0.21963\n",
      "\u001b[1m297/297\u001b[0m \u001b[32m━━━━━━━━━━━━━━━━━━━━\u001b[0m\u001b[37m\u001b[0m \u001b[1m2s\u001b[0m 8ms/step - accuracy: 0.9091 - loss: 0.2350 - val_accuracy: 0.9162 - val_loss: 0.2239\n",
      "Epoch 58/100\n",
      "\u001b[1m292/297\u001b[0m \u001b[32m━━━━━━━━━━━━━━━━━━━\u001b[0m\u001b[37m━\u001b[0m \u001b[1m0s\u001b[0m 7ms/step - accuracy: 0.9105 - loss: 0.2297\n",
      "Epoch 58: val_loss did not improve from 0.21963\n",
      "\u001b[1m297/297\u001b[0m \u001b[32m━━━━━━━━━━━━━━━━━━━━\u001b[0m\u001b[37m\u001b[0m \u001b[1m2s\u001b[0m 8ms/step - accuracy: 0.9105 - loss: 0.2297 - val_accuracy: 0.9208 - val_loss: 0.2220\n",
      "Epoch 59/100\n",
      "\u001b[1m294/297\u001b[0m \u001b[32m━━━━━━━━━━━━━━━━━━━\u001b[0m\u001b[37m━\u001b[0m \u001b[1m0s\u001b[0m 7ms/step - accuracy: 0.9099 - loss: 0.2301\n",
      "Epoch 59: val_loss improved from 0.21963 to 0.21140, saving model to models2/dl_transformer.keras\n",
      "\u001b[1m297/297\u001b[0m \u001b[32m━━━━━━━━━━━━━━━━━━━━\u001b[0m\u001b[37m\u001b[0m \u001b[1m3s\u001b[0m 8ms/step - accuracy: 0.9099 - loss: 0.2301 - val_accuracy: 0.9198 - val_loss: 0.2114\n",
      "Epoch 60/100\n",
      "\u001b[1m294/297\u001b[0m \u001b[32m━━━━━━━━━━━━━━━━━━━\u001b[0m\u001b[37m━\u001b[0m \u001b[1m0s\u001b[0m 8ms/step - accuracy: 0.9069 - loss: 0.2357\n",
      "Epoch 60: val_loss improved from 0.21140 to 0.21115, saving model to models2/dl_transformer.keras\n",
      "\u001b[1m297/297\u001b[0m \u001b[32m━━━━━━━━━━━━━━━━━━━━\u001b[0m\u001b[37m\u001b[0m \u001b[1m3s\u001b[0m 9ms/step - accuracy: 0.9069 - loss: 0.2356 - val_accuracy: 0.9238 - val_loss: 0.2112\n",
      "Epoch 61/100\n",
      "\u001b[1m292/297\u001b[0m \u001b[32m━━━━━━━━━━━━━━━━━━━\u001b[0m\u001b[37m━\u001b[0m \u001b[1m0s\u001b[0m 8ms/step - accuracy: 0.9124 - loss: 0.2202\n",
      "Epoch 61: val_loss improved from 0.21115 to 0.21106, saving model to models2/dl_transformer.keras\n",
      "\u001b[1m297/297\u001b[0m \u001b[32m━━━━━━━━━━━━━━━━━━━━\u001b[0m\u001b[37m\u001b[0m \u001b[1m5s\u001b[0m 9ms/step - accuracy: 0.9124 - loss: 0.2202 - val_accuracy: 0.9240 - val_loss: 0.2111\n",
      "Epoch 62/100\n",
      "\u001b[1m295/297\u001b[0m \u001b[32m━━━━━━━━━━━━━━━━━━━\u001b[0m\u001b[37m━\u001b[0m \u001b[1m0s\u001b[0m 7ms/step - accuracy: 0.9076 - loss: 0.2253\n",
      "Epoch 62: val_loss improved from 0.21106 to 0.20935, saving model to models2/dl_transformer.keras\n",
      "\u001b[1m297/297\u001b[0m \u001b[32m━━━━━━━━━━━━━━━━━━━━\u001b[0m\u001b[37m\u001b[0m \u001b[1m2s\u001b[0m 8ms/step - accuracy: 0.9076 - loss: 0.2253 - val_accuracy: 0.9204 - val_loss: 0.2093\n",
      "Epoch 63/100\n",
      "\u001b[1m294/297\u001b[0m \u001b[32m━━━━━━━━━━━━━━━━━━━\u001b[0m\u001b[37m━\u001b[0m \u001b[1m0s\u001b[0m 7ms/step - accuracy: 0.9120 - loss: 0.2251\n",
      "Epoch 63: val_loss did not improve from 0.20935\n",
      "\u001b[1m297/297\u001b[0m \u001b[32m━━━━━━━━━━━━━━━━━━━━\u001b[0m\u001b[37m\u001b[0m \u001b[1m3s\u001b[0m 8ms/step - accuracy: 0.9121 - loss: 0.2250 - val_accuracy: 0.9217 - val_loss: 0.2128\n",
      "Epoch 64/100\n",
      "\u001b[1m297/297\u001b[0m \u001b[32m━━━━━━━━━━━━━━━━━━━━\u001b[0m\u001b[37m\u001b[0m \u001b[1m0s\u001b[0m 7ms/step - accuracy: 0.9100 - loss: 0.2277\n",
      "Epoch 64: val_loss did not improve from 0.20935\n",
      "\u001b[1m297/297\u001b[0m \u001b[32m━━━━━━━━━━━━━━━━━━━━\u001b[0m\u001b[37m\u001b[0m \u001b[1m2s\u001b[0m 8ms/step - accuracy: 0.9100 - loss: 0.2277 - val_accuracy: 0.9200 - val_loss: 0.2129\n",
      "Epoch 65/100\n",
      "\u001b[1m294/297\u001b[0m \u001b[32m━━━━━━━━━━━━━━━━━━━\u001b[0m\u001b[37m━\u001b[0m \u001b[1m0s\u001b[0m 8ms/step - accuracy: 0.9086 - loss: 0.2273\n",
      "Epoch 65: val_loss did not improve from 0.20935\n",
      "\u001b[1m297/297\u001b[0m \u001b[32m━━━━━━━━━━━━━━━━━━━━\u001b[0m\u001b[37m\u001b[0m \u001b[1m3s\u001b[0m 8ms/step - accuracy: 0.9086 - loss: 0.2273 - val_accuracy: 0.9214 - val_loss: 0.2132\n",
      "Epoch 66/100\n",
      "\u001b[1m296/297\u001b[0m \u001b[32m━━━━━━━━━━━━━━━━━━━\u001b[0m\u001b[37m━\u001b[0m \u001b[1m0s\u001b[0m 7ms/step - accuracy: 0.9154 - loss: 0.2218\n",
      "Epoch 66: val_loss did not improve from 0.20935\n",
      "\u001b[1m297/297\u001b[0m \u001b[32m━━━━━━━━━━━━━━━━━━━━\u001b[0m\u001b[37m\u001b[0m \u001b[1m2s\u001b[0m 8ms/step - accuracy: 0.9154 - loss: 0.2218 - val_accuracy: 0.9208 - val_loss: 0.2134\n",
      "Epoch 67/100\n",
      "\u001b[1m296/297\u001b[0m \u001b[32m━━━━━━━━━━━━━━━━━━━\u001b[0m\u001b[37m━\u001b[0m \u001b[1m0s\u001b[0m 7ms/step - accuracy: 0.9156 - loss: 0.2146\n",
      "Epoch 67: val_loss improved from 0.20935 to 0.20491, saving model to models2/dl_transformer.keras\n",
      "\u001b[1m297/297\u001b[0m \u001b[32m━━━━━━━━━━━━━━━━━━━━\u001b[0m\u001b[37m\u001b[0m \u001b[1m3s\u001b[0m 8ms/step - accuracy: 0.9156 - loss: 0.2146 - val_accuracy: 0.9267 - val_loss: 0.2049\n",
      "Epoch 68/100\n",
      "\u001b[1m295/297\u001b[0m \u001b[32m━━━━━━━━━━━━━━━━━━━\u001b[0m\u001b[37m━\u001b[0m \u001b[1m0s\u001b[0m 8ms/step - accuracy: 0.9193 - loss: 0.2137\n",
      "Epoch 68: val_loss improved from 0.20491 to 0.20332, saving model to models2/dl_transformer.keras\n",
      "\u001b[1m297/297\u001b[0m \u001b[32m━━━━━━━━━━━━━━━━━━━━\u001b[0m\u001b[37m\u001b[0m \u001b[1m3s\u001b[0m 9ms/step - accuracy: 0.9193 - loss: 0.2138 - val_accuracy: 0.9246 - val_loss: 0.2033\n",
      "Epoch 69/100\n",
      "\u001b[1m294/297\u001b[0m \u001b[32m━━━━━━━━━━━━━━━━━━━\u001b[0m\u001b[37m━\u001b[0m \u001b[1m0s\u001b[0m 8ms/step - accuracy: 0.9120 - loss: 0.2168\n",
      "Epoch 69: val_loss did not improve from 0.20332\n",
      "\u001b[1m297/297\u001b[0m \u001b[32m━━━━━━━━━━━━━━━━━━━━\u001b[0m\u001b[37m\u001b[0m \u001b[1m3s\u001b[0m 8ms/step - accuracy: 0.9120 - loss: 0.2168 - val_accuracy: 0.9208 - val_loss: 0.2070\n",
      "Epoch 70/100\n",
      "\u001b[1m294/297\u001b[0m \u001b[32m━━━━━━━━━━━━━━━━━━━\u001b[0m\u001b[37m━\u001b[0m \u001b[1m0s\u001b[0m 8ms/step - accuracy: 0.9139 - loss: 0.2090\n",
      "Epoch 70: val_loss did not improve from 0.20332\n",
      "\u001b[1m297/297\u001b[0m \u001b[32m━━━━━━━━━━━━━━━━━━━━\u001b[0m\u001b[37m\u001b[0m \u001b[1m3s\u001b[0m 9ms/step - accuracy: 0.9138 - loss: 0.2091 - val_accuracy: 0.9168 - val_loss: 0.2376\n",
      "Epoch 71/100\n",
      "\u001b[1m293/297\u001b[0m \u001b[32m━━━━━━━━━━━━━━━━━━━\u001b[0m\u001b[37m━\u001b[0m \u001b[1m0s\u001b[0m 8ms/step - accuracy: 0.9193 - loss: 0.2129\n",
      "Epoch 71: val_loss did not improve from 0.20332\n",
      "\u001b[1m297/297\u001b[0m \u001b[32m━━━━━━━━━━━━━━━━━━━━\u001b[0m\u001b[37m\u001b[0m \u001b[1m3s\u001b[0m 9ms/step - accuracy: 0.9193 - loss: 0.2129 - val_accuracy: 0.9229 - val_loss: 0.2055\n",
      "Epoch 72/100\n",
      "\u001b[1m292/297\u001b[0m \u001b[32m━━━━━━━━━━━━━━━━━━━\u001b[0m\u001b[37m━\u001b[0m \u001b[1m0s\u001b[0m 8ms/step - accuracy: 0.9127 - loss: 0.2173\n",
      "Epoch 72: val_loss improved from 0.20332 to 0.20176, saving model to models2/dl_transformer.keras\n",
      "\u001b[1m297/297\u001b[0m \u001b[32m━━━━━━━━━━━━━━━━━━━━\u001b[0m\u001b[37m\u001b[0m \u001b[1m5s\u001b[0m 9ms/step - accuracy: 0.9127 - loss: 0.2172 - val_accuracy: 0.9202 - val_loss: 0.2018\n",
      "Epoch 73/100\n",
      "\u001b[1m296/297\u001b[0m \u001b[32m━━━━━━━━━━━━━━━━━━━\u001b[0m\u001b[37m━\u001b[0m \u001b[1m0s\u001b[0m 9ms/step - accuracy: 0.9161 - loss: 0.2156\n",
      "Epoch 73: val_loss improved from 0.20176 to 0.20020, saving model to models2/dl_transformer.keras\n",
      "\u001b[1m297/297\u001b[0m \u001b[32m━━━━━━━━━━━━━━━━━━━━\u001b[0m\u001b[37m\u001b[0m \u001b[1m3s\u001b[0m 10ms/step - accuracy: 0.9161 - loss: 0.2156 - val_accuracy: 0.9267 - val_loss: 0.2002\n",
      "Epoch 74/100\n",
      "\u001b[1m294/297\u001b[0m \u001b[32m━━━━━━━━━━━━━━━━━━━\u001b[0m\u001b[37m━\u001b[0m \u001b[1m0s\u001b[0m 8ms/step - accuracy: 0.9183 - loss: 0.2119\n",
      "Epoch 74: val_loss improved from 0.20020 to 0.19473, saving model to models2/dl_transformer.keras\n",
      "\u001b[1m297/297\u001b[0m \u001b[32m━━━━━━━━━━━━━━━━━━━━\u001b[0m\u001b[37m\u001b[0m \u001b[1m3s\u001b[0m 9ms/step - accuracy: 0.9183 - loss: 0.2119 - val_accuracy: 0.9297 - val_loss: 0.1947\n",
      "Epoch 75/100\n",
      "\u001b[1m294/297\u001b[0m \u001b[32m━━━━━━━━━━━━━━━━━━━\u001b[0m\u001b[37m━\u001b[0m \u001b[1m0s\u001b[0m 7ms/step - accuracy: 0.9108 - loss: 0.2190\n",
      "Epoch 75: val_loss did not improve from 0.19473\n",
      "\u001b[1m297/297\u001b[0m \u001b[32m━━━━━━━━━━━━━━━━━━━━\u001b[0m\u001b[37m\u001b[0m \u001b[1m5s\u001b[0m 8ms/step - accuracy: 0.9109 - loss: 0.2189 - val_accuracy: 0.9292 - val_loss: 0.1948\n",
      "Epoch 76/100\n",
      "\u001b[1m293/297\u001b[0m \u001b[32m━━━━━━━━━━━━━━━━━━━\u001b[0m\u001b[37m━\u001b[0m \u001b[1m0s\u001b[0m 7ms/step - accuracy: 0.9189 - loss: 0.2032\n",
      "Epoch 76: val_loss did not improve from 0.19473\n",
      "\u001b[1m297/297\u001b[0m \u001b[32m━━━━━━━━━━━━━━━━━━━━\u001b[0m\u001b[37m\u001b[0m \u001b[1m3s\u001b[0m 9ms/step - accuracy: 0.9189 - loss: 0.2033 - val_accuracy: 0.9248 - val_loss: 0.1974\n",
      "Epoch 77/100\n",
      "\u001b[1m291/297\u001b[0m \u001b[32m━━━━━━━━━━━━━━━━━━━\u001b[0m\u001b[37m━\u001b[0m \u001b[1m0s\u001b[0m 8ms/step - accuracy: 0.9200 - loss: 0.2085\n",
      "Epoch 77: val_loss did not improve from 0.19473\n",
      "\u001b[1m297/297\u001b[0m \u001b[32m━━━━━━━━━━━━━━━━━━━━\u001b[0m\u001b[37m\u001b[0m \u001b[1m2s\u001b[0m 8ms/step - accuracy: 0.9199 - loss: 0.2086 - val_accuracy: 0.9305 - val_loss: 0.1962\n",
      "Epoch 78/100\n",
      "\u001b[1m296/297\u001b[0m \u001b[32m━━━━━━━━━━━━━━━━━━━\u001b[0m\u001b[37m━\u001b[0m \u001b[1m0s\u001b[0m 8ms/step - accuracy: 0.9182 - loss: 0.2039\n",
      "Epoch 78: val_loss did not improve from 0.19473\n",
      "\u001b[1m297/297\u001b[0m \u001b[32m━━━━━━━━━━━━━━━━━━━━\u001b[0m\u001b[37m\u001b[0m \u001b[1m2s\u001b[0m 8ms/step - accuracy: 0.9182 - loss: 0.2039 - val_accuracy: 0.9301 - val_loss: 0.1968\n",
      "Epoch 79/100\n",
      "\u001b[1m297/297\u001b[0m \u001b[32m━━━━━━━━━━━━━━━━━━━━\u001b[0m\u001b[37m\u001b[0m \u001b[1m0s\u001b[0m 7ms/step - accuracy: 0.9216 - loss: 0.2051\n",
      "Epoch 79: val_loss did not improve from 0.19473\n",
      "\u001b[1m297/297\u001b[0m \u001b[32m━━━━━━━━━━━━━━━━━━━━\u001b[0m\u001b[37m\u001b[0m \u001b[1m2s\u001b[0m 8ms/step - accuracy: 0.9216 - loss: 0.2051 - val_accuracy: 0.9292 - val_loss: 0.1988\n",
      "Epoch 79: early stopping\n",
      "Restoring model weights from the end of the best epoch: 74.\n"
     ]
    }
   ],
   "source": [
    "import tensorflow as tf\n",
    "from tensorflow import keras\n",
    "from tensorflow.keras import layers\n",
    "\n",
    "# Inputs\n",
    "inputs = keras.Input(shape=(x_train.shape[1],))\n",
    "\n",
    "# Project numerical + categorical features\n",
    "x = layers.Dense(64, activation=\"relu\")(inputs)\n",
    "\n",
    "# Transformer block\n",
    "attn_output = layers.MultiHeadAttention(num_heads=4, key_dim=32)(x[:, None, :], x[:, None, :])\n",
    "x = layers.Add()([x[:, None, :], attn_output])\n",
    "x = layers.LayerNormalization()(x)\n",
    "\n",
    "# Flatten and dense\n",
    "x = layers.Flatten()(x)\n",
    "x = layers.Dense(128, activation=\"relu\")(x)\n",
    "x = layers.Dropout(0.3)(x)\n",
    "outputs = layers.Dense(len(np.unique(y_train)), activation=\"softmax\")(x)\n",
    "\n",
    "# Model\n",
    "model = keras.Model(inputs, outputs)\n",
    "\n",
    "model.compile(\n",
    "    optimizer=keras.optimizers.Adam(1e-4),\n",
    "    loss=\"sparse_categorical_crossentropy\",\n",
    "    metrics=[\"accuracy\"]\n",
    ")\n",
    "\n",
    "from tensorflow.keras.callbacks import EarlyStopping, ModelCheckpoint\n",
    "\n",
    "checkpoint = ModelCheckpoint(\n",
    "    filepath=\"models2/dl_transformer.keras\",   \n",
    "    monitor=\"val_loss\",         \n",
    "    save_best_only=True,        \n",
    "    verbose=1\n",
    ")\n",
    "\n",
    "early_stop = EarlyStopping(\n",
    "    monitor=\"val_loss\", \n",
    "    patience=5,                 \n",
    "    restore_best_weights=True,  \n",
    "    verbose=1\n",
    ")\n",
    "\n",
    "history = model.fit(\n",
    "    x_train, y_train,\n",
    "    validation_data=(x_test, y_test),\n",
    "    epochs=100,\n",
    "    batch_size=64,\n",
    "    callbacks=[early_stop, checkpoint],\n",
    "    verbose=1\n",
    ")\n"
   ]
  },
  {
   "cell_type": "code",
   "execution_count": 147,
   "id": "4583466b",
   "metadata": {},
   "outputs": [
    {
     "data": {
      "text/plain": [
       "[0.19472843408584595, 0.929654598236084]"
      ]
     },
     "execution_count": 147,
     "metadata": {},
     "output_type": "execute_result"
    }
   ],
   "source": [
    "model.evaluate(x_test, y_test, verbose=0)"
   ]
  },
  {
   "cell_type": "code",
   "execution_count": 146,
   "id": "339f7afe",
   "metadata": {},
   "outputs": [
    {
     "data": {
      "text/plain": [
       "[0.19472843408584595, 0.929654598236084]"
      ]
     },
     "execution_count": 146,
     "metadata": {},
     "output_type": "execute_result"
    }
   ],
   "source": [
    "m2 = load_model('models2/smote-boderline/dl_2_transformer.keras')\n",
    "m2.evaluate(x_test, y_test, verbose=0)"
   ]
  },
  {
   "cell_type": "code",
   "execution_count": 145,
   "id": "e6e805d6",
   "metadata": {},
   "outputs": [],
   "source": [
    "model.save('models2/smote-boderline/dl_2_transformer.keras')"
   ]
  },
  {
   "cell_type": "code",
   "execution_count": 143,
   "id": "2973f484",
   "metadata": {},
   "outputs": [
    {
     "data": {
      "image/png": "[encoded data removed]",
      "text/plain": [
       "<Figure size 640x480 with 1 Axes>"
      ]
     },
     "metadata": {},
     "output_type": "display_data"
    },
    {
     "data": {
      "image/png": "[encoded data removed]",
      "text/plain": [
       "<Figure size 640x480 with 1 Axes>"
      ]
     },
     "metadata": {},
     "output_type": "display_data"
    }
   ],
   "source": [
    "plot_loss_curves(history)"
   ]
  },
  {
   "cell_type": "markdown",
   "id": "2305e621",
   "metadata": {},
   "source": [
    "## SMOTE-NC"
   ]
  },
  {
   "cell_type": "markdown",
   "id": "94a59580",
   "metadata": {},
   "source": [
    "### ML"
   ]
  },
  {
   "cell_type": "code",
   "execution_count": 112,
   "id": "b9fac5c8",
   "metadata": {},
   "outputs": [
    {
     "data": {
      "application/vnd.microsoft.datawrangler.viewer.v0+json": {
       "columns": [
        {
         "name": "index",
         "rawType": "int64",
         "type": "integer"
        },
        {
         "name": "Type",
         "rawType": "int64",
         "type": "integer"
        },
        {
         "name": "Air temperature [K]",
         "rawType": "float64",
         "type": "float"
        },
        {
         "name": "Process temperature [K]",
         "rawType": "float64",
         "type": "float"
        },
        {
         "name": "Rotational speed [rpm]",
         "rawType": "int64",
         "type": "integer"
        },
        {
         "name": "Torque [Nm]",
         "rawType": "float64",
         "type": "float"
        },
        {
         "name": "Tool wear [min]",
         "rawType": "int64",
         "type": "integer"
        },
        {
         "name": "Failure Type",
         "rawType": "int64",
         "type": "integer"
        },
        {
         "name": "y_labels",
         "rawType": "object",
         "type": "string"
        }
       ],
       "ref": "50223eba-dcca-449b-a064-6fcb00095d10",
       "rows": [
        [
         "0",
         "2",
         "300.4",
         "311.8",
         "1362",
         "47.6",
         "188",
         "1",
         "No Failure"
        ],
        [
         "1",
         "2",
         "299.7",
         "309.3",
         "1399",
         "41.9",
         "221",
         "5",
         "Tool Wear Failure"
        ],
        [
         "2",
         "2",
         "301.8",
         "309.6",
         "1436",
         "49.0",
         "214",
         "1",
         "No Failure"
        ],
        [
         "3",
         "1",
         "300.4",
         "309.9",
         "1567",
         "36.5",
         "72",
         "1",
         "No Failure"
        ],
        [
         "4",
         "2",
         "298.1",
         "307.9",
         "1377",
         "55.1",
         "42",
         "1",
         "No Failure"
        ]
       ],
       "shape": {
        "columns": 8,
        "rows": 5
       }
      },
      "text/html": [
       "<div>\n",
       "<style scoped>\n",
       "    .dataframe tbody tr th:only-of-type {\n",
       "        vertical-align: middle;\n",
       "    }\n",
       "\n",
       "    .dataframe tbody tr th {\n",
       "        vertical-align: top;\n",
       "    }\n",
       "\n",
       "    .dataframe thead th {\n",
       "        text-align: right;\n",
       "    }\n",
       "</style>\n",
       "<table border=\"1\" class=\"dataframe\">\n",
       "  <thead>\n",
       "    <tr style=\"text-align: right;\">\n",
       "      <th></th>\n",
       "      <th>Type</th>\n",
       "      <th>Air temperature [K]</th>\n",
       "      <th>Process temperature [K]</th>\n",
       "      <th>Rotational speed [rpm]</th>\n",
       "      <th>Torque [Nm]</th>\n",
       "      <th>Tool wear [min]</th>\n",
       "      <th>Failure Type</th>\n",
       "      <th>y_labels</th>\n",
       "    </tr>\n",
       "  </thead>\n",
       "  <tbody>\n",
       "    <tr>\n",
       "      <th>0</th>\n",
       "      <td>2</td>\n",
       "      <td>300.4</td>\n",
       "      <td>311.8</td>\n",
       "      <td>1362</td>\n",
       "      <td>47.6</td>\n",
       "      <td>188</td>\n",
       "      <td>1</td>\n",
       "      <td>No Failure</td>\n",
       "    </tr>\n",
       "    <tr>\n",
       "      <th>1</th>\n",
       "      <td>2</td>\n",
       "      <td>299.7</td>\n",
       "      <td>309.3</td>\n",
       "      <td>1399</td>\n",
       "      <td>41.9</td>\n",
       "      <td>221</td>\n",
       "      <td>5</td>\n",
       "      <td>Tool Wear Failure</td>\n",
       "    </tr>\n",
       "    <tr>\n",
       "      <th>2</th>\n",
       "      <td>2</td>\n",
       "      <td>301.8</td>\n",
       "      <td>309.6</td>\n",
       "      <td>1436</td>\n",
       "      <td>49.0</td>\n",
       "      <td>214</td>\n",
       "      <td>1</td>\n",
       "      <td>No Failure</td>\n",
       "    </tr>\n",
       "    <tr>\n",
       "      <th>3</th>\n",
       "      <td>1</td>\n",
       "      <td>300.4</td>\n",
       "      <td>309.9</td>\n",
       "      <td>1567</td>\n",
       "      <td>36.5</td>\n",
       "      <td>72</td>\n",
       "      <td>1</td>\n",
       "      <td>No Failure</td>\n",
       "    </tr>\n",
       "    <tr>\n",
       "      <th>4</th>\n",
       "      <td>2</td>\n",
       "      <td>298.1</td>\n",
       "      <td>307.9</td>\n",
       "      <td>1377</td>\n",
       "      <td>55.1</td>\n",
       "      <td>42</td>\n",
       "      <td>1</td>\n",
       "      <td>No Failure</td>\n",
       "    </tr>\n",
       "  </tbody>\n",
       "</table>\n",
       "</div>"
      ],
      "text/plain": [
       "   Type  Air temperature [K]  Process temperature [K]  Rotational speed [rpm]  \\\n",
       "0     2                300.4                    311.8                    1362   \n",
       "1     2                299.7                    309.3                    1399   \n",
       "2     2                301.8                    309.6                    1436   \n",
       "3     1                300.4                    309.9                    1567   \n",
       "4     2                298.1                    307.9                    1377   \n",
       "\n",
       "   Torque [Nm]  Tool wear [min]  Failure Type           y_labels  \n",
       "0         47.6              188             1         No Failure  \n",
       "1         41.9              221             5  Tool Wear Failure  \n",
       "2         49.0              214             1         No Failure  \n",
       "3         36.5               72             1         No Failure  \n",
       "4         55.1               42             1         No Failure  "
      ]
     },
     "execution_count": 112,
     "metadata": {},
     "output_type": "execute_result"
    }
   ],
   "source": [
    "df2.head()"
   ]
  },
  {
   "cell_type": "code",
   "execution_count": 113,
   "id": "0cfd941a",
   "metadata": {},
   "outputs": [],
   "source": [
    "df2.drop('y_labels', axis=1, inplace=True)"
   ]
  },
  {
   "cell_type": "code",
   "execution_count": 114,
   "id": "9c9e8efa",
   "metadata": {},
   "outputs": [
    {
     "data": {
      "application/vnd.microsoft.datawrangler.viewer.v0+json": {
       "columns": [
        {
         "name": "Failure Type",
         "rawType": "int64",
         "type": "integer"
        },
        {
         "name": "count",
         "rawType": "int64",
         "type": "integer"
        }
       ],
       "ref": "c37151f7-a13e-4449-8417-b6980cc4f216",
       "rows": [
        [
         "1",
         "7722"
        ],
        [
         "5",
         "7722"
        ],
        [
         "4",
         "7722"
        ],
        [
         "3",
         "7722"
        ],
        [
         "0",
         "7722"
        ],
        [
         "2",
         "7722"
        ]
       ],
       "shape": {
        "columns": 1,
        "rows": 6
       }
      },
      "text/plain": [
       "Failure Type\n",
       "1    7722\n",
       "5    7722\n",
       "4    7722\n",
       "3    7722\n",
       "0    7722\n",
       "2    7722\n",
       "Name: count, dtype: int64"
      ]
     },
     "execution_count": 114,
     "metadata": {},
     "output_type": "execute_result"
    }
   ],
   "source": [
    "df2['Failure Type'].value_counts()"
   ]
  },
  {
   "cell_type": "code",
   "execution_count": 144,
   "id": "5280f1d4",
   "metadata": {},
   "outputs": [],
   "source": [
    "x = df2.drop('Failure Type', axis=1)\n",
    "x = x.drop('Tool wear [min]', axis=1)\n",
    "y = df2['Failure Type']"
   ]
  },
  {
   "cell_type": "code",
   "execution_count": 145,
   "id": "6602235d",
   "metadata": {},
   "outputs": [],
   "source": [
    "from sklearn.model_selection import train_test_split\n",
    "\n",
    "x_train, x_test, y_train, y_test = train_test_split(x, y, test_size=0.2, stratify=y, random_state=42)"
   ]
  },
  {
   "cell_type": "code",
   "execution_count": 146,
   "id": "e08bc473",
   "metadata": {},
   "outputs": [
    {
     "data": {
      "text/plain": [
       "((37065, 5), (9267, 5), (37065,), (9267,))"
      ]
     },
     "execution_count": 146,
     "metadata": {},
     "output_type": "execute_result"
    }
   ],
   "source": [
    "x_train.shape, x_test.shape, y_train.shape, y_test.shape"
   ]
  },
  {
   "cell_type": "code",
   "execution_count": 147,
   "id": "ecc1c01d",
   "metadata": {},
   "outputs": [
    {
     "data": {
      "text/plain": [
       "((37065, 5), (9267, 5))"
      ]
     },
     "execution_count": 147,
     "metadata": {},
     "output_type": "execute_result"
    }
   ],
   "source": [
    "# normalize numerical data except 'Type' column\n",
    "from sklearn.preprocessing import MinMaxScaler\n",
    "import pandas as pd\n",
    "\n",
    "# Identify columns to scale (exclude 'type')\n",
    "cols_to_scale = [col for col in x_train.columns if col != 'Type']\n",
    "\n",
    "# Initialize scaler\n",
    "scaler = MinMaxScaler()\n",
    "\n",
    "# Fit scaler only on the selected columns\n",
    "scaler.fit(x_train[cols_to_scale])\n",
    "\n",
    "# Transform only selected columns\n",
    "x_train_scaled = x_train.copy()\n",
    "x_train_scaled[cols_to_scale] = scaler.transform(x_train[cols_to_scale])\n",
    "\n",
    "x_test_scaled = x_test.copy()\n",
    "x_test_scaled[cols_to_scale] = scaler.transform(x_test[cols_to_scale])\n",
    "\n",
    "x_train_scaled.shape, x_test_scaled.shape\n",
    "\n"
   ]
  },
  {
   "cell_type": "code",
   "execution_count": 158,
   "id": "7ccdd185",
   "metadata": {},
   "outputs": [],
   "source": [
    "# save normalized x_train_scaled and y_train to csv\n",
    "x_train_scaled_df = pd.DataFrame(x_train_scaled, columns=x_train.columns)\n",
    "x_train_scaled_df['Failure Type'] = y_train.values\n"
   ]
  },
  {
   "cell_type": "code",
   "execution_count": 151,
   "id": "ec933ff6",
   "metadata": {},
   "outputs": [
    {
     "data": {
      "application/vnd.microsoft.datawrangler.viewer.v0+json": {
       "columns": [
        {
         "name": "index",
         "rawType": "int64",
         "type": "integer"
        },
        {
         "name": "Failure Type",
         "rawType": "int64",
         "type": "integer"
        }
       ],
       "ref": "2654e441-35dc-4ae9-b674-3266e21e1b82",
       "rows": [
        [
         "41383",
         "5"
        ],
        [
         "39476",
         "5"
        ],
        [
         "39890",
         "5"
        ],
        [
         "29115",
         "3"
        ],
        [
         "19470",
         "2"
        ]
       ],
       "shape": {
        "columns": 1,
        "rows": 5
       }
      },
      "text/plain": [
       "41383    5\n",
       "39476    5\n",
       "39890    5\n",
       "29115    3\n",
       "19470    2\n",
       "Name: Failure Type, dtype: int64"
      ]
     },
     "execution_count": 151,
     "metadata": {},
     "output_type": "execute_result"
    }
   ],
   "source": [
    "y_train.head()"
   ]
  },
  {
   "cell_type": "code",
   "execution_count": 149,
   "id": "6a0ed0c6",
   "metadata": {},
   "outputs": [
    {
     "name": "stdout",
     "output_type": "stream",
     "text": [
      "Accuracy: 97.97129599654689\n",
      "Precision: 98.00836582158186\n"
     ]
    }
   ],
   "source": [
    "# Random Forest Classifier\n",
    "from sklearn.ensemble import RandomForestClassifier\n",
    "\n",
    "rf = RandomForestClassifier(n_estimators=100, random_state=42)\n",
    "rf.fit(x_train_scaled, y_train)\n",
    "\n",
    "y_pred = rf.predict(x_test_scaled)\n",
    "print(\"Accuracy:\", accuracy_score(y_test, y_pred)*100)\n",
    "print(\"Precision:\", precision_score(y_test, y_pred, average='weighted')*100)"
   ]
  },
  {
   "cell_type": "code",
   "execution_count": 132,
   "id": "e9a2141f",
   "metadata": {},
   "outputs": [
    {
     "name": "stdout",
     "output_type": "stream",
     "text": [
      "Cross-validated accuracies for each fold: [0.97895759 0.98089997 0.98025038 0.98284049 0.9803583 ]\n",
      "Mean Accuracy: 0.9806613456171146\n"
     ]
    }
   ],
   "source": [
    "# Cross-Validation RFC\n",
    "\n",
    "from sklearn.ensemble import RandomForestClassifier\n",
    "from sklearn.model_selection import StratifiedKFold, cross_val_score\n",
    "from sklearn.metrics import classification_report, confusion_matrix\n",
    "import numpy as np\n",
    "\n",
    "# rf = RandomForestClassifier(n_estimators=100, random_state=42)\n",
    "\n",
    "# 5-fold stratified cross-validation\n",
    "cv = StratifiedKFold(n_splits=5, shuffle=True, random_state=42)\n",
    "\n",
    "# Evaluate using cross_val_score with accuracy\n",
    "scores = cross_val_score(rf, x, y, cv=cv, scoring='accuracy')\n",
    "\n",
    "print(\"Cross-validated accuracies for each fold:\", scores)\n",
    "print(\"Mean Accuracy:\", np.mean(scores))\n"
   ]
  },
  {
   "cell_type": "code",
   "execution_count": 170,
   "id": "f1dc2ccd",
   "metadata": {},
   "outputs": [
    {
     "data": {
      "text/plain": [
       "['models2/smote-nc/random_forest_98.joblib']"
      ]
     },
     "execution_count": 170,
     "metadata": {},
     "output_type": "execute_result"
    }
   ],
   "source": [
    "import joblib\n",
    "\n",
    "joblib.dump(rf, 'models2/smote-nc/random_forest_98.joblib')"
   ]
  },
  {
   "cell_type": "code",
   "execution_count": 133,
   "id": "bf29c34f",
   "metadata": {},
   "outputs": [
    {
     "name": "stdout",
     "output_type": "stream",
     "text": [
      "SVM Accuracy: 71.5657710154311\n",
      "SVM Precision: 70.91688676210863\n"
     ]
    }
   ],
   "source": [
    "from sklearn.svm import SVC\n",
    "\n",
    "svm = SVC(kernel='linear', random_state=42)\n",
    "svm.fit(x_train_scaled, y_train)\n",
    "\n",
    "y_pred_svm = svm.predict(x_test_scaled)\n",
    "print(\"SVM Accuracy:\", accuracy_score(y_test, y_pred_svm)*100)\n",
    "print(\"SVM Precision:\", precision_score(y_test, y_pred_svm, average='weighted')*100)"
   ]
  },
  {
   "cell_type": "code",
   "execution_count": 134,
   "id": "cee05e3e",
   "metadata": {},
   "outputs": [
    {
     "name": "stdout",
     "output_type": "stream",
     "text": [
      "KNN Accuracy: 94.44264594798749\n",
      "KNN Precision: 94.82577280748775\n"
     ]
    }
   ],
   "source": [
    "from sklearn.neighbors import KNeighborsClassifier\n",
    "\n",
    "knn = KNeighborsClassifier(n_neighbors=5)\n",
    "knn.fit(x_train_scaled, y_train)\n",
    "\n",
    "y_pred_knn = knn.predict(x_test_scaled)\n",
    "print(\"KNN Accuracy:\", accuracy_score(y_test, y_pred_knn)*100)\n",
    "print(\"KNN Precision:\", precision_score(y_test, y_pred_knn, average='weighted')*100)"
   ]
  },
  {
   "cell_type": "code",
   "execution_count": 135,
   "id": "24356f18",
   "metadata": {},
   "outputs": [
    {
     "name": "stdout",
     "output_type": "stream",
     "text": [
      "GaussianNB Accuracy: 56.63105643681882\n",
      "GaussianNB Precision: 63.31538437654994\n"
     ]
    }
   ],
   "source": [
    "from sklearn.naive_bayes import GaussianNB\n",
    "\n",
    "gnb = GaussianNB()\n",
    "gnb.fit(x_train_scaled, y_train)\n",
    "\n",
    "y_pred_gnb = gnb.predict(x_test_scaled)\n",
    "print(\"GaussianNB Accuracy:\", accuracy_score(y_test, y_pred_gnb)*100)\n",
    "print(\"GaussianNB Precision:\", precision_score(y_test, y_pred_gnb, average='weighted')*100)"
   ]
  },
  {
   "cell_type": "code",
   "execution_count": null,
   "id": "189c19fa",
   "metadata": {},
   "outputs": [],
   "source": [
    "# import numpy as np\n",
    "# import pandas as pd\n",
    "\n",
    "# def predict_failure(user_input_dict, model, scaler):\n",
    "#     \"\"\"\n",
    "#     Predict failure type based on user input.\n",
    "\n",
    "#     Parameters:\n",
    "#     - user_input_dict: dict of input values (e.g., from a form or CLI)\n",
    "#     - model: trained model object\n",
    "#     - scaler: fitted StandardScaler object\n",
    "\n",
    "#     Returns:\n",
    "#     - Encoded predicted class (int)\n",
    "#     \"\"\"\n",
    "#     # Define column order and mapping\n",
    "#     columns = ['Type', 'Air temperature [K]', 'Process temperature [K]',\n",
    "#                'Rotational speed [rpm]', 'Torque [Nm]']\n",
    "#     type_map = {'L': 0, 'M': 1, 'H': 2}\n",
    "\n",
    "#     # Convert input to DataFrame\n",
    "#     input_df = pd.DataFrame([user_input_dict], columns=columns)\n",
    "\n",
    "#     # Map 'Type' to numeric and fill NaN if unmapped\n",
    "#     input_df['Type'] = input_df['Type'].map(type_map)\n",
    "\n",
    "#     if input_df['Type'].isnull().any():\n",
    "#         raise ValueError(f\"Invalid 'Type' value provided: {user_input_dict['Type']} (must be one of {list(type_map.keys())})\")\n",
    "\n",
    "#     # Normalize numerical columns\n",
    "#     numeric_cols = ['Air temperature [K]', 'Process temperature [K]',\n",
    "#                     'Rotational speed [rpm]', 'Torque [Nm]']\n",
    "#     input_df[numeric_cols] = scaler.transform(input_df[numeric_cols])\n",
    "\n",
    "#     # Final check for NaNs\n",
    "#     if input_df.isnull().any().any():\n",
    "#         raise ValueError(\"Processed input contains NaNs. Please check input values.\")\n",
    "\n",
    "#     # Predict using the model\n",
    "#     pred = model.predict(input_df)\n",
    "#     return pred[0]\n",
    "\n",
    "\n"
   ]
  },
  {
   "cell_type": "code",
   "execution_count": null,
   "id": "0ed3fe2f",
   "metadata": {},
   "outputs": [
    {
     "data": {
      "application/vnd.microsoft.datawrangler.viewer.v0+json": {
       "columns": [
        {
         "name": "index",
         "rawType": "int64",
         "type": "integer"
        },
        {
         "name": "Type",
         "rawType": "int64",
         "type": "integer"
        },
        {
         "name": "Air temperature [K]",
         "rawType": "float64",
         "type": "float"
        },
        {
         "name": "Process temperature [K]",
         "rawType": "float64",
         "type": "float"
        },
        {
         "name": "Rotational speed [rpm]",
         "rawType": "float64",
         "type": "float"
        },
        {
         "name": "Torque [Nm]",
         "rawType": "float64",
         "type": "float"
        },
        {
         "name": "Failure Type",
         "rawType": "int64",
         "type": "integer"
        }
       ],
       "ref": "2afd34dd-264e-4837-ac88-cf324e8b5ee2",
       "rows": [
        [
         "41383",
         "1",
         "0.31058669327941857",
         "0.4328248484503803",
         "0.21665695981362842",
         "0.45404149185804826",
         "5"
        ],
        [
         "39476",
         "1",
         "0.6034088434947691",
         "0.5835276998126062",
         "0.2766453115899825",
         "0.36391821016190534",
         "5"
        ],
        [
         "39890",
         "1",
         "0.5946377674658763",
         "0.7547351586786988",
         "0.20733838089691314",
         "0.47938887189885343",
         "5"
        ],
        [
         "29115",
         "2",
         "0.8928290779599024",
         "0.8563138476412249",
         "0.8934187536400698",
         "0.08418905008049214",
         "3"
        ],
        [
         "19470",
         "1",
         "0.3627511303945141",
         "0.3929141146360351",
         "0.06755969714618515",
         "0.7882113869533376",
         "2"
        ],
        [
         "39065",
         "2",
         "0.430250479064064",
         "0.6266711799434503",
         "0.33080955154338965",
         "0.3191753010333271",
         "5"
        ],
        [
         "9069",
         "1",
         "0.7678867259742574",
         "0.5757913452387129",
         "0.11124053581828763",
         "0.7274997491189046",
         "0"
        ],
        [
         "17382",
         "1",
         "0.4148039222347393",
         "0.5341137087950116",
         "0.11589982527664522",
         "0.7212404996352955",
         "2"
        ],
        [
         "9577",
         "1",
         "0.8147430359764201",
         "0.6642702034231718",
         "0.09551543389633077",
         "0.668345563698017",
         "0"
        ],
        [
         "7064",
         "2",
         "0.2307692307692264",
         "0.375",
         "0.1822947000582411",
         "0.6071251294073411",
         "1"
        ],
        [
         "38806",
         "2",
         "0.5712724525774249",
         "0.7271112861880198",
         "0.5218404193360512",
         "0.21844938683884402",
         "5"
        ],
        [
         "25846",
         "1",
         "0.8275050177051142",
         "0.8018934788197853",
         "0.051252184041933546",
         "0.928970676033771",
         "3"
        ],
        [
         "5522",
         "2",
         "0.2527472527472554",
         "0.17500000000000426",
         "0.17647058823529405",
         "0.5645407902871578",
         "1"
        ],
        [
         "27729",
         "1",
         "0.4385026760516766",
         "0.35628342429198767",
         "0.8054746651135701",
         "0.12592283198224258",
         "3"
        ],
        [
         "17199",
         "1",
         "0.5944500400815187",
         "0.7494438734799829",
         "0.09784507862550951",
         "0.7509017757542955",
         "2"
        ],
        [
         "27565",
         "1",
         "0.37291553797314947",
         "0.31842032393651465",
         "0.9965055329062317",
         "0.0030439576942719385",
         "3"
        ],
        [
         "24497",
         "1",
         "0.8628480341675697",
         "0.8181994840937321",
         "0.8963308095515433",
         "0.08188933555410109",
         "3"
        ],
        [
         "37102",
         "1",
         "0.6516998212226284",
         "0.6516340737553108",
         "0.2114152591729761",
         "0.4316811588621973",
         "4"
        ],
        [
         "23781",
         "1",
         "0.22309825562614094",
         "0.2915097063098955",
         "0.08910891089108908",
         "0.9232812350782423",
         "3"
        ],
        [
         "36448",
         "1",
         "0.7466964081582148",
         "0.7319214073416802",
         "0.19103086779266154",
         "0.4876156996120528",
         "4"
        ],
        [
         "26078",
         "1",
         "0.3729663297724102",
         "0.5025525473806454",
         "0.8404193360512521",
         "0.11495280192256489",
         "3"
        ],
        [
         "31898",
         "1",
         "0.5322912853636623",
         "0.6117701649116611",
         "0.14094350611531736",
         "0.6505097864273035",
         "4"
        ],
        [
         "11133",
         "1",
         "0.7735110044964912",
         "0.5723468955505524",
         "0.11182294700058237",
         "0.5804178880802918",
         "0"
        ],
        [
         "17224",
         "1",
         "0.39088297949857065",
         "0.5049600598353123",
         "0.11648223645893996",
         "0.7220948575700159",
         "2"
        ],
        [
         "25589",
         "2",
         "0.23989367657586058",
         "0.3039103703136732",
         "0.052417006406522915",
         "0.8972545194613968",
         "3"
        ],
        [
         "21734",
         "1",
         "0.6602929735644736",
         "0.7199062784639096",
         "0.05940594059405935",
         "0.8085667651186731",
         "2"
        ],
        [
         "8193",
         "1",
         "0.7363054496617778",
         "0.5555608276655875",
         "0.08677926616191023",
         "0.6453167433475082",
         "0"
        ],
        [
         "27328",
         "1",
         "0.3308337108880579",
         "0.28882334613516747",
         "0.0815375655212579",
         "0.867183257395615",
         "3"
        ],
        [
         "20282",
         "1",
         "0.7835201768697573",
         "0.7313728486951163",
         "0.10949330227140353",
         "0.7363170290055971",
         "2"
        ],
        [
         "37109",
         "1",
         "0.47669349085341395",
         "0.5238569572297038",
         "0.16074548631333718",
         "0.6244801852857237",
         "4"
        ],
        [
         "4796",
         "1",
         "0.7582417582417591",
         "0.6375000000000028",
         "0.10599883517763531",
         "0.7252623282568819",
         "1"
        ],
        [
         "12250",
         "1",
         "0.8121385764807059",
         "0.6367845784480863",
         "0.062317996505532824",
         "0.7035977997198135",
         "0"
        ],
        [
         "12699",
         "1",
         "0.7958116039672234",
         "0.6552356995127155",
         "0.09493302271403603",
         "0.6131719048566423",
         "0"
        ],
        [
         "2052",
         "1",
         "0.4395604395604451",
         "0.3500000000000014",
         "0.14269073966220147",
         "0.47662473532935995",
         "1"
        ],
        [
         "31258",
         "1",
         "0.6477689940437443",
         "0.6423714298210896",
         "0.12929528246942334",
         "0.7227684242512441",
         "4"
        ],
        [
         "30797",
         "2",
         "0.23775573891036572",
         "0.3270671917424224",
         "0.053581828771112394",
         "0.8980677250757444",
         "3"
        ],
        [
         "1262",
         "1",
         "0.3956043956043942",
         "0.5125000000000028",
         "0.13278974956319156",
         "0.620862012994497",
         "1"
        ],
        [
         "26487",
         "1",
         "0.6071864687647164",
         "0.6843253917801349",
         "0.0471753057658707",
         "0.9273720616536313",
         "3"
        ],
        [
         "19408",
         "1",
         "0.30697582673949597",
         "0.35924001166469566",
         "0.10774606872451942",
         "0.6925613864368062",
         "2"
        ],
        [
         "35910",
         "1",
         "0.7933544367629821",
         "0.8119393363156249",
         "0.110658124635993",
         "0.7588325677621951",
         "4"
        ],
        [
         "1199",
         "1",
         "0.7252747252747227",
         "0.6375000000000028",
         "0.20792079207920788",
         "0.5411880881889928",
         "1"
        ],
        [
         "45621",
         "2",
         "0.5494505494505546",
         "0.5857715442638209",
         "0.12813046010483398",
         "0.5937195094318454",
         "5"
        ],
        [
         "16486",
         "1",
         "0.7951155389822304",
         "0.7321292837281916",
         "0.03669190448456605",
         "0.8803311174239706",
         "2"
        ],
        [
         "15448",
         "1",
         "0.8389056466191889",
         "0.7132159156402054",
         "0.1170646476412347",
         "0.6243130390396889",
         "0"
        ],
        [
         "33682",
         "1",
         "0.7729009196095262",
         "0.7833373980279248",
         "0.19103086779266154",
         "0.43566673417363533",
         "4"
        ],
        [
         "5761",
         "0",
         "0.9230769230769269",
         "0.8625000000000043",
         "0.2015142690739662",
         "0.43541408456789227",
         "1"
        ],
        [
         "44213",
         "0",
         "0.669088546495118",
         "0.6722353019210274",
         "0.13395457192778093",
         "0.5897277719781087",
         "5"
        ],
        [
         "44069",
         "1",
         "0.42961789305554277",
         "0.3969696578843127",
         "0.1706464764123471",
         "0.5312154527801747",
         "5"
        ],
        [
         "33718",
         "1",
         "0.46612003635614485",
         "0.5504453502212883",
         "0.23820617355853224",
         "0.47732593023165054",
         "4"
        ],
        [
         "37556",
         "1",
         "0.5897848431740869",
         "0.6748592226684309",
         "0.14385556202679084",
         "0.6540742710801675",
         "4"
        ]
       ],
       "shape": {
        "columns": 6,
        "rows": 37065
       }
      },
      "text/html": [
       "<div>\n",
       "<style scoped>\n",
       "    .dataframe tbody tr th:only-of-type {\n",
       "        vertical-align: middle;\n",
       "    }\n",
       "\n",
       "    .dataframe tbody tr th {\n",
       "        vertical-align: top;\n",
       "    }\n",
       "\n",
       "    .dataframe thead th {\n",
       "        text-align: right;\n",
       "    }\n",
       "</style>\n",
       "<table border=\"1\" class=\"dataframe\">\n",
       "  <thead>\n",
       "    <tr style=\"text-align: right;\">\n",
       "      <th></th>\n",
       "      <th>Type</th>\n",
       "      <th>Air temperature [K]</th>\n",
       "      <th>Process temperature [K]</th>\n",
       "      <th>Rotational speed [rpm]</th>\n",
       "      <th>Torque [Nm]</th>\n",
       "      <th>Failure Type</th>\n",
       "    </tr>\n",
       "  </thead>\n",
       "  <tbody>\n",
       "    <tr>\n",
       "      <th>41383</th>\n",
       "      <td>1</td>\n",
       "      <td>0.310587</td>\n",
       "      <td>0.432825</td>\n",
       "      <td>0.216657</td>\n",
       "      <td>0.454041</td>\n",
       "      <td>5</td>\n",
       "    </tr>\n",
       "    <tr>\n",
       "      <th>39476</th>\n",
       "      <td>1</td>\n",
       "      <td>0.603409</td>\n",
       "      <td>0.583528</td>\n",
       "      <td>0.276645</td>\n",
       "      <td>0.363918</td>\n",
       "      <td>5</td>\n",
       "    </tr>\n",
       "    <tr>\n",
       "      <th>39890</th>\n",
       "      <td>1</td>\n",
       "      <td>0.594638</td>\n",
       "      <td>0.754735</td>\n",
       "      <td>0.207338</td>\n",
       "      <td>0.479389</td>\n",
       "      <td>5</td>\n",
       "    </tr>\n",
       "    <tr>\n",
       "      <th>29115</th>\n",
       "      <td>2</td>\n",
       "      <td>0.892829</td>\n",
       "      <td>0.856314</td>\n",
       "      <td>0.893419</td>\n",
       "      <td>0.084189</td>\n",
       "      <td>3</td>\n",
       "    </tr>\n",
       "    <tr>\n",
       "      <th>19470</th>\n",
       "      <td>1</td>\n",
       "      <td>0.362751</td>\n",
       "      <td>0.392914</td>\n",
       "      <td>0.067560</td>\n",
       "      <td>0.788211</td>\n",
       "      <td>2</td>\n",
       "    </tr>\n",
       "    <tr>\n",
       "      <th>...</th>\n",
       "      <td>...</td>\n",
       "      <td>...</td>\n",
       "      <td>...</td>\n",
       "      <td>...</td>\n",
       "      <td>...</td>\n",
       "      <td>...</td>\n",
       "    </tr>\n",
       "    <tr>\n",
       "      <th>3996</th>\n",
       "      <td>1</td>\n",
       "      <td>0.483516</td>\n",
       "      <td>0.687500</td>\n",
       "      <td>0.107164</td>\n",
       "      <td>0.663446</td>\n",
       "      <td>1</td>\n",
       "    </tr>\n",
       "    <tr>\n",
       "      <th>15835</th>\n",
       "      <td>1</td>\n",
       "      <td>0.387706</td>\n",
       "      <td>0.538672</td>\n",
       "      <td>0.161910</td>\n",
       "      <td>0.620604</td>\n",
       "      <td>2</td>\n",
       "    </tr>\n",
       "    <tr>\n",
       "      <th>10201</th>\n",
       "      <td>1</td>\n",
       "      <td>0.890110</td>\n",
       "      <td>0.762500</td>\n",
       "      <td>0.100757</td>\n",
       "      <td>0.595139</td>\n",
       "      <td>0</td>\n",
       "    </tr>\n",
       "    <tr>\n",
       "      <th>35976</th>\n",
       "      <td>1</td>\n",
       "      <td>0.450627</td>\n",
       "      <td>0.381044</td>\n",
       "      <td>0.272568</td>\n",
       "      <td>0.367117</td>\n",
       "      <td>4</td>\n",
       "    </tr>\n",
       "    <tr>\n",
       "      <th>10348</th>\n",
       "      <td>1</td>\n",
       "      <td>0.741859</td>\n",
       "      <td>0.591137</td>\n",
       "      <td>0.027956</td>\n",
       "      <td>0.710926</td>\n",
       "      <td>0</td>\n",
       "    </tr>\n",
       "  </tbody>\n",
       "</table>\n",
       "<p>37065 rows × 6 columns</p>\n",
       "</div>"
      ],
      "text/plain": [
       "       Type  Air temperature [K]  Process temperature [K]  \\\n",
       "41383     1             0.310587                 0.432825   \n",
       "39476     1             0.603409                 0.583528   \n",
       "39890     1             0.594638                 0.754735   \n",
       "29115     2             0.892829                 0.856314   \n",
       "19470     1             0.362751                 0.392914   \n",
       "...     ...                  ...                      ...   \n",
       "3996      1             0.483516                 0.687500   \n",
       "15835     1             0.387706                 0.538672   \n",
       "10201     1             0.890110                 0.762500   \n",
       "35976     1             0.450627                 0.381044   \n",
       "10348     1             0.741859                 0.591137   \n",
       "\n",
       "       Rotational speed [rpm]  Torque [Nm]  Failure Type  \n",
       "41383                0.216657     0.454041             5  \n",
       "39476                0.276645     0.363918             5  \n",
       "39890                0.207338     0.479389             5  \n",
       "29115                0.893419     0.084189             3  \n",
       "19470                0.067560     0.788211             2  \n",
       "...                       ...          ...           ...  \n",
       "3996                 0.107164     0.663446             1  \n",
       "15835                0.161910     0.620604             2  \n",
       "10201                0.100757     0.595139             0  \n",
       "35976                0.272568     0.367117             4  \n",
       "10348                0.027956     0.710926             0  \n",
       "\n",
       "[37065 rows x 6 columns]"
      ]
     },
     "execution_count": 160,
     "metadata": {},
     "output_type": "execute_result"
    }
   ],
   "source": [
    "# x_train_scaled_df"
   ]
  },
  {
   "cell_type": "code",
   "execution_count": null,
   "id": "64b2c977",
   "metadata": {},
   "outputs": [
    {
     "name": "stdout",
     "output_type": "stream",
     "text": [
      "Predicted Failure Type: [3]\n"
     ]
    }
   ],
   "source": [
    "\n",
    "\n",
    "# user_input = {\n",
    "#     'Type': '1',\n",
    "#     'Air temperature [K]': 298.9,\n",
    "#     'Process temperature [K]': 309.1,\n",
    "#     'Rotational speed [rpm]': 2861,\n",
    "#     'Torque [Nm]': 4.6\n",
    "# }\n",
    "\n",
    "\n",
    "# # Direct prediction using the trained model and scaler\n",
    "# pred = rf.predict(pd.DataFrame([user_input]))\n",
    "# # pred2 = rf2.predict(pd.DataFrame([user_input]))\n",
    "# # predicted_failure_type = le.inverse_transform(pred)[0]\n",
    "# print(\"Predicted Failure Type:\", pred)\n",
    "# # print(\"Predicted Failure Type (SMOTE-NC):\", pred2)\n",
    "\n",
    "# # prediction = predict_failure(user_input, rf, scaler)\n",
    "# # print(\"Predicted Failure Type:\", prediction)\n"
   ]
  },
  {
   "cell_type": "markdown",
   "id": "ff1c141d",
   "metadata": {},
   "source": [
    "### DL"
   ]
  },
  {
   "cell_type": "code",
   "execution_count": 154,
   "id": "fe62a60f",
   "metadata": {},
   "outputs": [],
   "source": [
    "df2 = pd.read_csv('2_SMOTE_NC_data.csv')"
   ]
  },
  {
   "cell_type": "code",
   "execution_count": 155,
   "id": "f02d4b20",
   "metadata": {},
   "outputs": [
    {
     "data": {
      "application/vnd.microsoft.datawrangler.viewer.v0+json": {
       "columns": [
        {
         "name": "index",
         "rawType": "int64",
         "type": "integer"
        },
        {
         "name": "Type",
         "rawType": "int64",
         "type": "integer"
        },
        {
         "name": "Air temperature [K]",
         "rawType": "float64",
         "type": "float"
        },
        {
         "name": "Process temperature [K]",
         "rawType": "float64",
         "type": "float"
        },
        {
         "name": "Rotational speed [rpm]",
         "rawType": "int64",
         "type": "integer"
        },
        {
         "name": "Torque [Nm]",
         "rawType": "float64",
         "type": "float"
        },
        {
         "name": "Tool wear [min]",
         "rawType": "int64",
         "type": "integer"
        },
        {
         "name": "Failure Type",
         "rawType": "int64",
         "type": "integer"
        },
        {
         "name": "y_labels",
         "rawType": "object",
         "type": "string"
        }
       ],
       "ref": "56a13a5e-4a82-4a4d-b506-e8a53a195555",
       "rows": [
        [
         "0",
         "2",
         "300.4",
         "311.8",
         "1362",
         "47.6",
         "188",
         "1",
         "No Failure"
        ],
        [
         "1",
         "2",
         "299.7",
         "309.3",
         "1399",
         "41.9",
         "221",
         "5",
         "Tool Wear Failure"
        ],
        [
         "2",
         "2",
         "301.8",
         "309.6",
         "1436",
         "49.0",
         "214",
         "1",
         "No Failure"
        ],
        [
         "3",
         "1",
         "300.4",
         "309.9",
         "1567",
         "36.5",
         "72",
         "1",
         "No Failure"
        ],
        [
         "4",
         "2",
         "298.1",
         "307.9",
         "1377",
         "55.1",
         "42",
         "1",
         "No Failure"
        ],
        [
         "5",
         "1",
         "299.1",
         "308.5",
         "1539",
         "46.8",
         "190",
         "1",
         "No Failure"
        ],
        [
         "6",
         "0",
         "299.8",
         "309.2",
         "1435",
         "42.6",
         "111",
         "1",
         "No Failure"
        ],
        [
         "7",
         "2",
         "303.8",
         "312.4",
         "1597",
         "33.4",
         "203",
         "1",
         "No Failure"
        ],
        [
         "8",
         "1",
         "302.7",
         "312.2",
         "1376",
         "52.8",
         "164",
         "1",
         "No Failure"
        ],
        [
         "9",
         "1",
         "301.5",
         "310.5",
         "1466",
         "48.1",
         "189",
         "1",
         "No Failure"
        ],
        [
         "10",
         "1",
         "297.3",
         "307.9",
         "1628",
         "30.2",
         "80",
         "1",
         "No Failure"
        ],
        [
         "11",
         "2",
         "298.0",
         "307.4",
         "1463",
         "46.5",
         "182",
         "1",
         "No Failure"
        ],
        [
         "12",
         "0",
         "298.1",
         "309.9",
         "1686",
         "29.1",
         "60",
         "1",
         "No Failure"
        ],
        [
         "13",
         "1",
         "299.5",
         "309.1",
         "1415",
         "49.2",
         "8",
         "1",
         "No Failure"
        ],
        [
         "14",
         "1",
         "301.7",
         "310.5",
         "1354",
         "50.0",
         "169",
         "1",
         "No Failure"
        ],
        [
         "15",
         "1",
         "302.0",
         "310.5",
         "1567",
         "36.1",
         "124",
         "1",
         "No Failure"
        ],
        [
         "16",
         "1",
         "301.2",
         "310.4",
         "1515",
         "38.4",
         "51",
         "1",
         "No Failure"
        ],
        [
         "17",
         "2",
         "298.3",
         "309.6",
         "1469",
         "54.8",
         "191",
         "1",
         "No Failure"
        ],
        [
         "18",
         "1",
         "300.1",
         "311.5",
         "1471",
         "47.2",
         "201",
         "1",
         "No Failure"
        ],
        [
         "19",
         "1",
         "300.5",
         "310.8",
         "1354",
         "51.8",
         "157",
         "1",
         "No Failure"
        ],
        [
         "20",
         "2",
         "300.5",
         "311.9",
         "1511",
         "44.5",
         "30",
         "1",
         "No Failure"
        ],
        [
         "21",
         "1",
         "300.1",
         "311.5",
         "2218",
         "17.0",
         "123",
         "1",
         "No Failure"
        ],
        [
         "22",
         "1",
         "300.4",
         "309.6",
         "1379",
         "54.5",
         "122",
         "1",
         "No Failure"
        ],
        [
         "23",
         "1",
         "298.6",
         "309.8",
         "1370",
         "56.0",
         "0",
         "1",
         "No Failure"
        ],
        [
         "24",
         "1",
         "300.3",
         "311.8",
         "2004",
         "19.6",
         "12",
         "1",
         "No Failure"
        ],
        [
         "25",
         "1",
         "298.9",
         "309.8",
         "1411",
         "56.3",
         "84",
         "1",
         "No Failure"
        ],
        [
         "26",
         "1",
         "298.9",
         "310.1",
         "1587",
         "30.2",
         "162",
         "1",
         "No Failure"
        ],
        [
         "27",
         "1",
         "297.2",
         "308.6",
         "1636",
         "31.3",
         "192",
         "1",
         "No Failure"
        ],
        [
         "28",
         "1",
         "300.6",
         "309.4",
         "1654",
         "32.8",
         "57",
         "1",
         "No Failure"
        ],
        [
         "29",
         "1",
         "297.5",
         "308.5",
         "1546",
         "40.4",
         "129",
         "1",
         "No Failure"
        ],
        [
         "30",
         "1",
         "300.7",
         "309.6",
         "1329",
         "54.3",
         "80",
         "1",
         "No Failure"
        ],
        [
         "31",
         "1",
         "300.0",
         "311.3",
         "1703",
         "30.4",
         "85",
         "1",
         "No Failure"
        ],
        [
         "32",
         "1",
         "300.8",
         "312.3",
         "1858",
         "26.3",
         "144",
         "1",
         "No Failure"
        ],
        [
         "33",
         "2",
         "301.7",
         "310.9",
         "1435",
         "48.0",
         "66",
         "1",
         "No Failure"
        ],
        [
         "34",
         "1",
         "300.0",
         "311.3",
         "1493",
         "41.4",
         "28",
         "1",
         "No Failure"
        ],
        [
         "35",
         "1",
         "300.7",
         "311.0",
         "1377",
         "49.9",
         "124",
         "1",
         "No Failure"
        ],
        [
         "36",
         "2",
         "295.7",
         "306.3",
         "1462",
         "44.3",
         "37",
         "1",
         "No Failure"
        ],
        [
         "37",
         "2",
         "302.4",
         "311.9",
         "1313",
         "55.7",
         "102",
         "1",
         "No Failure"
        ],
        [
         "38",
         "1",
         "297.3",
         "308.2",
         "1896",
         "24.4",
         "47",
         "1",
         "No Failure"
        ],
        [
         "39",
         "1",
         "302.3",
         "311.4",
         "1845",
         "21.9",
         "27",
         "1",
         "No Failure"
        ],
        [
         "40",
         "2",
         "300.3",
         "311.7",
         "1236",
         "57.5",
         "12",
         "1",
         "No Failure"
        ],
        [
         "41",
         "2",
         "303.5",
         "312.4",
         "1318",
         "54.2",
         "177",
         "1",
         "No Failure"
        ],
        [
         "42",
         "2",
         "299.0",
         "309.7",
         "1489",
         "40.7",
         "212",
         "1",
         "No Failure"
        ],
        [
         "43",
         "1",
         "297.3",
         "308.4",
         "1339",
         "52.1",
         "36",
         "1",
         "No Failure"
        ],
        [
         "44",
         "2",
         "300.8",
         "312.0",
         "1274",
         "67.3",
         "159",
         "1",
         "No Failure"
        ],
        [
         "45",
         "2",
         "298.0",
         "307.5",
         "1524",
         "36.3",
         "98",
         "1",
         "No Failure"
        ],
        [
         "46",
         "1",
         "298.1",
         "307.9",
         "2161",
         "17.5",
         "5",
         "1",
         "No Failure"
        ],
        [
         "47",
         "1",
         "301.4",
         "310.5",
         "1633",
         "39.5",
         "0",
         "1",
         "No Failure"
        ],
        [
         "48",
         "1",
         "300.7",
         "311.0",
         "1462",
         "41.9",
         "126",
         "1",
         "No Failure"
        ],
        [
         "49",
         "1",
         "297.8",
         "307.9",
         "1447",
         "48.6",
         "46",
         "1",
         "No Failure"
        ]
       ],
       "shape": {
        "columns": 8,
        "rows": 46332
       }
      },
      "text/html": [
       "<div>\n",
       "<style scoped>\n",
       "    .dataframe tbody tr th:only-of-type {\n",
       "        vertical-align: middle;\n",
       "    }\n",
       "\n",
       "    .dataframe tbody tr th {\n",
       "        vertical-align: top;\n",
       "    }\n",
       "\n",
       "    .dataframe thead th {\n",
       "        text-align: right;\n",
       "    }\n",
       "</style>\n",
       "<table border=\"1\" class=\"dataframe\">\n",
       "  <thead>\n",
       "    <tr style=\"text-align: right;\">\n",
       "      <th></th>\n",
       "      <th>Type</th>\n",
       "      <th>Air temperature [K]</th>\n",
       "      <th>Process temperature [K]</th>\n",
       "      <th>Rotational speed [rpm]</th>\n",
       "      <th>Torque [Nm]</th>\n",
       "      <th>Tool wear [min]</th>\n",
       "      <th>Failure Type</th>\n",
       "      <th>y_labels</th>\n",
       "    </tr>\n",
       "  </thead>\n",
       "  <tbody>\n",
       "    <tr>\n",
       "      <th>0</th>\n",
       "      <td>2</td>\n",
       "      <td>300.400000</td>\n",
       "      <td>311.800000</td>\n",
       "      <td>1362</td>\n",
       "      <td>47.600000</td>\n",
       "      <td>188</td>\n",
       "      <td>1</td>\n",
       "      <td>No Failure</td>\n",
       "    </tr>\n",
       "    <tr>\n",
       "      <th>1</th>\n",
       "      <td>2</td>\n",
       "      <td>299.700000</td>\n",
       "      <td>309.300000</td>\n",
       "      <td>1399</td>\n",
       "      <td>41.900000</td>\n",
       "      <td>221</td>\n",
       "      <td>5</td>\n",
       "      <td>Tool Wear Failure</td>\n",
       "    </tr>\n",
       "    <tr>\n",
       "      <th>2</th>\n",
       "      <td>2</td>\n",
       "      <td>301.800000</td>\n",
       "      <td>309.600000</td>\n",
       "      <td>1436</td>\n",
       "      <td>49.000000</td>\n",
       "      <td>214</td>\n",
       "      <td>1</td>\n",
       "      <td>No Failure</td>\n",
       "    </tr>\n",
       "    <tr>\n",
       "      <th>3</th>\n",
       "      <td>1</td>\n",
       "      <td>300.400000</td>\n",
       "      <td>309.900000</td>\n",
       "      <td>1567</td>\n",
       "      <td>36.500000</td>\n",
       "      <td>72</td>\n",
       "      <td>1</td>\n",
       "      <td>No Failure</td>\n",
       "    </tr>\n",
       "    <tr>\n",
       "      <th>4</th>\n",
       "      <td>2</td>\n",
       "      <td>298.100000</td>\n",
       "      <td>307.900000</td>\n",
       "      <td>1377</td>\n",
       "      <td>55.100000</td>\n",
       "      <td>42</td>\n",
       "      <td>1</td>\n",
       "      <td>No Failure</td>\n",
       "    </tr>\n",
       "    <tr>\n",
       "      <th>...</th>\n",
       "      <td>...</td>\n",
       "      <td>...</td>\n",
       "      <td>...</td>\n",
       "      <td>...</td>\n",
       "      <td>...</td>\n",
       "      <td>...</td>\n",
       "      <td>...</td>\n",
       "      <td>...</td>\n",
       "    </tr>\n",
       "    <tr>\n",
       "      <th>46327</th>\n",
       "      <td>1</td>\n",
       "      <td>298.625943</td>\n",
       "      <td>308.870085</td>\n",
       "      <td>1555</td>\n",
       "      <td>36.904604</td>\n",
       "      <td>208</td>\n",
       "      <td>5</td>\n",
       "      <td>Tool Wear Failure</td>\n",
       "    </tr>\n",
       "    <tr>\n",
       "      <th>46328</th>\n",
       "      <td>1</td>\n",
       "      <td>299.010913</td>\n",
       "      <td>310.416369</td>\n",
       "      <td>1905</td>\n",
       "      <td>23.596428</td>\n",
       "      <td>222</td>\n",
       "      <td>5</td>\n",
       "      <td>Tool Wear Failure</td>\n",
       "    </tr>\n",
       "    <tr>\n",
       "      <th>46329</th>\n",
       "      <td>1</td>\n",
       "      <td>297.163461</td>\n",
       "      <td>307.989151</td>\n",
       "      <td>1550</td>\n",
       "      <td>35.941863</td>\n",
       "      <td>207</td>\n",
       "      <td>5</td>\n",
       "      <td>Tool Wear Failure</td>\n",
       "    </tr>\n",
       "    <tr>\n",
       "      <th>46330</th>\n",
       "      <td>1</td>\n",
       "      <td>301.917438</td>\n",
       "      <td>310.081672</td>\n",
       "      <td>1443</td>\n",
       "      <td>46.694571</td>\n",
       "      <td>235</td>\n",
       "      <td>5</td>\n",
       "      <td>Tool Wear Failure</td>\n",
       "    </tr>\n",
       "    <tr>\n",
       "      <th>46331</th>\n",
       "      <td>2</td>\n",
       "      <td>298.353795</td>\n",
       "      <td>309.453795</td>\n",
       "      <td>1886</td>\n",
       "      <td>24.892373</td>\n",
       "      <td>201</td>\n",
       "      <td>5</td>\n",
       "      <td>Tool Wear Failure</td>\n",
       "    </tr>\n",
       "  </tbody>\n",
       "</table>\n",
       "<p>46332 rows × 8 columns</p>\n",
       "</div>"
      ],
      "text/plain": [
       "       Type  Air temperature [K]  Process temperature [K]  \\\n",
       "0         2           300.400000               311.800000   \n",
       "1         2           299.700000               309.300000   \n",
       "2         2           301.800000               309.600000   \n",
       "3         1           300.400000               309.900000   \n",
       "4         2           298.100000               307.900000   \n",
       "...     ...                  ...                      ...   \n",
       "46327     1           298.625943               308.870085   \n",
       "46328     1           299.010913               310.416369   \n",
       "46329     1           297.163461               307.989151   \n",
       "46330     1           301.917438               310.081672   \n",
       "46331     2           298.353795               309.453795   \n",
       "\n",
       "       Rotational speed [rpm]  Torque [Nm]  Tool wear [min]  Failure Type  \\\n",
       "0                        1362    47.600000              188             1   \n",
       "1                        1399    41.900000              221             5   \n",
       "2                        1436    49.000000              214             1   \n",
       "3                        1567    36.500000               72             1   \n",
       "4                        1377    55.100000               42             1   \n",
       "...                       ...          ...              ...           ...   \n",
       "46327                    1555    36.904604              208             5   \n",
       "46328                    1905    23.596428              222             5   \n",
       "46329                    1550    35.941863              207             5   \n",
       "46330                    1443    46.694571              235             5   \n",
       "46331                    1886    24.892373              201             5   \n",
       "\n",
       "                y_labels  \n",
       "0             No Failure  \n",
       "1      Tool Wear Failure  \n",
       "2             No Failure  \n",
       "3             No Failure  \n",
       "4             No Failure  \n",
       "...                  ...  \n",
       "46327  Tool Wear Failure  \n",
       "46328  Tool Wear Failure  \n",
       "46329  Tool Wear Failure  \n",
       "46330  Tool Wear Failure  \n",
       "46331  Tool Wear Failure  \n",
       "\n",
       "[46332 rows x 8 columns]"
      ]
     },
     "execution_count": 155,
     "metadata": {},
     "output_type": "execute_result"
    }
   ],
   "source": [
    "df2"
   ]
  },
  {
   "cell_type": "code",
   "execution_count": 156,
   "id": "76406ec2",
   "metadata": {},
   "outputs": [],
   "source": [
    "x = df2.drop(columns=['Failure Type', 'Tool wear [min]', 'y_labels'], axis=1)\n",
    "y = df2['Failure Type']"
   ]
  },
  {
   "cell_type": "code",
   "execution_count": 157,
   "id": "d1544195",
   "metadata": {},
   "outputs": [
    {
     "data": {
      "text/plain": [
       "((46332, 5), (46332,))"
      ]
     },
     "execution_count": 157,
     "metadata": {},
     "output_type": "execute_result"
    }
   ],
   "source": [
    "x.shape, y.shape"
   ]
  },
  {
   "cell_type": "code",
   "execution_count": 158,
   "id": "9607835f",
   "metadata": {},
   "outputs": [],
   "source": [
    "from sklearn.model_selection import train_test_split\n",
    "\n",
    "x_train, x_test, y_train, y_test = train_test_split(x, y, test_size=0.2, stratify=y, random_state=42)"
   ]
  },
  {
   "cell_type": "code",
   "execution_count": 159,
   "id": "fe3f8cca",
   "metadata": {},
   "outputs": [
    {
     "data": {
      "text/plain": [
       "((37065, 5), (9267, 5))"
      ]
     },
     "execution_count": 159,
     "metadata": {},
     "output_type": "execute_result"
    }
   ],
   "source": [
    "from sklearn.preprocessing import MinMaxScaler\n",
    "\n",
    "scaler = MinMaxScaler()\n",
    "scaler.fit(x_train)\n",
    "x_train = scaler.transform(x_train)\n",
    "x_test = scaler.transform(x_test)\n",
    "x_train.shape, x_test.shape"
   ]
  },
  {
   "cell_type": "code",
   "execution_count": 160,
   "id": "8128f343",
   "metadata": {},
   "outputs": [
    {
     "name": "stdout",
     "output_type": "stream",
     "text": [
      "Epoch 1/50\n",
      "\u001b[1m568/580\u001b[0m \u001b[32m━━━━━━━━━━━━━━━━━━━\u001b[0m\u001b[37m━\u001b[0m \u001b[1m0s\u001b[0m 4ms/step - accuracy: 0.4919 - loss: 1.3181\n",
      "Epoch 1: val_loss improved from inf to 0.80965, saving model to models2/dl2_base.keras\n",
      "\u001b[1m580/580\u001b[0m \u001b[32m━━━━━━━━━━━━━━━━━━━━\u001b[0m\u001b[37m\u001b[0m \u001b[1m9s\u001b[0m 5ms/step - accuracy: 0.4942 - loss: 1.3114 - val_accuracy: 0.6792 - val_loss: 0.8096\n",
      "Epoch 2/50\n",
      "\u001b[1m579/580\u001b[0m \u001b[32m━━━━━━━━━━━━━━━━━━━\u001b[0m\u001b[37m━\u001b[0m \u001b[1m0s\u001b[0m 4ms/step - accuracy: 0.6936 - loss: 0.7470\n",
      "Epoch 2: val_loss improved from 0.80965 to 0.56254, saving model to models2/dl2_base.keras\n",
      "\u001b[1m580/580\u001b[0m \u001b[32m━━━━━━━━━━━━━━━━━━━━\u001b[0m\u001b[37m\u001b[0m \u001b[1m3s\u001b[0m 5ms/step - accuracy: 0.6936 - loss: 0.7469 - val_accuracy: 0.7733 - val_loss: 0.5625\n",
      "Epoch 3/50\n",
      "\u001b[1m569/580\u001b[0m \u001b[32m━━━━━━━━━━━━━━━━━━━\u001b[0m\u001b[37m━\u001b[0m \u001b[1m0s\u001b[0m 4ms/step - accuracy: 0.7142 - loss: 0.6811\n",
      "Epoch 3: val_loss improved from 0.56254 to 0.55247, saving model to models2/dl2_base.keras\n",
      "\u001b[1m580/580\u001b[0m \u001b[32m━━━━━━━━━━━━━━━━━━━━\u001b[0m\u001b[37m\u001b[0m \u001b[1m3s\u001b[0m 4ms/step - accuracy: 0.7143 - loss: 0.6808 - val_accuracy: 0.7571 - val_loss: 0.5525\n",
      "Epoch 4/50\n",
      "\u001b[1m578/580\u001b[0m \u001b[32m━━━━━━━━━━━━━━━━━━━\u001b[0m\u001b[37m━\u001b[0m \u001b[1m0s\u001b[0m 5ms/step - accuracy: 0.7335 - loss: 0.6417\n",
      "Epoch 4: val_loss improved from 0.55247 to 0.49754, saving model to models2/dl2_base.keras\n",
      "\u001b[1m580/580\u001b[0m \u001b[32m━━━━━━━━━━━━━━━━━━━━\u001b[0m\u001b[37m\u001b[0m \u001b[1m6s\u001b[0m 6ms/step - accuracy: 0.7336 - loss: 0.6417 - val_accuracy: 0.8088 - val_loss: 0.4975\n",
      "Epoch 5/50\n",
      "\u001b[1m576/580\u001b[0m \u001b[32m━━━━━━━━━━━━━━━━━━━\u001b[0m\u001b[37m━\u001b[0m \u001b[1m0s\u001b[0m 3ms/step - accuracy: 0.7508 - loss: 0.5963\n",
      "Epoch 5: val_loss improved from 0.49754 to 0.48094, saving model to models2/dl2_base.keras\n",
      "\u001b[1m580/580\u001b[0m \u001b[32m━━━━━━━━━━━━━━━━━━━━\u001b[0m\u001b[37m\u001b[0m \u001b[1m2s\u001b[0m 4ms/step - accuracy: 0.7508 - loss: 0.5963 - val_accuracy: 0.8009 - val_loss: 0.4809\n",
      "Epoch 6/50\n",
      "\u001b[1m571/580\u001b[0m \u001b[32m━━━━━━━━━━━━━━━━━━━\u001b[0m\u001b[37m━\u001b[0m \u001b[1m0s\u001b[0m 4ms/step - accuracy: 0.7625 - loss: 0.5646\n",
      "Epoch 6: val_loss improved from 0.48094 to 0.46046, saving model to models2/dl2_base.keras\n",
      "\u001b[1m580/580\u001b[0m \u001b[32m━━━━━━━━━━━━━━━━━━━━\u001b[0m\u001b[37m\u001b[0m \u001b[1m3s\u001b[0m 4ms/step - accuracy: 0.7624 - loss: 0.5647 - val_accuracy: 0.8223 - val_loss: 0.4605\n",
      "Epoch 7/50\n",
      "\u001b[1m572/580\u001b[0m \u001b[32m━━━━━━━━━━━━━━━━━━━\u001b[0m\u001b[37m━\u001b[0m \u001b[1m0s\u001b[0m 4ms/step - accuracy: 0.7659 - loss: 0.5571\n",
      "Epoch 7: val_loss improved from 0.46046 to 0.43728, saving model to models2/dl2_base.keras\n",
      "\u001b[1m580/580\u001b[0m \u001b[32m━━━━━━━━━━━━━━━━━━━━\u001b[0m\u001b[37m\u001b[0m \u001b[1m3s\u001b[0m 5ms/step - accuracy: 0.7659 - loss: 0.5571 - val_accuracy: 0.8317 - val_loss: 0.4373\n",
      "Epoch 8/50\n",
      "\u001b[1m577/580\u001b[0m \u001b[32m━━━━━━━━━━━━━━━━━━━\u001b[0m\u001b[37m━\u001b[0m \u001b[1m0s\u001b[0m 4ms/step - accuracy: 0.7773 - loss: 0.5391\n",
      "Epoch 8: val_loss improved from 0.43728 to 0.42576, saving model to models2/dl2_base.keras\n",
      "\u001b[1m580/580\u001b[0m \u001b[32m━━━━━━━━━━━━━━━━━━━━\u001b[0m\u001b[37m\u001b[0m \u001b[1m3s\u001b[0m 4ms/step - accuracy: 0.7773 - loss: 0.5391 - val_accuracy: 0.8352 - val_loss: 0.4258\n",
      "Epoch 9/50\n",
      "\u001b[1m578/580\u001b[0m \u001b[32m━━━━━━━━━━━━━━━━━━━\u001b[0m\u001b[37m━\u001b[0m \u001b[1m0s\u001b[0m 4ms/step - accuracy: 0.7830 - loss: 0.5274\n",
      "Epoch 9: val_loss did not improve from 0.42576\n",
      "\u001b[1m580/580\u001b[0m \u001b[32m━━━━━━━━━━━━━━━━━━━━\u001b[0m\u001b[37m\u001b[0m \u001b[1m3s\u001b[0m 4ms/step - accuracy: 0.7830 - loss: 0.5274 - val_accuracy: 0.8322 - val_loss: 0.4270\n",
      "Epoch 10/50\n",
      "\u001b[1m572/580\u001b[0m \u001b[32m━━━━━━━━━━━━━━━━━━━\u001b[0m\u001b[37m━\u001b[0m \u001b[1m0s\u001b[0m 4ms/step - accuracy: 0.7891 - loss: 0.5173\n",
      "Epoch 10: val_loss did not improve from 0.42576\n",
      "\u001b[1m580/580\u001b[0m \u001b[32m━━━━━━━━━━━━━━━━━━━━\u001b[0m\u001b[37m\u001b[0m \u001b[1m3s\u001b[0m 5ms/step - accuracy: 0.7891 - loss: 0.5173 - val_accuracy: 0.8249 - val_loss: 0.4377\n",
      "Epoch 11/50\n",
      "\u001b[1m575/580\u001b[0m \u001b[32m━━━━━━━━━━━━━━━━━━━\u001b[0m\u001b[37m━\u001b[0m \u001b[1m0s\u001b[0m 5ms/step - accuracy: 0.7898 - loss: 0.5116\n",
      "Epoch 11: val_loss improved from 0.42576 to 0.39516, saving model to models2/dl2_base.keras\n",
      "\u001b[1m580/580\u001b[0m \u001b[32m━━━━━━━━━━━━━━━━━━━━\u001b[0m\u001b[37m\u001b[0m \u001b[1m4s\u001b[0m 6ms/step - accuracy: 0.7898 - loss: 0.5116 - val_accuracy: 0.8481 - val_loss: 0.3952\n",
      "Epoch 12/50\n",
      "\u001b[1m572/580\u001b[0m \u001b[32m━━━━━━━━━━━━━━━━━━━\u001b[0m\u001b[37m━\u001b[0m \u001b[1m0s\u001b[0m 5ms/step - accuracy: 0.7989 - loss: 0.4928\n",
      "Epoch 12: val_loss improved from 0.39516 to 0.38537, saving model to models2/dl2_base.keras\n",
      "\u001b[1m580/580\u001b[0m \u001b[32m━━━━━━━━━━━━━━━━━━━━\u001b[0m\u001b[37m\u001b[0m \u001b[1m3s\u001b[0m 5ms/step - accuracy: 0.7989 - loss: 0.4929 - val_accuracy: 0.8566 - val_loss: 0.3854\n",
      "Epoch 13/50\n",
      "\u001b[1m578/580\u001b[0m \u001b[32m━━━━━━━━━━━━━━━━━━━\u001b[0m\u001b[37m━\u001b[0m \u001b[1m0s\u001b[0m 5ms/step - accuracy: 0.7985 - loss: 0.4978\n",
      "Epoch 13: val_loss improved from 0.38537 to 0.37482, saving model to models2/dl2_base.keras\n",
      "\u001b[1m580/580\u001b[0m \u001b[32m━━━━━━━━━━━━━━━━━━━━\u001b[0m\u001b[37m\u001b[0m \u001b[1m3s\u001b[0m 6ms/step - accuracy: 0.7985 - loss: 0.4978 - val_accuracy: 0.8579 - val_loss: 0.3748\n",
      "Epoch 14/50\n",
      "\u001b[1m565/580\u001b[0m \u001b[32m━━━━━━━━━━━━━━━━━━━\u001b[0m\u001b[37m━\u001b[0m \u001b[1m0s\u001b[0m 4ms/step - accuracy: 0.8034 - loss: 0.4840\n",
      "Epoch 14: val_loss did not improve from 0.37482\n",
      "\u001b[1m580/580\u001b[0m \u001b[32m━━━━━━━━━━━━━━━━━━━━\u001b[0m\u001b[37m\u001b[0m \u001b[1m3s\u001b[0m 5ms/step - accuracy: 0.8035 - loss: 0.4840 - val_accuracy: 0.8503 - val_loss: 0.3809\n",
      "Epoch 15/50\n",
      "\u001b[1m568/580\u001b[0m \u001b[32m━━━━━━━━━━━━━━━━━━━\u001b[0m\u001b[37m━\u001b[0m \u001b[1m0s\u001b[0m 4ms/step - accuracy: 0.8073 - loss: 0.4786\n",
      "Epoch 15: val_loss did not improve from 0.37482\n",
      "\u001b[1m580/580\u001b[0m \u001b[32m━━━━━━━━━━━━━━━━━━━━\u001b[0m\u001b[37m\u001b[0m \u001b[1m2s\u001b[0m 4ms/step - accuracy: 0.8073 - loss: 0.4787 - val_accuracy: 0.8195 - val_loss: 0.4389\n",
      "Epoch 16/50\n",
      "\u001b[1m574/580\u001b[0m \u001b[32m━━━━━━━━━━━━━━━━━━━\u001b[0m\u001b[37m━\u001b[0m \u001b[1m0s\u001b[0m 4ms/step - accuracy: 0.8079 - loss: 0.4740\n",
      "Epoch 16: val_loss improved from 0.37482 to 0.37145, saving model to models2/dl2_base.keras\n",
      "\u001b[1m580/580\u001b[0m \u001b[32m━━━━━━━━━━━━━━━━━━━━\u001b[0m\u001b[37m\u001b[0m \u001b[1m3s\u001b[0m 4ms/step - accuracy: 0.8079 - loss: 0.4740 - val_accuracy: 0.8538 - val_loss: 0.3714\n",
      "Epoch 17/50\n",
      "\u001b[1m566/580\u001b[0m \u001b[32m━━━━━━━━━━━━━━━━━━━\u001b[0m\u001b[37m━\u001b[0m \u001b[1m0s\u001b[0m 3ms/step - accuracy: 0.8097 - loss: 0.4713\n",
      "Epoch 17: val_loss improved from 0.37145 to 0.36003, saving model to models2/dl2_base.keras\n",
      "\u001b[1m580/580\u001b[0m \u001b[32m━━━━━━━━━━━━━━━━━━━━\u001b[0m\u001b[37m\u001b[0m \u001b[1m2s\u001b[0m 4ms/step - accuracy: 0.8098 - loss: 0.4713 - val_accuracy: 0.8572 - val_loss: 0.3600\n",
      "Epoch 18/50\n",
      "\u001b[1m567/580\u001b[0m \u001b[32m━━━━━━━━━━━━━━━━━━━\u001b[0m\u001b[37m━\u001b[0m \u001b[1m0s\u001b[0m 4ms/step - accuracy: 0.8113 - loss: 0.4668\n",
      "Epoch 18: val_loss did not improve from 0.36003\n",
      "\u001b[1m580/580\u001b[0m \u001b[32m━━━━━━━━━━━━━━━━━━━━\u001b[0m\u001b[37m\u001b[0m \u001b[1m3s\u001b[0m 5ms/step - accuracy: 0.8113 - loss: 0.4668 - val_accuracy: 0.8551 - val_loss: 0.3780\n",
      "Epoch 19/50\n",
      "\u001b[1m571/580\u001b[0m \u001b[32m━━━━━━━━━━━━━━━━━━━\u001b[0m\u001b[37m━\u001b[0m \u001b[1m0s\u001b[0m 4ms/step - accuracy: 0.8150 - loss: 0.4608\n",
      "Epoch 19: val_loss improved from 0.36003 to 0.35025, saving model to models2/dl2_base.keras\n",
      "\u001b[1m580/580\u001b[0m \u001b[32m━━━━━━━━━━━━━━━━━━━━\u001b[0m\u001b[37m\u001b[0m \u001b[1m3s\u001b[0m 5ms/step - accuracy: 0.8150 - loss: 0.4608 - val_accuracy: 0.8619 - val_loss: 0.3503\n",
      "Epoch 20/50\n",
      "\u001b[1m578/580\u001b[0m \u001b[32m━━━━━━━━━━━━━━━━━━━\u001b[0m\u001b[37m━\u001b[0m \u001b[1m0s\u001b[0m 4ms/step - accuracy: 0.8168 - loss: 0.4590\n",
      "Epoch 20: val_loss improved from 0.35025 to 0.34501, saving model to models2/dl2_base.keras\n",
      "\u001b[1m580/580\u001b[0m \u001b[32m━━━━━━━━━━━━━━━━━━━━\u001b[0m\u001b[37m\u001b[0m \u001b[1m3s\u001b[0m 4ms/step - accuracy: 0.8168 - loss: 0.4590 - val_accuracy: 0.8681 - val_loss: 0.3450\n",
      "Epoch 21/50\n",
      "\u001b[1m574/580\u001b[0m \u001b[32m━━━━━━━━━━━━━━━━━━━\u001b[0m\u001b[37m━\u001b[0m \u001b[1m0s\u001b[0m 4ms/step - accuracy: 0.8249 - loss: 0.4426\n",
      "Epoch 21: val_loss improved from 0.34501 to 0.33635, saving model to models2/dl2_base.keras\n",
      "\u001b[1m580/580\u001b[0m \u001b[32m━━━━━━━━━━━━━━━━━━━━\u001b[0m\u001b[37m\u001b[0m \u001b[1m3s\u001b[0m 4ms/step - accuracy: 0.8249 - loss: 0.4426 - val_accuracy: 0.8709 - val_loss: 0.3364\n",
      "Epoch 22/50\n",
      "\u001b[1m575/580\u001b[0m \u001b[32m━━━━━━━━━━━━━━━━━━━\u001b[0m\u001b[37m━\u001b[0m \u001b[1m0s\u001b[0m 6ms/step - accuracy: 0.8200 - loss: 0.4468\n",
      "Epoch 22: val_loss improved from 0.33635 to 0.32886, saving model to models2/dl2_base.keras\n",
      "\u001b[1m580/580\u001b[0m \u001b[32m━━━━━━━━━━━━━━━━━━━━\u001b[0m\u001b[37m\u001b[0m \u001b[1m4s\u001b[0m 7ms/step - accuracy: 0.8201 - loss: 0.4468 - val_accuracy: 0.8748 - val_loss: 0.3289\n",
      "Epoch 23/50\n",
      "\u001b[1m571/580\u001b[0m \u001b[32m━━━━━━━━━━━━━━━━━━━\u001b[0m\u001b[37m━\u001b[0m \u001b[1m0s\u001b[0m 4ms/step - accuracy: 0.8245 - loss: 0.4417\n",
      "Epoch 23: val_loss did not improve from 0.32886\n",
      "\u001b[1m580/580\u001b[0m \u001b[32m━━━━━━━━━━━━━━━━━━━━\u001b[0m\u001b[37m\u001b[0m \u001b[1m3s\u001b[0m 5ms/step - accuracy: 0.8245 - loss: 0.4417 - val_accuracy: 0.8651 - val_loss: 0.3512\n",
      "Epoch 24/50\n",
      "\u001b[1m573/580\u001b[0m \u001b[32m━━━━━━━━━━━━━━━━━━━\u001b[0m\u001b[37m━\u001b[0m \u001b[1m0s\u001b[0m 4ms/step - accuracy: 0.8230 - loss: 0.4471\n",
      "Epoch 24: val_loss did not improve from 0.32886\n",
      "\u001b[1m580/580\u001b[0m \u001b[32m━━━━━━━━━━━━━━━━━━━━\u001b[0m\u001b[37m\u001b[0m \u001b[1m3s\u001b[0m 5ms/step - accuracy: 0.8231 - loss: 0.4470 - val_accuracy: 0.8610 - val_loss: 0.3506\n",
      "Epoch 25/50\n",
      "\u001b[1m575/580\u001b[0m \u001b[32m━━━━━━━━━━━━━━━━━━━\u001b[0m\u001b[37m━\u001b[0m \u001b[1m0s\u001b[0m 3ms/step - accuracy: 0.8207 - loss: 0.4480\n",
      "Epoch 25: val_loss did not improve from 0.32886\n",
      "\u001b[1m580/580\u001b[0m \u001b[32m━━━━━━━━━━━━━━━━━━━━\u001b[0m\u001b[37m\u001b[0m \u001b[1m3s\u001b[0m 4ms/step - accuracy: 0.8208 - loss: 0.4480 - val_accuracy: 0.8665 - val_loss: 0.3376\n",
      "Epoch 26/50\n",
      "\u001b[1m576/580\u001b[0m \u001b[32m━━━━━━━━━━━━━━━━━━━\u001b[0m\u001b[37m━\u001b[0m \u001b[1m0s\u001b[0m 3ms/step - accuracy: 0.8316 - loss: 0.4304\n",
      "Epoch 26: val_loss improved from 0.32886 to 0.32643, saving model to models2/dl2_base.keras\n",
      "\u001b[1m580/580\u001b[0m \u001b[32m━━━━━━━━━━━━━━━━━━━━\u001b[0m\u001b[37m\u001b[0m \u001b[1m3s\u001b[0m 4ms/step - accuracy: 0.8316 - loss: 0.4304 - val_accuracy: 0.8760 - val_loss: 0.3264\n",
      "Epoch 27/50\n",
      "\u001b[1m576/580\u001b[0m \u001b[32m━━━━━━━━━━━━━━━━━━━\u001b[0m\u001b[37m━\u001b[0m \u001b[1m0s\u001b[0m 4ms/step - accuracy: 0.8314 - loss: 0.4255\n",
      "Epoch 27: val_loss did not improve from 0.32643\n",
      "\u001b[1m580/580\u001b[0m \u001b[32m━━━━━━━━━━━━━━━━━━━━\u001b[0m\u001b[37m\u001b[0m \u001b[1m3s\u001b[0m 5ms/step - accuracy: 0.8314 - loss: 0.4255 - val_accuracy: 0.8693 - val_loss: 0.3354\n",
      "Epoch 28/50\n",
      "\u001b[1m562/580\u001b[0m \u001b[32m━━━━━━━━━━━━━━━━━━━\u001b[0m\u001b[37m━\u001b[0m \u001b[1m0s\u001b[0m 4ms/step - accuracy: 0.8332 - loss: 0.4247\n",
      "Epoch 28: val_loss improved from 0.32643 to 0.32625, saving model to models2/dl2_base.keras\n",
      "\u001b[1m580/580\u001b[0m \u001b[32m━━━━━━━━━━━━━━━━━━━━\u001b[0m\u001b[37m\u001b[0m \u001b[1m3s\u001b[0m 5ms/step - accuracy: 0.8331 - loss: 0.4248 - val_accuracy: 0.8727 - val_loss: 0.3262\n",
      "Epoch 29/50\n",
      "\u001b[1m580/580\u001b[0m \u001b[32m━━━━━━━━━━━━━━━━━━━━\u001b[0m\u001b[37m\u001b[0m \u001b[1m0s\u001b[0m 4ms/step - accuracy: 0.8269 - loss: 0.4323\n",
      "Epoch 29: val_loss improved from 0.32625 to 0.32342, saving model to models2/dl2_base.keras\n",
      "\u001b[1m580/580\u001b[0m \u001b[32m━━━━━━━━━━━━━━━━━━━━\u001b[0m\u001b[37m\u001b[0m \u001b[1m2s\u001b[0m 4ms/step - accuracy: 0.8269 - loss: 0.4323 - val_accuracy: 0.8745 - val_loss: 0.3234\n",
      "Epoch 30/50\n",
      "\u001b[1m575/580\u001b[0m \u001b[32m━━━━━━━━━━━━━━━━━━━\u001b[0m\u001b[37m━\u001b[0m \u001b[1m0s\u001b[0m 3ms/step - accuracy: 0.8243 - loss: 0.4425\n",
      "Epoch 30: val_loss improved from 0.32342 to 0.30999, saving model to models2/dl2_base.keras\n",
      "\u001b[1m580/580\u001b[0m \u001b[32m━━━━━━━━━━━━━━━━━━━━\u001b[0m\u001b[37m\u001b[0m \u001b[1m2s\u001b[0m 3ms/step - accuracy: 0.8244 - loss: 0.4423 - val_accuracy: 0.8816 - val_loss: 0.3100\n",
      "Epoch 31/50\n",
      "\u001b[1m573/580\u001b[0m \u001b[32m━━━━━━━━━━━━━━━━━━━\u001b[0m\u001b[37m━\u001b[0m \u001b[1m0s\u001b[0m 4ms/step - accuracy: 0.8322 - loss: 0.4211\n",
      "Epoch 31: val_loss improved from 0.30999 to 0.30531, saving model to models2/dl2_base.keras\n",
      "\u001b[1m580/580\u001b[0m \u001b[32m━━━━━━━━━━━━━━━━━━━━\u001b[0m\u001b[37m\u001b[0m \u001b[1m2s\u001b[0m 4ms/step - accuracy: 0.8322 - loss: 0.4211 - val_accuracy: 0.8841 - val_loss: 0.3053\n",
      "Epoch 32/50\n",
      "\u001b[1m580/580\u001b[0m \u001b[32m━━━━━━━━━━━━━━━━━━━━\u001b[0m\u001b[37m\u001b[0m \u001b[1m0s\u001b[0m 4ms/step - accuracy: 0.8280 - loss: 0.4274\n",
      "Epoch 32: val_loss did not improve from 0.30531\n",
      "\u001b[1m580/580\u001b[0m \u001b[32m━━━━━━━━━━━━━━━━━━━━\u001b[0m\u001b[37m\u001b[0m \u001b[1m3s\u001b[0m 4ms/step - accuracy: 0.8280 - loss: 0.4274 - val_accuracy: 0.8717 - val_loss: 0.3260\n",
      "Epoch 33/50\n",
      "\u001b[1m570/580\u001b[0m \u001b[32m━━━━━━━━━━━━━━━━━━━\u001b[0m\u001b[37m━\u001b[0m \u001b[1m0s\u001b[0m 4ms/step - accuracy: 0.8324 - loss: 0.4246\n",
      "Epoch 33: val_loss did not improve from 0.30531\n",
      "\u001b[1m580/580\u001b[0m \u001b[32m━━━━━━━━━━━━━━━━━━━━\u001b[0m\u001b[37m\u001b[0m \u001b[1m3s\u001b[0m 4ms/step - accuracy: 0.8325 - loss: 0.4246 - val_accuracy: 0.8794 - val_loss: 0.3104\n",
      "Epoch 34/50\n",
      "\u001b[1m575/580\u001b[0m \u001b[32m━━━━━━━━━━━━━━━━━━━\u001b[0m\u001b[37m━\u001b[0m \u001b[1m0s\u001b[0m 4ms/step - accuracy: 0.8391 - loss: 0.4173\n",
      "Epoch 34: val_loss did not improve from 0.30531\n",
      "\u001b[1m580/580\u001b[0m \u001b[32m━━━━━━━━━━━━━━━━━━━━\u001b[0m\u001b[37m\u001b[0m \u001b[1m2s\u001b[0m 4ms/step - accuracy: 0.8391 - loss: 0.4173 - val_accuracy: 0.8827 - val_loss: 0.3072\n",
      "Epoch 35/50\n",
      "\u001b[1m569/580\u001b[0m \u001b[32m━━━━━━━━━━━━━━━━━━━\u001b[0m\u001b[37m━\u001b[0m \u001b[1m0s\u001b[0m 4ms/step - accuracy: 0.8349 - loss: 0.4153\n",
      "Epoch 35: val_loss did not improve from 0.30531\n",
      "\u001b[1m580/580\u001b[0m \u001b[32m━━━━━━━━━━━━━━━━━━━━\u001b[0m\u001b[37m\u001b[0m \u001b[1m2s\u001b[0m 4ms/step - accuracy: 0.8350 - loss: 0.4153 - val_accuracy: 0.8775 - val_loss: 0.3183\n",
      "Epoch 36/50\n",
      "\u001b[1m568/580\u001b[0m \u001b[32m━━━━━━━━━━━━━━━━━━━\u001b[0m\u001b[37m━\u001b[0m \u001b[1m0s\u001b[0m 4ms/step - accuracy: 0.8381 - loss: 0.4141\n",
      "Epoch 36: val_loss improved from 0.30531 to 0.29700, saving model to models2/dl2_base.keras\n",
      "\u001b[1m580/580\u001b[0m \u001b[32m━━━━━━━━━━━━━━━━━━━━\u001b[0m\u001b[37m\u001b[0m \u001b[1m2s\u001b[0m 4ms/step - accuracy: 0.8381 - loss: 0.4141 - val_accuracy: 0.8868 - val_loss: 0.2970\n",
      "Epoch 37/50\n",
      "\u001b[1m571/580\u001b[0m \u001b[32m━━━━━━━━━━━━━━━━━━━\u001b[0m\u001b[37m━\u001b[0m \u001b[1m0s\u001b[0m 3ms/step - accuracy: 0.8322 - loss: 0.4151\n",
      "Epoch 37: val_loss did not improve from 0.29700\n",
      "\u001b[1m580/580\u001b[0m \u001b[32m━━━━━━━━━━━━━━━━━━━━\u001b[0m\u001b[37m\u001b[0m \u001b[1m2s\u001b[0m 4ms/step - accuracy: 0.8323 - loss: 0.4150 - val_accuracy: 0.8827 - val_loss: 0.3149\n",
      "Epoch 38/50\n",
      "\u001b[1m577/580\u001b[0m \u001b[32m━━━━━━━━━━━━━━━━━━━\u001b[0m\u001b[37m━\u001b[0m \u001b[1m0s\u001b[0m 3ms/step - accuracy: 0.8358 - loss: 0.4155\n",
      "Epoch 38: val_loss did not improve from 0.29700\n",
      "\u001b[1m580/580\u001b[0m \u001b[32m━━━━━━━━━━━━━━━━━━━━\u001b[0m\u001b[37m\u001b[0m \u001b[1m2s\u001b[0m 3ms/step - accuracy: 0.8359 - loss: 0.4155 - val_accuracy: 0.8832 - val_loss: 0.3057\n",
      "Epoch 39/50\n",
      "\u001b[1m578/580\u001b[0m \u001b[32m━━━━━━━━━━━━━━━━━━━\u001b[0m\u001b[37m━\u001b[0m \u001b[1m0s\u001b[0m 3ms/step - accuracy: 0.8437 - loss: 0.3991\n",
      "Epoch 39: val_loss did not improve from 0.29700\n",
      "\u001b[1m580/580\u001b[0m \u001b[32m━━━━━━━━━━━━━━━━━━━━\u001b[0m\u001b[37m\u001b[0m \u001b[1m2s\u001b[0m 4ms/step - accuracy: 0.8436 - loss: 0.3991 - val_accuracy: 0.8762 - val_loss: 0.3175\n",
      "Epoch 40/50\n",
      "\u001b[1m571/580\u001b[0m \u001b[32m━━━━━━━━━━━━━━━━━━━\u001b[0m\u001b[37m━\u001b[0m \u001b[1m0s\u001b[0m 3ms/step - accuracy: 0.8371 - loss: 0.4143\n",
      "Epoch 40: val_loss improved from 0.29700 to 0.28739, saving model to models2/dl2_base.keras\n",
      "\u001b[1m580/580\u001b[0m \u001b[32m━━━━━━━━━━━━━━━━━━━━\u001b[0m\u001b[37m\u001b[0m \u001b[1m2s\u001b[0m 4ms/step - accuracy: 0.8371 - loss: 0.4143 - val_accuracy: 0.8930 - val_loss: 0.2874\n",
      "Epoch 41/50\n",
      "\u001b[1m580/580\u001b[0m \u001b[32m━━━━━━━━━━━━━━━━━━━━\u001b[0m\u001b[37m\u001b[0m \u001b[1m0s\u001b[0m 4ms/step - accuracy: 0.8419 - loss: 0.4039\n",
      "Epoch 41: val_loss did not improve from 0.28739\n",
      "\u001b[1m580/580\u001b[0m \u001b[32m━━━━━━━━━━━━━━━━━━━━\u001b[0m\u001b[37m\u001b[0m \u001b[1m2s\u001b[0m 4ms/step - accuracy: 0.8419 - loss: 0.4039 - val_accuracy: 0.8912 - val_loss: 0.3016\n",
      "Epoch 42/50\n",
      "\u001b[1m574/580\u001b[0m \u001b[32m━━━━━━━━━━━━━━━━━━━\u001b[0m\u001b[37m━\u001b[0m \u001b[1m0s\u001b[0m 3ms/step - accuracy: 0.8411 - loss: 0.4068\n",
      "Epoch 42: val_loss did not improve from 0.28739\n",
      "\u001b[1m580/580\u001b[0m \u001b[32m━━━━━━━━━━━━━━━━━━━━\u001b[0m\u001b[37m\u001b[0m \u001b[1m2s\u001b[0m 4ms/step - accuracy: 0.8411 - loss: 0.4067 - val_accuracy: 0.8837 - val_loss: 0.3038\n",
      "Epoch 43/50\n",
      "\u001b[1m562/580\u001b[0m \u001b[32m━━━━━━━━━━━━━━━━━━━\u001b[0m\u001b[37m━\u001b[0m \u001b[1m0s\u001b[0m 3ms/step - accuracy: 0.8413 - loss: 0.4042\n",
      "Epoch 43: val_loss did not improve from 0.28739\n",
      "\u001b[1m580/580\u001b[0m \u001b[32m━━━━━━━━━━━━━━━━━━━━\u001b[0m\u001b[37m\u001b[0m \u001b[1m2s\u001b[0m 4ms/step - accuracy: 0.8413 - loss: 0.4042 - val_accuracy: 0.8884 - val_loss: 0.2920\n",
      "Epoch 44/50\n",
      "\u001b[1m579/580\u001b[0m \u001b[32m━━━━━━━━━━━━━━━━━━━\u001b[0m\u001b[37m━\u001b[0m \u001b[1m0s\u001b[0m 3ms/step - accuracy: 0.8394 - loss: 0.4062\n",
      "Epoch 44: val_loss did not improve from 0.28739\n",
      "\u001b[1m580/580\u001b[0m \u001b[32m━━━━━━━━━━━━━━━━━━━━\u001b[0m\u001b[37m\u001b[0m \u001b[1m2s\u001b[0m 4ms/step - accuracy: 0.8394 - loss: 0.4062 - val_accuracy: 0.8776 - val_loss: 0.3071\n",
      "Epoch 45/50\n",
      "\u001b[1m575/580\u001b[0m \u001b[32m━━━━━━━━━━━━━━━━━━━\u001b[0m\u001b[37m━\u001b[0m \u001b[1m0s\u001b[0m 3ms/step - accuracy: 0.8435 - loss: 0.4009\n",
      "Epoch 45: val_loss did not improve from 0.28739\n",
      "\u001b[1m580/580\u001b[0m \u001b[32m━━━━━━━━━━━━━━━━━━━━\u001b[0m\u001b[37m\u001b[0m \u001b[1m2s\u001b[0m 4ms/step - accuracy: 0.8435 - loss: 0.4010 - val_accuracy: 0.8767 - val_loss: 0.3158\n",
      "Epoch 45: early stopping\n",
      "Restoring model weights from the end of the best epoch: 40.\n",
      "Test Accuracy: 0.8930\n"
     ]
    }
   ],
   "source": [
    "import tensorflow as tf\n",
    "from tensorflow.keras import layers, models\n",
    "from sklearn.preprocessing import StandardScaler\n",
    "from sklearn.model_selection import train_test_split\n",
    "import numpy as np\n",
    "\n",
    "\n",
    "def build_baseline_nn(input_dim, num_classes):\n",
    "    model = models.Sequential([\n",
    "    # layers.Dense(128, activation='relu', input_dim=input_dim),\n",
    "    # layers.BatchNormalization(),\n",
    "    # layers.Dropout(0.4),\n",
    "\n",
    "    layers.Dense(128, activation='relu'),\n",
    "    layers.BatchNormalization(),\n",
    "    layers.Dropout(0.4),\n",
    "    layers.Dense(64,activation='relu'),\n",
    "    layers.BatchNormalization(),\n",
    "    layers.Dropout(0.3),\n",
    "\n",
    "    layers.Dense(32, activation='relu'),\n",
    "    layers.BatchNormalization(),\n",
    "\n",
    "    layers.Dense(num_classes, activation='softmax')\n",
    "])\n",
    "\n",
    "    optimizer = tf.keras.optimizers.Adam(learning_rate=0.0005)\n",
    "\n",
    "    model.compile(optimizer=optimizer,\n",
    "                  loss='sparse_categorical_crossentropy',\n",
    "                  metrics=['accuracy'])\n",
    "    return model\n",
    "\n",
    "# Example usage:\n",
    "# Assume X_train, X_test, y_train, y_test are already preprocessed\n",
    "num_classes = len(np.unique(y_train))\n",
    "model = build_baseline_nn(x_train.shape[1], num_classes)\n",
    "\n",
    "from tensorflow.keras.callbacks import EarlyStopping, ModelCheckpoint\n",
    "\n",
    "checkpoint = ModelCheckpoint(\n",
    "    filepath=\"models2/dl2_base.keras\",   \n",
    "    monitor=\"val_loss\",         \n",
    "    save_best_only=True,        \n",
    "    verbose=1\n",
    ")\n",
    "\n",
    "early_stop = EarlyStopping(\n",
    "    monitor=\"val_loss\", \n",
    "    patience=5,                 \n",
    "    restore_best_weights=True,  \n",
    "    verbose=1\n",
    ")\n",
    "\n",
    "history = model.fit(\n",
    "    x_train, y_train,\n",
    "    validation_data=(x_test, y_test),\n",
    "    epochs=50,\n",
    "    batch_size=64,\n",
    "    callbacks=[early_stop, checkpoint],\n",
    "    verbose=1\n",
    ")\n",
    "\n",
    "loss, acc = model.evaluate(x_test, y_test, verbose=0)\n",
    "print(f\"Test Accuracy: {acc:.4f}\")\n"
   ]
  },
  {
   "cell_type": "code",
   "execution_count": 162,
   "id": "2457b517",
   "metadata": {},
   "outputs": [],
   "source": [
    "model.save('models2/smote-nc/dl2_baseline.keras')"
   ]
  },
  {
   "cell_type": "code",
   "execution_count": 163,
   "id": "69184a79",
   "metadata": {},
   "outputs": [
    {
     "data": {
      "text/plain": [
       "[0.2873947322368622, 0.8929535150527954]"
      ]
     },
     "execution_count": 163,
     "metadata": {},
     "output_type": "execute_result"
    }
   ],
   "source": [
    "m3 = load_model('models2/smote-nc/dl2_baseline.keras')\n",
    "m3.evaluate(x_test, y_test, verbose=0)"
   ]
  },
  {
   "cell_type": "code",
   "execution_count": 161,
   "id": "8dbbce78",
   "metadata": {},
   "outputs": [
    {
     "data": {
      "image/png": "[encoded data removed]",
      "text/plain": [
       "<Figure size 640x480 with 1 Axes>"
      ]
     },
     "metadata": {},
     "output_type": "display_data"
    },
    {
     "data": {
      "image/png": "[encoded data removed]",
      "text/plain": [
       "<Figure size 640x480 with 1 Axes>"
      ]
     },
     "metadata": {},
     "output_type": "display_data"
    }
   ],
   "source": [
    "plot_loss_curves(history)"
   ]
  },
  {
   "cell_type": "code",
   "execution_count": 165,
   "id": "0e48fd87",
   "metadata": {},
   "outputs": [
    {
     "name": "stdout",
     "output_type": "stream",
     "text": [
      "Epoch 1/100\n"
     ]
    },
    {
     "name": "stderr",
     "output_type": "stream",
     "text": [
      "c:\\Users\\Integrated\\anaconda3\\Lib\\site-packages\\keras\\src\\ops\\nn.py:545: UserWarning: You are using a softmax over axis 3 of a tensor of shape (None, 8, 1, 1). This axis has size 1. The softmax operation will always return the value 1, which is likely not what you intended. Did you mean to use a sigmoid instead?\n",
      "  warnings.warn(\n"
     ]
    },
    {
     "name": "stdout",
     "output_type": "stream",
     "text": [
      "\u001b[1m576/580\u001b[0m \u001b[32m━━━━━━━━━━━━━━━━━━━\u001b[0m\u001b[37m━\u001b[0m \u001b[1m0s\u001b[0m 12ms/step - accuracy: 0.4199 - loss: 1.4489\n",
      "Epoch 1: val_loss improved from inf to 0.75920, saving model to models2/dl_base.keras\n",
      "\u001b[1m580/580\u001b[0m \u001b[32m━━━━━━━━━━━━━━━━━━━━\u001b[0m\u001b[37m\u001b[0m \u001b[1m13s\u001b[0m 14ms/step - accuracy: 0.4210 - loss: 1.4463 - val_accuracy: 0.7050 - val_loss: 0.7592\n",
      "Epoch 2/100\n",
      "\u001b[1m580/580\u001b[0m \u001b[32m━━━━━━━━━━━━━━━━━━━━\u001b[0m\u001b[37m\u001b[0m \u001b[1m0s\u001b[0m 11ms/step - accuracy: 0.6827 - loss: 0.7630\n",
      "Epoch 2: val_loss improved from 0.75920 to 0.64517, saving model to models2/dl_base.keras\n",
      "\u001b[1m580/580\u001b[0m \u001b[32m━━━━━━━━━━━━━━━━━━━━\u001b[0m\u001b[37m\u001b[0m \u001b[1m7s\u001b[0m 12ms/step - accuracy: 0.6827 - loss: 0.7629 - val_accuracy: 0.7394 - val_loss: 0.6452\n",
      "Epoch 3/100\n",
      "\u001b[1m576/580\u001b[0m \u001b[32m━━━━━━━━━━━━━━━━━━━\u001b[0m\u001b[37m━\u001b[0m \u001b[1m0s\u001b[0m 10ms/step - accuracy: 0.7174 - loss: 0.6651\n",
      "Epoch 3: val_loss improved from 0.64517 to 0.59694, saving model to models2/dl_base.keras\n",
      "\u001b[1m580/580\u001b[0m \u001b[32m━━━━━━━━━━━━━━━━━━━━\u001b[0m\u001b[37m\u001b[0m \u001b[1m10s\u001b[0m 11ms/step - accuracy: 0.7175 - loss: 0.6650 - val_accuracy: 0.7569 - val_loss: 0.5969\n",
      "Epoch 4/100\n",
      "\u001b[1m575/580\u001b[0m \u001b[32m━━━━━━━━━━━━━━━━━━━\u001b[0m\u001b[37m━\u001b[0m \u001b[1m0s\u001b[0m 10ms/step - accuracy: 0.7537 - loss: 0.6028\n",
      "Epoch 4: val_loss improved from 0.59694 to 0.53289, saving model to models2/dl_base.keras\n",
      "\u001b[1m580/580\u001b[0m \u001b[32m━━━━━━━━━━━━━━━━━━━━\u001b[0m\u001b[37m\u001b[0m \u001b[1m6s\u001b[0m 11ms/step - accuracy: 0.7538 - loss: 0.6026 - val_accuracy: 0.7915 - val_loss: 0.5329\n",
      "Epoch 5/100\n",
      "\u001b[1m578/580\u001b[0m \u001b[32m━━━━━━━━━━━━━━━━━━━\u001b[0m\u001b[37m━\u001b[0m \u001b[1m0s\u001b[0m 11ms/step - accuracy: 0.7740 - loss: 0.5548\n",
      "Epoch 5: val_loss improved from 0.53289 to 0.49312, saving model to models2/dl_base.keras\n",
      "\u001b[1m580/580\u001b[0m \u001b[32m━━━━━━━━━━━━━━━━━━━━\u001b[0m\u001b[37m\u001b[0m \u001b[1m7s\u001b[0m 11ms/step - accuracy: 0.7741 - loss: 0.5548 - val_accuracy: 0.8066 - val_loss: 0.4931\n",
      "Epoch 6/100\n",
      "\u001b[1m576/580\u001b[0m \u001b[32m━━━━━━━━━━━━━━━━━━━\u001b[0m\u001b[37m━\u001b[0m \u001b[1m0s\u001b[0m 11ms/step - accuracy: 0.7915 - loss: 0.5160\n",
      "Epoch 6: val_loss improved from 0.49312 to 0.46841, saving model to models2/dl_base.keras\n",
      "\u001b[1m580/580\u001b[0m \u001b[32m━━━━━━━━━━━━━━━━━━━━\u001b[0m\u001b[37m\u001b[0m \u001b[1m7s\u001b[0m 11ms/step - accuracy: 0.7915 - loss: 0.5160 - val_accuracy: 0.8158 - val_loss: 0.4684\n",
      "Epoch 7/100\n",
      "\u001b[1m580/580\u001b[0m \u001b[32m━━━━━━━━━━━━━━━━━━━━\u001b[0m\u001b[37m\u001b[0m \u001b[1m0s\u001b[0m 11ms/step - accuracy: 0.8024 - loss: 0.4928\n",
      "Epoch 7: val_loss improved from 0.46841 to 0.45496, saving model to models2/dl_base.keras\n",
      "\u001b[1m580/580\u001b[0m \u001b[32m━━━━━━━━━━━━━━━━━━━━\u001b[0m\u001b[37m\u001b[0m \u001b[1m7s\u001b[0m 11ms/step - accuracy: 0.8024 - loss: 0.4928 - val_accuracy: 0.8277 - val_loss: 0.4550\n",
      "Epoch 8/100\n",
      "\u001b[1m577/580\u001b[0m \u001b[32m━━━━━━━━━━━━━━━━━━━\u001b[0m\u001b[37m━\u001b[0m \u001b[1m0s\u001b[0m 11ms/step - accuracy: 0.8071 - loss: 0.4743\n",
      "Epoch 8: val_loss improved from 0.45496 to 0.43639, saving model to models2/dl_base.keras\n",
      "\u001b[1m580/580\u001b[0m \u001b[32m━━━━━━━━━━━━━━━━━━━━\u001b[0m\u001b[37m\u001b[0m \u001b[1m7s\u001b[0m 12ms/step - accuracy: 0.8071 - loss: 0.4743 - val_accuracy: 0.8399 - val_loss: 0.4364\n",
      "Epoch 9/100\n",
      "\u001b[1m578/580\u001b[0m \u001b[32m━━━━━━━━━━━━━━━━━━━\u001b[0m\u001b[37m━\u001b[0m \u001b[1m0s\u001b[0m 11ms/step - accuracy: 0.8168 - loss: 0.4620\n",
      "Epoch 9: val_loss improved from 0.43639 to 0.42092, saving model to models2/dl_base.keras\n",
      "\u001b[1m580/580\u001b[0m \u001b[32m━━━━━━━━━━━━━━━━━━━━\u001b[0m\u001b[37m\u001b[0m \u001b[1m7s\u001b[0m 12ms/step - accuracy: 0.8168 - loss: 0.4619 - val_accuracy: 0.8384 - val_loss: 0.4209\n",
      "Epoch 10/100\n",
      "\u001b[1m576/580\u001b[0m \u001b[32m━━━━━━━━━━━━━━━━━━━\u001b[0m\u001b[37m━\u001b[0m \u001b[1m0s\u001b[0m 11ms/step - accuracy: 0.8293 - loss: 0.4388\n",
      "Epoch 10: val_loss improved from 0.42092 to 0.40799, saving model to models2/dl_base.keras\n",
      "\u001b[1m580/580\u001b[0m \u001b[32m━━━━━━━━━━━━━━━━━━━━\u001b[0m\u001b[37m\u001b[0m \u001b[1m7s\u001b[0m 12ms/step - accuracy: 0.8293 - loss: 0.4389 - val_accuracy: 0.8482 - val_loss: 0.4080\n",
      "Epoch 11/100\n",
      "\u001b[1m576/580\u001b[0m \u001b[32m━━━━━━━━━━━━━━━━━━━\u001b[0m\u001b[37m━\u001b[0m \u001b[1m0s\u001b[0m 11ms/step - accuracy: 0.8302 - loss: 0.4294\n",
      "Epoch 11: val_loss improved from 0.40799 to 0.39151, saving model to models2/dl_base.keras\n",
      "\u001b[1m580/580\u001b[0m \u001b[32m━━━━━━━━━━━━━━━━━━━━\u001b[0m\u001b[37m\u001b[0m \u001b[1m7s\u001b[0m 12ms/step - accuracy: 0.8303 - loss: 0.4294 - val_accuracy: 0.8496 - val_loss: 0.3915\n",
      "Epoch 12/100\n",
      "\u001b[1m578/580\u001b[0m \u001b[32m━━━━━━━━━━━━━━━━━━━\u001b[0m\u001b[37m━\u001b[0m \u001b[1m0s\u001b[0m 12ms/step - accuracy: 0.8313 - loss: 0.4262\n",
      "Epoch 12: val_loss improved from 0.39151 to 0.38315, saving model to models2/dl_base.keras\n",
      "\u001b[1m580/580\u001b[0m \u001b[32m━━━━━━━━━━━━━━━━━━━━\u001b[0m\u001b[37m\u001b[0m \u001b[1m7s\u001b[0m 12ms/step - accuracy: 0.8313 - loss: 0.4262 - val_accuracy: 0.8598 - val_loss: 0.3832\n",
      "Epoch 13/100\n",
      "\u001b[1m576/580\u001b[0m \u001b[32m━━━━━━━━━━━━━━━━━━━\u001b[0m\u001b[37m━\u001b[0m \u001b[1m0s\u001b[0m 11ms/step - accuracy: 0.8420 - loss: 0.4104\n",
      "Epoch 13: val_loss did not improve from 0.38315\n",
      "\u001b[1m580/580\u001b[0m \u001b[32m━━━━━━━━━━━━━━━━━━━━\u001b[0m\u001b[37m\u001b[0m \u001b[1m10s\u001b[0m 12ms/step - accuracy: 0.8420 - loss: 0.4104 - val_accuracy: 0.8548 - val_loss: 0.3905\n",
      "Epoch 14/100\n",
      "\u001b[1m578/580\u001b[0m \u001b[32m━━━━━━━━━━━━━━━━━━━\u001b[0m\u001b[37m━\u001b[0m \u001b[1m0s\u001b[0m 11ms/step - accuracy: 0.8461 - loss: 0.4016\n",
      "Epoch 14: val_loss improved from 0.38315 to 0.36921, saving model to models2/dl_base.keras\n",
      "\u001b[1m580/580\u001b[0m \u001b[32m━━━━━━━━━━━━━━━━━━━━\u001b[0m\u001b[37m\u001b[0m \u001b[1m11s\u001b[0m 12ms/step - accuracy: 0.8461 - loss: 0.4015 - val_accuracy: 0.8631 - val_loss: 0.3692\n",
      "Epoch 15/100\n",
      "\u001b[1m575/580\u001b[0m \u001b[32m━━━━━━━━━━━━━━━━━━━\u001b[0m\u001b[37m━\u001b[0m \u001b[1m0s\u001b[0m 11ms/step - accuracy: 0.8494 - loss: 0.3915\n",
      "Epoch 15: val_loss improved from 0.36921 to 0.35748, saving model to models2/dl_base.keras\n",
      "\u001b[1m580/580\u001b[0m \u001b[32m━━━━━━━━━━━━━━━━━━━━\u001b[0m\u001b[37m\u001b[0m \u001b[1m7s\u001b[0m 12ms/step - accuracy: 0.8494 - loss: 0.3915 - val_accuracy: 0.8706 - val_loss: 0.3575\n",
      "Epoch 16/100\n",
      "\u001b[1m577/580\u001b[0m \u001b[32m━━━━━━━━━━━━━━━━━━━\u001b[0m\u001b[37m━\u001b[0m \u001b[1m0s\u001b[0m 11ms/step - accuracy: 0.8583 - loss: 0.3768\n",
      "Epoch 16: val_loss did not improve from 0.35748\n",
      "\u001b[1m580/580\u001b[0m \u001b[32m━━━━━━━━━━━━━━━━━━━━\u001b[0m\u001b[37m\u001b[0m \u001b[1m7s\u001b[0m 12ms/step - accuracy: 0.8583 - loss: 0.3768 - val_accuracy: 0.8671 - val_loss: 0.3627\n",
      "Epoch 17/100\n",
      "\u001b[1m579/580\u001b[0m \u001b[32m━━━━━━━━━━━━━━━━━━━\u001b[0m\u001b[37m━\u001b[0m \u001b[1m0s\u001b[0m 11ms/step - accuracy: 0.8572 - loss: 0.3769\n",
      "Epoch 17: val_loss improved from 0.35748 to 0.33787, saving model to models2/dl_base.keras\n",
      "\u001b[1m580/580\u001b[0m \u001b[32m━━━━━━━━━━━━━━━━━━━━\u001b[0m\u001b[37m\u001b[0m \u001b[1m7s\u001b[0m 12ms/step - accuracy: 0.8572 - loss: 0.3768 - val_accuracy: 0.8811 - val_loss: 0.3379\n",
      "Epoch 18/100\n",
      "\u001b[1m577/580\u001b[0m \u001b[32m━━━━━━━━━━━━━━━━━━━\u001b[0m\u001b[37m━\u001b[0m \u001b[1m0s\u001b[0m 11ms/step - accuracy: 0.8633 - loss: 0.3623\n",
      "Epoch 18: val_loss did not improve from 0.33787\n",
      "\u001b[1m580/580\u001b[0m \u001b[32m━━━━━━━━━━━━━━━━━━━━\u001b[0m\u001b[37m\u001b[0m \u001b[1m11s\u001b[0m 12ms/step - accuracy: 0.8632 - loss: 0.3623 - val_accuracy: 0.8783 - val_loss: 0.3389\n",
      "Epoch 19/100\n",
      "\u001b[1m580/580\u001b[0m \u001b[32m━━━━━━━━━━━━━━━━━━━━\u001b[0m\u001b[37m\u001b[0m \u001b[1m0s\u001b[0m 12ms/step - accuracy: 0.8635 - loss: 0.3623\n",
      "Epoch 19: val_loss improved from 0.33787 to 0.32879, saving model to models2/dl_base.keras\n",
      "\u001b[1m580/580\u001b[0m \u001b[32m━━━━━━━━━━━━━━━━━━━━\u001b[0m\u001b[37m\u001b[0m \u001b[1m7s\u001b[0m 13ms/step - accuracy: 0.8635 - loss: 0.3623 - val_accuracy: 0.8813 - val_loss: 0.3288\n",
      "Epoch 20/100\n",
      "\u001b[1m579/580\u001b[0m \u001b[32m━━━━━━━━━━━━━━━━━━━\u001b[0m\u001b[37m━\u001b[0m \u001b[1m0s\u001b[0m 10ms/step - accuracy: 0.8632 - loss: 0.3613\n",
      "Epoch 20: val_loss did not improve from 0.32879\n",
      "\u001b[1m580/580\u001b[0m \u001b[32m━━━━━━━━━━━━━━━━━━━━\u001b[0m\u001b[37m\u001b[0m \u001b[1m7s\u001b[0m 11ms/step - accuracy: 0.8632 - loss: 0.3612 - val_accuracy: 0.8785 - val_loss: 0.3357\n",
      "Epoch 21/100\n",
      "\u001b[1m577/580\u001b[0m \u001b[32m━━━━━━━━━━━━━━━━━━━\u001b[0m\u001b[37m━\u001b[0m \u001b[1m0s\u001b[0m 12ms/step - accuracy: 0.8678 - loss: 0.3481\n",
      "Epoch 21: val_loss improved from 0.32879 to 0.32238, saving model to models2/dl_base.keras\n",
      "\u001b[1m580/580\u001b[0m \u001b[32m━━━━━━━━━━━━━━━━━━━━\u001b[0m\u001b[37m\u001b[0m \u001b[1m11s\u001b[0m 13ms/step - accuracy: 0.8678 - loss: 0.3481 - val_accuracy: 0.8837 - val_loss: 0.3224\n",
      "Epoch 22/100\n",
      "\u001b[1m579/580\u001b[0m \u001b[32m━━━━━━━━━━━━━━━━━━━\u001b[0m\u001b[37m━\u001b[0m \u001b[1m0s\u001b[0m 11ms/step - accuracy: 0.8689 - loss: 0.3423\n",
      "Epoch 22: val_loss did not improve from 0.32238\n",
      "\u001b[1m580/580\u001b[0m \u001b[32m━━━━━━━━━━━━━━━━━━━━\u001b[0m\u001b[37m\u001b[0m \u001b[1m10s\u001b[0m 12ms/step - accuracy: 0.8689 - loss: 0.3423 - val_accuracy: 0.8849 - val_loss: 0.3235\n",
      "Epoch 23/100\n",
      "\u001b[1m578/580\u001b[0m \u001b[32m━━━━━━━━━━━━━━━━━━━\u001b[0m\u001b[37m━\u001b[0m \u001b[1m0s\u001b[0m 10ms/step - accuracy: 0.8700 - loss: 0.3418\n",
      "Epoch 23: val_loss improved from 0.32238 to 0.31409, saving model to models2/dl_base.keras\n",
      "\u001b[1m580/580\u001b[0m \u001b[32m━━━━━━━━━━━━━━━━━━━━\u001b[0m\u001b[37m\u001b[0m \u001b[1m6s\u001b[0m 11ms/step - accuracy: 0.8700 - loss: 0.3418 - val_accuracy: 0.8904 - val_loss: 0.3141\n",
      "Epoch 24/100\n",
      "\u001b[1m579/580\u001b[0m \u001b[32m━━━━━━━━━━━━━━━━━━━\u001b[0m\u001b[37m━\u001b[0m \u001b[1m0s\u001b[0m 9ms/step - accuracy: 0.8738 - loss: 0.3368\n",
      "Epoch 24: val_loss did not improve from 0.31409\n",
      "\u001b[1m580/580\u001b[0m \u001b[32m━━━━━━━━━━━━━━━━━━━━\u001b[0m\u001b[37m\u001b[0m \u001b[1m5s\u001b[0m 9ms/step - accuracy: 0.8738 - loss: 0.3368 - val_accuracy: 0.8789 - val_loss: 0.3184\n",
      "Epoch 25/100\n",
      "\u001b[1m578/580\u001b[0m \u001b[32m━━━━━━━━━━━━━━━━━━━\u001b[0m\u001b[37m━\u001b[0m \u001b[1m0s\u001b[0m 9ms/step - accuracy: 0.8761 - loss: 0.3314\n",
      "Epoch 25: val_loss improved from 0.31409 to 0.30954, saving model to models2/dl_base.keras\n",
      "\u001b[1m580/580\u001b[0m \u001b[32m━━━━━━━━━━━━━━━━━━━━\u001b[0m\u001b[37m\u001b[0m \u001b[1m6s\u001b[0m 10ms/step - accuracy: 0.8761 - loss: 0.3314 - val_accuracy: 0.8896 - val_loss: 0.3095\n",
      "Epoch 26/100\n",
      "\u001b[1m580/580\u001b[0m \u001b[32m━━━━━━━━━━━━━━━━━━━━\u001b[0m\u001b[37m\u001b[0m \u001b[1m0s\u001b[0m 12ms/step - accuracy: 0.8772 - loss: 0.3257\n",
      "Epoch 26: val_loss improved from 0.30954 to 0.30109, saving model to models2/dl_base.keras\n",
      "\u001b[1m580/580\u001b[0m \u001b[32m━━━━━━━━━━━━━━━━━━━━\u001b[0m\u001b[37m\u001b[0m \u001b[1m7s\u001b[0m 13ms/step - accuracy: 0.8772 - loss: 0.3257 - val_accuracy: 0.8886 - val_loss: 0.3011\n",
      "Epoch 27/100\n",
      "\u001b[1m576/580\u001b[0m \u001b[32m━━━━━━━━━━━━━━━━━━━\u001b[0m\u001b[37m━\u001b[0m \u001b[1m0s\u001b[0m 9ms/step - accuracy: 0.8796 - loss: 0.3171\n",
      "Epoch 27: val_loss improved from 0.30109 to 0.29805, saving model to models2/dl_base.keras\n",
      "\u001b[1m580/580\u001b[0m \u001b[32m━━━━━━━━━━━━━━━━━━━━\u001b[0m\u001b[37m\u001b[0m \u001b[1m6s\u001b[0m 10ms/step - accuracy: 0.8796 - loss: 0.3171 - val_accuracy: 0.8910 - val_loss: 0.2981\n",
      "Epoch 28/100\n",
      "\u001b[1m577/580\u001b[0m \u001b[32m━━━━━━━━━━━━━━━━━━━\u001b[0m\u001b[37m━\u001b[0m \u001b[1m0s\u001b[0m 8ms/step - accuracy: 0.8785 - loss: 0.3199\n",
      "Epoch 28: val_loss improved from 0.29805 to 0.29522, saving model to models2/dl_base.keras\n",
      "\u001b[1m580/580\u001b[0m \u001b[32m━━━━━━━━━━━━━━━━━━━━\u001b[0m\u001b[37m\u001b[0m \u001b[1m5s\u001b[0m 9ms/step - accuracy: 0.8785 - loss: 0.3199 - val_accuracy: 0.8949 - val_loss: 0.2952\n",
      "Epoch 29/100\n",
      "\u001b[1m576/580\u001b[0m \u001b[32m━━━━━━━━━━━━━━━━━━━\u001b[0m\u001b[37m━\u001b[0m \u001b[1m0s\u001b[0m 9ms/step - accuracy: 0.8788 - loss: 0.3190\n",
      "Epoch 29: val_loss improved from 0.29522 to 0.28899, saving model to models2/dl_base.keras\n",
      "\u001b[1m580/580\u001b[0m \u001b[32m━━━━━━━━━━━━━━━━━━━━\u001b[0m\u001b[37m\u001b[0m \u001b[1m6s\u001b[0m 10ms/step - accuracy: 0.8788 - loss: 0.3190 - val_accuracy: 0.8944 - val_loss: 0.2890\n",
      "Epoch 30/100\n",
      "\u001b[1m578/580\u001b[0m \u001b[32m━━━━━━━━━━━━━━━━━━━\u001b[0m\u001b[37m━\u001b[0m \u001b[1m0s\u001b[0m 11ms/step - accuracy: 0.8809 - loss: 0.3157\n",
      "Epoch 30: val_loss did not improve from 0.28899\n",
      "\u001b[1m580/580\u001b[0m \u001b[32m━━━━━━━━━━━━━━━━━━━━\u001b[0m\u001b[37m\u001b[0m \u001b[1m7s\u001b[0m 12ms/step - accuracy: 0.8809 - loss: 0.3157 - val_accuracy: 0.8898 - val_loss: 0.2957\n",
      "Epoch 31/100\n",
      "\u001b[1m574/580\u001b[0m \u001b[32m━━━━━━━━━━━━━━━━━━━\u001b[0m\u001b[37m━\u001b[0m \u001b[1m0s\u001b[0m 9ms/step - accuracy: 0.8850 - loss: 0.3041\n",
      "Epoch 31: val_loss did not improve from 0.28899\n",
      "\u001b[1m580/580\u001b[0m \u001b[32m━━━━━━━━━━━━━━━━━━━━\u001b[0m\u001b[37m\u001b[0m \u001b[1m5s\u001b[0m 9ms/step - accuracy: 0.8850 - loss: 0.3042 - val_accuracy: 0.8912 - val_loss: 0.2934\n",
      "Epoch 32/100\n",
      "\u001b[1m579/580\u001b[0m \u001b[32m━━━━━━━━━━━━━━━━━━━\u001b[0m\u001b[37m━\u001b[0m \u001b[1m0s\u001b[0m 8ms/step - accuracy: 0.8849 - loss: 0.3023\n",
      "Epoch 32: val_loss improved from 0.28899 to 0.28218, saving model to models2/dl_base.keras\n",
      "\u001b[1m580/580\u001b[0m \u001b[32m━━━━━━━━━━━━━━━━━━━━\u001b[0m\u001b[37m\u001b[0m \u001b[1m10s\u001b[0m 9ms/step - accuracy: 0.8849 - loss: 0.3023 - val_accuracy: 0.8990 - val_loss: 0.2822\n",
      "Epoch 33/100\n",
      "\u001b[1m576/580\u001b[0m \u001b[32m━━━━━━━━━━━━━━━━━━━\u001b[0m\u001b[37m━\u001b[0m \u001b[1m0s\u001b[0m 9ms/step - accuracy: 0.8856 - loss: 0.3018\n",
      "Epoch 33: val_loss did not improve from 0.28218\n",
      "\u001b[1m580/580\u001b[0m \u001b[32m━━━━━━━━━━━━━━━━━━━━\u001b[0m\u001b[37m\u001b[0m \u001b[1m6s\u001b[0m 9ms/step - accuracy: 0.8856 - loss: 0.3018 - val_accuracy: 0.8980 - val_loss: 0.2844\n",
      "Epoch 34/100\n",
      "\u001b[1m575/580\u001b[0m \u001b[32m━━━━━━━━━━━━━━━━━━━\u001b[0m\u001b[37m━\u001b[0m \u001b[1m0s\u001b[0m 9ms/step - accuracy: 0.8885 - loss: 0.2995\n",
      "Epoch 34: val_loss did not improve from 0.28218\n",
      "\u001b[1m580/580\u001b[0m \u001b[32m━━━━━━━━━━━━━━━━━━━━\u001b[0m\u001b[37m\u001b[0m \u001b[1m6s\u001b[0m 9ms/step - accuracy: 0.8885 - loss: 0.2995 - val_accuracy: 0.8873 - val_loss: 0.3032\n",
      "Epoch 35/100\n",
      "\u001b[1m580/580\u001b[0m \u001b[32m━━━━━━━━━━━━━━━━━━━━\u001b[0m\u001b[37m\u001b[0m \u001b[1m0s\u001b[0m 9ms/step - accuracy: 0.8863 - loss: 0.3026\n",
      "Epoch 35: val_loss improved from 0.28218 to 0.27609, saving model to models2/dl_base.keras\n",
      "\u001b[1m580/580\u001b[0m \u001b[32m━━━━━━━━━━━━━━━━━━━━\u001b[0m\u001b[37m\u001b[0m \u001b[1m6s\u001b[0m 10ms/step - accuracy: 0.8863 - loss: 0.3026 - val_accuracy: 0.9002 - val_loss: 0.2761\n",
      "Epoch 36/100\n",
      "\u001b[1m575/580\u001b[0m \u001b[32m━━━━━━━━━━━━━━━━━━━\u001b[0m\u001b[37m━\u001b[0m \u001b[1m0s\u001b[0m 9ms/step - accuracy: 0.8902 - loss: 0.2908\n",
      "Epoch 36: val_loss did not improve from 0.27609\n",
      "\u001b[1m580/580\u001b[0m \u001b[32m━━━━━━━━━━━━━━━━━━━━\u001b[0m\u001b[37m\u001b[0m \u001b[1m6s\u001b[0m 10ms/step - accuracy: 0.8902 - loss: 0.2908 - val_accuracy: 0.8950 - val_loss: 0.2828\n",
      "Epoch 37/100\n",
      "\u001b[1m575/580\u001b[0m \u001b[32m━━━━━━━━━━━━━━━━━━━\u001b[0m\u001b[37m━\u001b[0m \u001b[1m0s\u001b[0m 11ms/step - accuracy: 0.8865 - loss: 0.2965\n",
      "Epoch 37: val_loss did not improve from 0.27609\n",
      "\u001b[1m580/580\u001b[0m \u001b[32m━━━━━━━━━━━━━━━━━━━━\u001b[0m\u001b[37m\u001b[0m \u001b[1m7s\u001b[0m 12ms/step - accuracy: 0.8865 - loss: 0.2964 - val_accuracy: 0.8960 - val_loss: 0.2790\n",
      "Epoch 38/100\n",
      "\u001b[1m575/580\u001b[0m \u001b[32m━━━━━━━━━━━━━━━━━━━\u001b[0m\u001b[37m━\u001b[0m \u001b[1m0s\u001b[0m 11ms/step - accuracy: 0.8894 - loss: 0.2889\n",
      "Epoch 38: val_loss did not improve from 0.27609\n",
      "\u001b[1m580/580\u001b[0m \u001b[32m━━━━━━━━━━━━━━━━━━━━\u001b[0m\u001b[37m\u001b[0m \u001b[1m10s\u001b[0m 11ms/step - accuracy: 0.8894 - loss: 0.2889 - val_accuracy: 0.8994 - val_loss: 0.2797\n",
      "Epoch 39/100\n",
      "\u001b[1m580/580\u001b[0m \u001b[32m━━━━━━━━━━━━━━━━━━━━\u001b[0m\u001b[37m\u001b[0m \u001b[1m0s\u001b[0m 10ms/step - accuracy: 0.8920 - loss: 0.2863\n",
      "Epoch 39: val_loss improved from 0.27609 to 0.27055, saving model to models2/dl_base.keras\n",
      "\u001b[1m580/580\u001b[0m \u001b[32m━━━━━━━━━━━━━━━━━━━━\u001b[0m\u001b[37m\u001b[0m \u001b[1m7s\u001b[0m 12ms/step - accuracy: 0.8920 - loss: 0.2863 - val_accuracy: 0.8996 - val_loss: 0.2705\n",
      "Epoch 40/100\n",
      "\u001b[1m579/580\u001b[0m \u001b[32m━━━━━━━━━━━━━━━━━━━\u001b[0m\u001b[37m━\u001b[0m \u001b[1m0s\u001b[0m 12ms/step - accuracy: 0.8918 - loss: 0.2860\n",
      "Epoch 40: val_loss did not improve from 0.27055\n",
      "\u001b[1m580/580\u001b[0m \u001b[32m━━━━━━━━━━━━━━━━━━━━\u001b[0m\u001b[37m\u001b[0m \u001b[1m7s\u001b[0m 12ms/step - accuracy: 0.8918 - loss: 0.2860 - val_accuracy: 0.8978 - val_loss: 0.2767\n",
      "Epoch 41/100\n",
      "\u001b[1m579/580\u001b[0m \u001b[32m━━━━━━━━━━━━━━━━━━━\u001b[0m\u001b[37m━\u001b[0m \u001b[1m0s\u001b[0m 11ms/step - accuracy: 0.8960 - loss: 0.2803\n",
      "Epoch 41: val_loss improved from 0.27055 to 0.26102, saving model to models2/dl_base.keras\n",
      "\u001b[1m580/580\u001b[0m \u001b[32m━━━━━━━━━━━━━━━━━━━━\u001b[0m\u001b[37m\u001b[0m \u001b[1m7s\u001b[0m 11ms/step - accuracy: 0.8960 - loss: 0.2803 - val_accuracy: 0.9066 - val_loss: 0.2610\n",
      "Epoch 42/100\n",
      "\u001b[1m580/580\u001b[0m \u001b[32m━━━━━━━━━━━━━━━━━━━━\u001b[0m\u001b[37m\u001b[0m \u001b[1m0s\u001b[0m 11ms/step - accuracy: 0.8918 - loss: 0.2823\n",
      "Epoch 42: val_loss improved from 0.26102 to 0.26094, saving model to models2/dl_base.keras\n",
      "\u001b[1m580/580\u001b[0m \u001b[32m━━━━━━━━━━━━━━━━━━━━\u001b[0m\u001b[37m\u001b[0m \u001b[1m7s\u001b[0m 12ms/step - accuracy: 0.8918 - loss: 0.2823 - val_accuracy: 0.9056 - val_loss: 0.2609\n",
      "Epoch 43/100\n",
      "\u001b[1m577/580\u001b[0m \u001b[32m━━━━━━━━━━━━━━━━━━━\u001b[0m\u001b[37m━\u001b[0m \u001b[1m0s\u001b[0m 11ms/step - accuracy: 0.8956 - loss: 0.2764\n",
      "Epoch 43: val_loss did not improve from 0.26094\n",
      "\u001b[1m580/580\u001b[0m \u001b[32m━━━━━━━━━━━━━━━━━━━━\u001b[0m\u001b[37m\u001b[0m \u001b[1m10s\u001b[0m 12ms/step - accuracy: 0.8956 - loss: 0.2764 - val_accuracy: 0.9013 - val_loss: 0.2660\n",
      "Epoch 44/100\n",
      "\u001b[1m575/580\u001b[0m \u001b[32m━━━━━━━━━━━━━━━━━━━\u001b[0m\u001b[37m━\u001b[0m \u001b[1m0s\u001b[0m 11ms/step - accuracy: 0.8964 - loss: 0.2733\n",
      "Epoch 44: val_loss improved from 0.26094 to 0.25762, saving model to models2/dl_base.keras\n",
      "\u001b[1m580/580\u001b[0m \u001b[32m━━━━━━━━━━━━━━━━━━━━\u001b[0m\u001b[37m\u001b[0m \u001b[1m11s\u001b[0m 12ms/step - accuracy: 0.8964 - loss: 0.2733 - val_accuracy: 0.9083 - val_loss: 0.2576\n",
      "Epoch 45/100\n",
      "\u001b[1m576/580\u001b[0m \u001b[32m━━━━━━━━━━━━━━━━━━━\u001b[0m\u001b[37m━\u001b[0m \u001b[1m0s\u001b[0m 10ms/step - accuracy: 0.8939 - loss: 0.2763\n",
      "Epoch 45: val_loss improved from 0.25762 to 0.25734, saving model to models2/dl_base.keras\n",
      "\u001b[1m580/580\u001b[0m \u001b[32m━━━━━━━━━━━━━━━━━━━━\u001b[0m\u001b[37m\u001b[0m \u001b[1m6s\u001b[0m 11ms/step - accuracy: 0.8939 - loss: 0.2763 - val_accuracy: 0.9078 - val_loss: 0.2573\n",
      "Epoch 46/100\n",
      "\u001b[1m579/580\u001b[0m \u001b[32m━━━━━━━━━━━━━━━━━━━\u001b[0m\u001b[37m━\u001b[0m \u001b[1m0s\u001b[0m 13ms/step - accuracy: 0.8950 - loss: 0.2743\n",
      "Epoch 46: val_loss did not improve from 0.25734\n",
      "\u001b[1m580/580\u001b[0m \u001b[32m━━━━━━━━━━━━━━━━━━━━\u001b[0m\u001b[37m\u001b[0m \u001b[1m8s\u001b[0m 14ms/step - accuracy: 0.8950 - loss: 0.2743 - val_accuracy: 0.9073 - val_loss: 0.2589\n",
      "Epoch 47/100\n",
      "\u001b[1m577/580\u001b[0m \u001b[32m━━━━━━━━━━━━━━━━━━━\u001b[0m\u001b[37m━\u001b[0m \u001b[1m0s\u001b[0m 12ms/step - accuracy: 0.8978 - loss: 0.2704\n",
      "Epoch 47: val_loss improved from 0.25734 to 0.25457, saving model to models2/dl_base.keras\n",
      "\u001b[1m580/580\u001b[0m \u001b[32m━━━━━━━━━━━━━━━━━━━━\u001b[0m\u001b[37m\u001b[0m \u001b[1m7s\u001b[0m 13ms/step - accuracy: 0.8978 - loss: 0.2704 - val_accuracy: 0.9097 - val_loss: 0.2546\n",
      "Epoch 48/100\n",
      "\u001b[1m579/580\u001b[0m \u001b[32m━━━━━━━━━━━━━━━━━━━\u001b[0m\u001b[37m━\u001b[0m \u001b[1m0s\u001b[0m 11ms/step - accuracy: 0.9006 - loss: 0.2644\n",
      "Epoch 48: val_loss improved from 0.25457 to 0.25360, saving model to models2/dl_base.keras\n",
      "\u001b[1m580/580\u001b[0m \u001b[32m━━━━━━━━━━━━━━━━━━━━\u001b[0m\u001b[37m\u001b[0m \u001b[1m7s\u001b[0m 12ms/step - accuracy: 0.9006 - loss: 0.2644 - val_accuracy: 0.9083 - val_loss: 0.2536\n",
      "Epoch 49/100\n",
      "\u001b[1m574/580\u001b[0m \u001b[32m━━━━━━━━━━━━━━━━━━━\u001b[0m\u001b[37m━\u001b[0m \u001b[1m0s\u001b[0m 9ms/step - accuracy: 0.8997 - loss: 0.2668\n",
      "Epoch 49: val_loss improved from 0.25360 to 0.25231, saving model to models2/dl_base.keras\n",
      "\u001b[1m580/580\u001b[0m \u001b[32m━━━━━━━━━━━━━━━━━━━━\u001b[0m\u001b[37m\u001b[0m \u001b[1m9s\u001b[0m 9ms/step - accuracy: 0.8997 - loss: 0.2668 - val_accuracy: 0.9105 - val_loss: 0.2523\n",
      "Epoch 50/100\n",
      "\u001b[1m576/580\u001b[0m \u001b[32m━━━━━━━━━━━━━━━━━━━\u001b[0m\u001b[37m━\u001b[0m \u001b[1m0s\u001b[0m 8ms/step - accuracy: 0.8988 - loss: 0.2664\n",
      "Epoch 50: val_loss did not improve from 0.25231\n",
      "\u001b[1m580/580\u001b[0m \u001b[32m━━━━━━━━━━━━━━━━━━━━\u001b[0m\u001b[37m\u001b[0m \u001b[1m5s\u001b[0m 9ms/step - accuracy: 0.8988 - loss: 0.2664 - val_accuracy: 0.9089 - val_loss: 0.2529\n",
      "Epoch 51/100\n",
      "\u001b[1m577/580\u001b[0m \u001b[32m━━━━━━━━━━━━━━━━━━━\u001b[0m\u001b[37m━\u001b[0m \u001b[1m0s\u001b[0m 12ms/step - accuracy: 0.9025 - loss: 0.2596\n",
      "Epoch 51: val_loss improved from 0.25231 to 0.24792, saving model to models2/dl_base.keras\n",
      "\u001b[1m580/580\u001b[0m \u001b[32m━━━━━━━━━━━━━━━━━━━━\u001b[0m\u001b[37m\u001b[0m \u001b[1m8s\u001b[0m 13ms/step - accuracy: 0.9025 - loss: 0.2596 - val_accuracy: 0.9086 - val_loss: 0.2479\n",
      "Epoch 52/100\n",
      "\u001b[1m580/580\u001b[0m \u001b[32m━━━━━━━━━━━━━━━━━━━━\u001b[0m\u001b[37m\u001b[0m \u001b[1m0s\u001b[0m 10ms/step - accuracy: 0.9034 - loss: 0.2616\n",
      "Epoch 52: val_loss improved from 0.24792 to 0.24534, saving model to models2/dl_base.keras\n",
      "\u001b[1m580/580\u001b[0m \u001b[32m━━━━━━━━━━━━━━━━━━━━\u001b[0m\u001b[37m\u001b[0m \u001b[1m6s\u001b[0m 10ms/step - accuracy: 0.9034 - loss: 0.2616 - val_accuracy: 0.9139 - val_loss: 0.2453\n",
      "Epoch 53/100\n",
      "\u001b[1m575/580\u001b[0m \u001b[32m━━━━━━━━━━━━━━━━━━━\u001b[0m\u001b[37m━\u001b[0m \u001b[1m0s\u001b[0m 9ms/step - accuracy: 0.9007 - loss: 0.2584\n",
      "Epoch 53: val_loss did not improve from 0.24534\n",
      "\u001b[1m580/580\u001b[0m \u001b[32m━━━━━━━━━━━━━━━━━━━━\u001b[0m\u001b[37m\u001b[0m \u001b[1m6s\u001b[0m 10ms/step - accuracy: 0.9008 - loss: 0.2584 - val_accuracy: 0.9072 - val_loss: 0.2541\n",
      "Epoch 54/100\n",
      "\u001b[1m578/580\u001b[0m \u001b[32m━━━━━━━━━━━━━━━━━━━\u001b[0m\u001b[37m━\u001b[0m \u001b[1m0s\u001b[0m 9ms/step - accuracy: 0.9020 - loss: 0.2622\n",
      "Epoch 54: val_loss improved from 0.24534 to 0.23897, saving model to models2/dl_base.keras\n",
      "\u001b[1m580/580\u001b[0m \u001b[32m━━━━━━━━━━━━━━━━━━━━\u001b[0m\u001b[37m\u001b[0m \u001b[1m6s\u001b[0m 10ms/step - accuracy: 0.9020 - loss: 0.2621 - val_accuracy: 0.9151 - val_loss: 0.2390\n",
      "Epoch 55/100\n",
      "\u001b[1m576/580\u001b[0m \u001b[32m━━━━━━━━━━━━━━━━━━━\u001b[0m\u001b[37m━\u001b[0m \u001b[1m0s\u001b[0m 9ms/step - accuracy: 0.9044 - loss: 0.2565\n",
      "Epoch 55: val_loss did not improve from 0.23897\n",
      "\u001b[1m580/580\u001b[0m \u001b[32m━━━━━━━━━━━━━━━━━━━━\u001b[0m\u001b[37m\u001b[0m \u001b[1m6s\u001b[0m 10ms/step - accuracy: 0.9044 - loss: 0.2565 - val_accuracy: 0.9131 - val_loss: 0.2436\n",
      "Epoch 56/100\n",
      "\u001b[1m580/580\u001b[0m \u001b[32m━━━━━━━━━━━━━━━━━━━━\u001b[0m\u001b[37m\u001b[0m \u001b[1m0s\u001b[0m 11ms/step - accuracy: 0.9022 - loss: 0.2585\n",
      "Epoch 56: val_loss did not improve from 0.23897\n",
      "\u001b[1m580/580\u001b[0m \u001b[32m━━━━━━━━━━━━━━━━━━━━\u001b[0m\u001b[37m\u001b[0m \u001b[1m7s\u001b[0m 12ms/step - accuracy: 0.9022 - loss: 0.2585 - val_accuracy: 0.9104 - val_loss: 0.2441\n",
      "Epoch 57/100\n",
      "\u001b[1m578/580\u001b[0m \u001b[32m━━━━━━━━━━━━━━━━━━━\u001b[0m\u001b[37m━\u001b[0m \u001b[1m0s\u001b[0m 11ms/step - accuracy: 0.9072 - loss: 0.2544\n",
      "Epoch 57: val_loss improved from 0.23897 to 0.23698, saving model to models2/dl_base.keras\n",
      "\u001b[1m580/580\u001b[0m \u001b[32m━━━━━━━━━━━━━━━━━━━━\u001b[0m\u001b[37m\u001b[0m \u001b[1m7s\u001b[0m 12ms/step - accuracy: 0.9072 - loss: 0.2544 - val_accuracy: 0.9149 - val_loss: 0.2370\n",
      "Epoch 58/100\n",
      "\u001b[1m578/580\u001b[0m \u001b[32m━━━━━━━━━━━━━━━━━━━\u001b[0m\u001b[37m━\u001b[0m \u001b[1m0s\u001b[0m 11ms/step - accuracy: 0.9083 - loss: 0.2462\n",
      "Epoch 58: val_loss improved from 0.23698 to 0.23464, saving model to models2/dl_base.keras\n",
      "\u001b[1m580/580\u001b[0m \u001b[32m━━━━━━━━━━━━━━━━━━━━\u001b[0m\u001b[37m\u001b[0m \u001b[1m7s\u001b[0m 11ms/step - accuracy: 0.9083 - loss: 0.2462 - val_accuracy: 0.9190 - val_loss: 0.2346\n",
      "Epoch 59/100\n",
      "\u001b[1m576/580\u001b[0m \u001b[32m━━━━━━━━━━━━━━━━━━━\u001b[0m\u001b[37m━\u001b[0m \u001b[1m0s\u001b[0m 11ms/step - accuracy: 0.9066 - loss: 0.2522\n",
      "Epoch 59: val_loss improved from 0.23464 to 0.23172, saving model to models2/dl_base.keras\n",
      "\u001b[1m580/580\u001b[0m \u001b[32m━━━━━━━━━━━━━━━━━━━━\u001b[0m\u001b[37m\u001b[0m \u001b[1m7s\u001b[0m 12ms/step - accuracy: 0.9066 - loss: 0.2522 - val_accuracy: 0.9184 - val_loss: 0.2317\n",
      "Epoch 60/100\n",
      "\u001b[1m579/580\u001b[0m \u001b[32m━━━━━━━━━━━━━━━━━━━\u001b[0m\u001b[37m━\u001b[0m \u001b[1m0s\u001b[0m 10ms/step - accuracy: 0.9064 - loss: 0.2510\n",
      "Epoch 60: val_loss did not improve from 0.23172\n",
      "\u001b[1m580/580\u001b[0m \u001b[32m━━━━━━━━━━━━━━━━━━━━\u001b[0m\u001b[37m\u001b[0m \u001b[1m6s\u001b[0m 11ms/step - accuracy: 0.9064 - loss: 0.2510 - val_accuracy: 0.9007 - val_loss: 0.2616\n",
      "Epoch 61/100\n",
      "\u001b[1m576/580\u001b[0m \u001b[32m━━━━━━━━━━━━━━━━━━━\u001b[0m\u001b[37m━\u001b[0m \u001b[1m0s\u001b[0m 11ms/step - accuracy: 0.9095 - loss: 0.2445\n",
      "Epoch 61: val_loss did not improve from 0.23172\n",
      "\u001b[1m580/580\u001b[0m \u001b[32m━━━━━━━━━━━━━━━━━━━━\u001b[0m\u001b[37m\u001b[0m \u001b[1m7s\u001b[0m 11ms/step - accuracy: 0.9095 - loss: 0.2445 - val_accuracy: 0.9174 - val_loss: 0.2354\n",
      "Epoch 62/100\n",
      "\u001b[1m578/580\u001b[0m \u001b[32m━━━━━━━━━━━━━━━━━━━\u001b[0m\u001b[37m━\u001b[0m \u001b[1m0s\u001b[0m 11ms/step - accuracy: 0.9093 - loss: 0.2438\n",
      "Epoch 62: val_loss improved from 0.23172 to 0.22828, saving model to models2/dl_base.keras\n",
      "\u001b[1m580/580\u001b[0m \u001b[32m━━━━━━━━━━━━━━━━━━━━\u001b[0m\u001b[37m\u001b[0m \u001b[1m7s\u001b[0m 12ms/step - accuracy: 0.9093 - loss: 0.2438 - val_accuracy: 0.9213 - val_loss: 0.2283\n",
      "Epoch 63/100\n",
      "\u001b[1m577/580\u001b[0m \u001b[32m━━━━━━━━━━━━━━━━━━━\u001b[0m\u001b[37m━\u001b[0m \u001b[1m0s\u001b[0m 10ms/step - accuracy: 0.9106 - loss: 0.2386\n",
      "Epoch 63: val_loss did not improve from 0.22828\n",
      "\u001b[1m580/580\u001b[0m \u001b[32m━━━━━━━━━━━━━━━━━━━━\u001b[0m\u001b[37m\u001b[0m \u001b[1m6s\u001b[0m 10ms/step - accuracy: 0.9106 - loss: 0.2386 - val_accuracy: 0.9163 - val_loss: 0.2358\n",
      "Epoch 64/100\n",
      "\u001b[1m575/580\u001b[0m \u001b[32m━━━━━━━━━━━━━━━━━━━\u001b[0m\u001b[37m━\u001b[0m \u001b[1m0s\u001b[0m 11ms/step - accuracy: 0.9106 - loss: 0.2413\n",
      "Epoch 64: val_loss improved from 0.22828 to 0.22766, saving model to models2/dl_base.keras\n",
      "\u001b[1m580/580\u001b[0m \u001b[32m━━━━━━━━━━━━━━━━━━━━\u001b[0m\u001b[37m\u001b[0m \u001b[1m7s\u001b[0m 11ms/step - accuracy: 0.9106 - loss: 0.2412 - val_accuracy: 0.9198 - val_loss: 0.2277\n",
      "Epoch 65/100\n",
      "\u001b[1m580/580\u001b[0m \u001b[32m━━━━━━━━━━━━━━━━━━━━\u001b[0m\u001b[37m\u001b[0m \u001b[1m0s\u001b[0m 10ms/step - accuracy: 0.9129 - loss: 0.2412\n",
      "Epoch 65: val_loss did not improve from 0.22766\n",
      "\u001b[1m580/580\u001b[0m \u001b[32m━━━━━━━━━━━━━━━━━━━━\u001b[0m\u001b[37m\u001b[0m \u001b[1m10s\u001b[0m 11ms/step - accuracy: 0.9129 - loss: 0.2412 - val_accuracy: 0.9207 - val_loss: 0.2311\n",
      "Epoch 66/100\n",
      "\u001b[1m576/580\u001b[0m \u001b[32m━━━━━━━━━━━━━━━━━━━\u001b[0m\u001b[37m━\u001b[0m \u001b[1m0s\u001b[0m 11ms/step - accuracy: 0.9131 - loss: 0.2366\n",
      "Epoch 66: val_loss improved from 0.22766 to 0.22231, saving model to models2/dl_base.keras\n",
      "\u001b[1m580/580\u001b[0m \u001b[32m━━━━━━━━━━━━━━━━━━━━\u001b[0m\u001b[37m\u001b[0m \u001b[1m7s\u001b[0m 12ms/step - accuracy: 0.9131 - loss: 0.2366 - val_accuracy: 0.9213 - val_loss: 0.2223\n",
      "Epoch 67/100\n",
      "\u001b[1m579/580\u001b[0m \u001b[32m━━━━━━━━━━━━━━━━━━━\u001b[0m\u001b[37m━\u001b[0m \u001b[1m0s\u001b[0m 10ms/step - accuracy: 0.9122 - loss: 0.2351\n",
      "Epoch 67: val_loss did not improve from 0.22231\n",
      "\u001b[1m580/580\u001b[0m \u001b[32m━━━━━━━━━━━━━━━━━━━━\u001b[0m\u001b[37m\u001b[0m \u001b[1m6s\u001b[0m 11ms/step - accuracy: 0.9122 - loss: 0.2351 - val_accuracy: 0.9227 - val_loss: 0.2262\n",
      "Epoch 68/100\n",
      "\u001b[1m578/580\u001b[0m \u001b[32m━━━━━━━━━━━━━━━━━━━\u001b[0m\u001b[37m━\u001b[0m \u001b[1m0s\u001b[0m 11ms/step - accuracy: 0.9156 - loss: 0.2356\n",
      "Epoch 68: val_loss did not improve from 0.22231\n",
      "\u001b[1m580/580\u001b[0m \u001b[32m━━━━━━━━━━━━━━━━━━━━\u001b[0m\u001b[37m\u001b[0m \u001b[1m7s\u001b[0m 12ms/step - accuracy: 0.9156 - loss: 0.2356 - val_accuracy: 0.9219 - val_loss: 0.2265\n",
      "Epoch 69/100\n",
      "\u001b[1m577/580\u001b[0m \u001b[32m━━━━━━━━━━━━━━━━━━━\u001b[0m\u001b[37m━\u001b[0m \u001b[1m0s\u001b[0m 10ms/step - accuracy: 0.9123 - loss: 0.2359\n",
      "Epoch 69: val_loss improved from 0.22231 to 0.22175, saving model to models2/dl_base.keras\n",
      "\u001b[1m580/580\u001b[0m \u001b[32m━━━━━━━━━━━━━━━━━━━━\u001b[0m\u001b[37m\u001b[0m \u001b[1m7s\u001b[0m 11ms/step - accuracy: 0.9123 - loss: 0.2359 - val_accuracy: 0.9247 - val_loss: 0.2218\n",
      "Epoch 70/100\n",
      "\u001b[1m575/580\u001b[0m \u001b[32m━━━━━━━━━━━━━━━━━━━\u001b[0m\u001b[37m━\u001b[0m \u001b[1m0s\u001b[0m 11ms/step - accuracy: 0.9153 - loss: 0.2308\n",
      "Epoch 70: val_loss improved from 0.22175 to 0.21725, saving model to models2/dl_base.keras\n",
      "\u001b[1m580/580\u001b[0m \u001b[32m━━━━━━━━━━━━━━━━━━━━\u001b[0m\u001b[37m\u001b[0m \u001b[1m10s\u001b[0m 11ms/step - accuracy: 0.9153 - loss: 0.2309 - val_accuracy: 0.9269 - val_loss: 0.2173\n",
      "Epoch 71/100\n",
      "\u001b[1m575/580\u001b[0m \u001b[32m━━━━━━━━━━━━━━━━━━━\u001b[0m\u001b[37m━\u001b[0m \u001b[1m0s\u001b[0m 11ms/step - accuracy: 0.9116 - loss: 0.2368\n",
      "Epoch 71: val_loss did not improve from 0.21725\n",
      "\u001b[1m580/580\u001b[0m \u001b[32m━━━━━━━━━━━━━━━━━━━━\u001b[0m\u001b[37m\u001b[0m \u001b[1m7s\u001b[0m 12ms/step - accuracy: 0.9116 - loss: 0.2367 - val_accuracy: 0.9259 - val_loss: 0.2211\n",
      "Epoch 72/100\n",
      "\u001b[1m575/580\u001b[0m \u001b[32m━━━━━━━━━━━━━━━━━━━\u001b[0m\u001b[37m━\u001b[0m \u001b[1m0s\u001b[0m 11ms/step - accuracy: 0.9139 - loss: 0.2319\n",
      "Epoch 72: val_loss did not improve from 0.21725\n",
      "\u001b[1m580/580\u001b[0m \u001b[32m━━━━━━━━━━━━━━━━━━━━\u001b[0m\u001b[37m\u001b[0m \u001b[1m7s\u001b[0m 11ms/step - accuracy: 0.9140 - loss: 0.2319 - val_accuracy: 0.9225 - val_loss: 0.2205\n",
      "Epoch 73/100\n",
      "\u001b[1m580/580\u001b[0m \u001b[32m━━━━━━━━━━━━━━━━━━━━\u001b[0m\u001b[37m\u001b[0m \u001b[1m0s\u001b[0m 11ms/step - accuracy: 0.9170 - loss: 0.2278\n",
      "Epoch 73: val_loss did not improve from 0.21725\n",
      "\u001b[1m580/580\u001b[0m \u001b[32m━━━━━━━━━━━━━━━━━━━━\u001b[0m\u001b[37m\u001b[0m \u001b[1m7s\u001b[0m 11ms/step - accuracy: 0.9170 - loss: 0.2278 - val_accuracy: 0.9245 - val_loss: 0.2186\n",
      "Epoch 74/100\n",
      "\u001b[1m577/580\u001b[0m \u001b[32m━━━━━━━━━━━━━━━━━━━\u001b[0m\u001b[37m━\u001b[0m \u001b[1m0s\u001b[0m 11ms/step - accuracy: 0.9170 - loss: 0.2268\n",
      "Epoch 74: val_loss did not improve from 0.21725\n",
      "\u001b[1m580/580\u001b[0m \u001b[32m━━━━━━━━━━━━━━━━━━━━\u001b[0m\u001b[37m\u001b[0m \u001b[1m7s\u001b[0m 12ms/step - accuracy: 0.9169 - loss: 0.2268 - val_accuracy: 0.9257 - val_loss: 0.2188\n",
      "Epoch 75/100\n",
      "\u001b[1m580/580\u001b[0m \u001b[32m━━━━━━━━━━━━━━━━━━━━\u001b[0m\u001b[37m\u001b[0m \u001b[1m0s\u001b[0m 11ms/step - accuracy: 0.9149 - loss: 0.2295\n",
      "Epoch 75: val_loss improved from 0.21725 to 0.21326, saving model to models2/dl_base.keras\n",
      "\u001b[1m580/580\u001b[0m \u001b[32m━━━━━━━━━━━━━━━━━━━━\u001b[0m\u001b[37m\u001b[0m \u001b[1m7s\u001b[0m 12ms/step - accuracy: 0.9149 - loss: 0.2295 - val_accuracy: 0.9283 - val_loss: 0.2133\n",
      "Epoch 76/100\n",
      "\u001b[1m575/580\u001b[0m \u001b[32m━━━━━━━━━━━━━━━━━━━\u001b[0m\u001b[37m━\u001b[0m \u001b[1m0s\u001b[0m 11ms/step - accuracy: 0.9175 - loss: 0.2263\n",
      "Epoch 76: val_loss did not improve from 0.21326\n",
      "\u001b[1m580/580\u001b[0m \u001b[32m━━━━━━━━━━━━━━━━━━━━\u001b[0m\u001b[37m\u001b[0m \u001b[1m7s\u001b[0m 12ms/step - accuracy: 0.9175 - loss: 0.2263 - val_accuracy: 0.9232 - val_loss: 0.2227\n",
      "Epoch 77/100\n",
      "\u001b[1m575/580\u001b[0m \u001b[32m━━━━━━━━━━━━━━━━━━━\u001b[0m\u001b[37m━\u001b[0m \u001b[1m0s\u001b[0m 11ms/step - accuracy: 0.9154 - loss: 0.2299\n",
      "Epoch 77: val_loss did not improve from 0.21326\n",
      "\u001b[1m580/580\u001b[0m \u001b[32m━━━━━━━━━━━━━━━━━━━━\u001b[0m\u001b[37m\u001b[0m \u001b[1m10s\u001b[0m 12ms/step - accuracy: 0.9154 - loss: 0.2299 - val_accuracy: 0.9249 - val_loss: 0.2244\n",
      "Epoch 78/100\n",
      "\u001b[1m579/580\u001b[0m \u001b[32m━━━━━━━━━━━━━━━━━━━\u001b[0m\u001b[37m━\u001b[0m \u001b[1m0s\u001b[0m 11ms/step - accuracy: 0.9167 - loss: 0.2258\n",
      "Epoch 78: val_loss did not improve from 0.21326\n",
      "\u001b[1m580/580\u001b[0m \u001b[32m━━━━━━━━━━━━━━━━━━━━\u001b[0m\u001b[37m\u001b[0m \u001b[1m7s\u001b[0m 11ms/step - accuracy: 0.9167 - loss: 0.2258 - val_accuracy: 0.9288 - val_loss: 0.2152\n",
      "Epoch 79/100\n",
      "\u001b[1m579/580\u001b[0m \u001b[32m━━━━━━━━━━━━━━━━━━━\u001b[0m\u001b[37m━\u001b[0m \u001b[1m0s\u001b[0m 11ms/step - accuracy: 0.9174 - loss: 0.2258\n",
      "Epoch 79: val_loss did not improve from 0.21326\n",
      "\u001b[1m580/580\u001b[0m \u001b[32m━━━━━━━━━━━━━━━━━━━━\u001b[0m\u001b[37m\u001b[0m \u001b[1m7s\u001b[0m 11ms/step - accuracy: 0.9174 - loss: 0.2258 - val_accuracy: 0.9250 - val_loss: 0.2167\n",
      "Epoch 80/100\n",
      "\u001b[1m577/580\u001b[0m \u001b[32m━━━━━━━━━━━━━━━━━━━\u001b[0m\u001b[37m━\u001b[0m \u001b[1m0s\u001b[0m 11ms/step - accuracy: 0.9176 - loss: 0.2235\n",
      "Epoch 80: val_loss improved from 0.21326 to 0.20981, saving model to models2/dl_base.keras\n",
      "\u001b[1m580/580\u001b[0m \u001b[32m━━━━━━━━━━━━━━━━━━━━\u001b[0m\u001b[37m\u001b[0m \u001b[1m11s\u001b[0m 12ms/step - accuracy: 0.9176 - loss: 0.2235 - val_accuracy: 0.9303 - val_loss: 0.2098\n",
      "Epoch 81/100\n",
      "\u001b[1m579/580\u001b[0m \u001b[32m━━━━━━━━━━━━━━━━━━━\u001b[0m\u001b[37m━\u001b[0m \u001b[1m0s\u001b[0m 11ms/step - accuracy: 0.9167 - loss: 0.2264\n",
      "Epoch 81: val_loss did not improve from 0.20981\n",
      "\u001b[1m580/580\u001b[0m \u001b[32m━━━━━━━━━━━━━━━━━━━━\u001b[0m\u001b[37m\u001b[0m \u001b[1m7s\u001b[0m 11ms/step - accuracy: 0.9167 - loss: 0.2264 - val_accuracy: 0.9206 - val_loss: 0.2293\n",
      "Epoch 82/100\n",
      "\u001b[1m576/580\u001b[0m \u001b[32m━━━━━━━━━━━━━━━━━━━\u001b[0m\u001b[37m━\u001b[0m \u001b[1m0s\u001b[0m 11ms/step - accuracy: 0.9184 - loss: 0.2242\n",
      "Epoch 82: val_loss did not improve from 0.20981\n",
      "\u001b[1m580/580\u001b[0m \u001b[32m━━━━━━━━━━━━━━━━━━━━\u001b[0m\u001b[37m\u001b[0m \u001b[1m7s\u001b[0m 12ms/step - accuracy: 0.9184 - loss: 0.2242 - val_accuracy: 0.9178 - val_loss: 0.2277\n",
      "Epoch 83/100\n",
      "\u001b[1m579/580\u001b[0m \u001b[32m━━━━━━━━━━━━━━━━━━━\u001b[0m\u001b[37m━\u001b[0m \u001b[1m0s\u001b[0m 11ms/step - accuracy: 0.9192 - loss: 0.2231\n",
      "Epoch 83: val_loss did not improve from 0.20981\n",
      "\u001b[1m580/580\u001b[0m \u001b[32m━━━━━━━━━━━━━━━━━━━━\u001b[0m\u001b[37m\u001b[0m \u001b[1m7s\u001b[0m 12ms/step - accuracy: 0.9192 - loss: 0.2231 - val_accuracy: 0.9280 - val_loss: 0.2117\n",
      "Epoch 84/100\n",
      "\u001b[1m579/580\u001b[0m \u001b[32m━━━━━━━━━━━━━━━━━━━\u001b[0m\u001b[37m━\u001b[0m \u001b[1m0s\u001b[0m 11ms/step - accuracy: 0.9194 - loss: 0.2205\n",
      "Epoch 84: val_loss did not improve from 0.20981\n",
      "\u001b[1m580/580\u001b[0m \u001b[32m━━━━━━━━━━━━━━━━━━━━\u001b[0m\u001b[37m\u001b[0m \u001b[1m7s\u001b[0m 12ms/step - accuracy: 0.9194 - loss: 0.2205 - val_accuracy: 0.9272 - val_loss: 0.2145\n",
      "Epoch 85/100\n",
      "\u001b[1m576/580\u001b[0m \u001b[32m━━━━━━━━━━━━━━━━━━━\u001b[0m\u001b[37m━\u001b[0m \u001b[1m0s\u001b[0m 11ms/step - accuracy: 0.9170 - loss: 0.2249\n",
      "Epoch 85: val_loss did not improve from 0.20981\n",
      "\u001b[1m580/580\u001b[0m \u001b[32m━━━━━━━━━━━━━━━━━━━━\u001b[0m\u001b[37m\u001b[0m \u001b[1m7s\u001b[0m 12ms/step - accuracy: 0.9170 - loss: 0.2249 - val_accuracy: 0.9250 - val_loss: 0.2198\n",
      "Epoch 85: early stopping\n",
      "Restoring model weights from the end of the best epoch: 80.\n",
      "Test Accuracy: 0.9303\n"
     ]
    }
   ],
   "source": [
    "import tensorflow as tf\n",
    "from tensorflow import keras\n",
    "from tensorflow.keras import layers\n",
    "\n",
    "# Inputs\n",
    "inputs = keras.Input(shape=(x_train.shape[1],))\n",
    "\n",
    "# Project numerical + categorical features\n",
    "x = layers.Dense(64, activation=\"relu\")(inputs)\n",
    "\n",
    "# Transformer block\n",
    "attn_output = layers.MultiHeadAttention(num_heads=8, key_dim=32)(x[:, None, :], x[:, None, :])\n",
    "x = layers.Add()([x[:, None, :], attn_output])\n",
    "x = layers.LayerNormalization()(x)\n",
    "\n",
    "# Flatten and dense\n",
    "x = layers.Flatten()(x)\n",
    "x = layers.Dense(128, activation=\"relu\")(x)\n",
    "x = layers.Dropout(0.3)(x)\n",
    "outputs = layers.Dense(len(np.unique(y_train)), activation=\"softmax\")(x)\n",
    "\n",
    "# Model\n",
    "model = keras.Model(inputs, outputs)\n",
    "\n",
    "model.compile(\n",
    "    optimizer=keras.optimizers.Adam(1e-4),\n",
    "    loss=\"sparse_categorical_crossentropy\",\n",
    "    metrics=[\"accuracy\"]\n",
    ")\n",
    "\n",
    "from tensorflow.keras.callbacks import EarlyStopping, ModelCheckpoint\n",
    "\n",
    "checkpoint = ModelCheckpoint(\n",
    "    filepath=\"models2/dl_base.keras\",   \n",
    "    monitor=\"val_loss\",         \n",
    "    save_best_only=True,        \n",
    "    verbose=1\n",
    ")\n",
    "\n",
    "early_stop = EarlyStopping(\n",
    "    monitor=\"val_loss\", \n",
    "    patience=5,                 \n",
    "    restore_best_weights=True,  \n",
    "    verbose=1\n",
    ")\n",
    "\n",
    "history = model.fit(\n",
    "    x_train, y_train,\n",
    "    validation_data=(x_test, y_test),\n",
    "    epochs=100,\n",
    "    batch_size=64,\n",
    "    callbacks=[early_stop, checkpoint],\n",
    "    verbose=1\n",
    ")\n",
    "\n",
    "loss, acc = model.evaluate(x_test, y_test, verbose=0)\n",
    "print(f\"Test Accuracy: {acc:.4f}\")\n"
   ]
  },
  {
   "cell_type": "code",
   "execution_count": 168,
   "id": "bc90a498",
   "metadata": {},
   "outputs": [],
   "source": [
    "model.save('models2/smote-nc/dl2_transformer.keras')"
   ]
  },
  {
   "cell_type": "code",
   "execution_count": 169,
   "id": "a588ae5f",
   "metadata": {},
   "outputs": [
    {
     "name": "stderr",
     "output_type": "stream",
     "text": [
      "c:\\Users\\Integrated\\anaconda3\\Lib\\site-packages\\keras\\src\\ops\\nn.py:545: UserWarning: You are using a softmax over axis 3 of a tensor of shape (None, 8, 1, 1). This axis has size 1. The softmax operation will always return the value 1, which is likely not what you intended. Did you mean to use a sigmoid instead?\n",
      "  warnings.warn(\n"
     ]
    },
    {
     "data": {
      "text/plain": [
       "[0.20980645716190338, 0.9302902817726135]"
      ]
     },
     "execution_count": 169,
     "metadata": {},
     "output_type": "execute_result"
    }
   ],
   "source": [
    "m4 = load_model('models2/smote-nc/dl2_transformer.keras')\n",
    "m4.evaluate(x_test, y_test, verbose=0)"
   ]
  },
  {
   "cell_type": "code",
   "execution_count": 167,
   "id": "41a3305b",
   "metadata": {},
   "outputs": [
    {
     "data": {
      "text/plain": [
       "[0.20980645716190338, 0.9302902817726135]"
      ]
     },
     "execution_count": 167,
     "metadata": {},
     "output_type": "execute_result"
    }
   ],
   "source": [
    "model.evaluate(x_test, y_test, verbose=0)"
   ]
  },
  {
   "cell_type": "code",
   "execution_count": 166,
   "id": "1782a743",
   "metadata": {},
   "outputs": [
    {
     "data": {
      "image/png": "[encoded data removed]",
      "text/plain": [
       "<Figure size 640x480 with 1 Axes>"
      ]
     },
     "metadata": {},
     "output_type": "display_data"
    },
    {
     "data": {
      "image/png": "[encoded data removed]",
      "text/plain": [
       "<Figure size 640x480 with 1 Axes>"
      ]
     },
     "metadata": {},
     "output_type": "display_data"
    }
   ],
   "source": [
    "plot_loss_curves(history)"
   ]
  },
  {
   "cell_type": "code",
   "execution_count": null,
   "id": "200d0658",
   "metadata": {},
   "outputs": [],
   "source": []
  }
 ],
 "metadata": {
  "kernelspec": {
   "display_name": "base",
   "language": "python",
   "name": "python3"
  },
  "language_info": {
   "codemirror_mode": {
    "name": "ipython",
    "version": 3
   },
   "file_extension": ".py",
   "mimetype": "text/x-python",
   "name": "python",
   "nbconvert_exporter": "python",
   "pygments_lexer": "ipython3",
   "version": "3.11.5"
  }
 },
 "nbformat": 4,
 "nbformat_minor": 5
}
